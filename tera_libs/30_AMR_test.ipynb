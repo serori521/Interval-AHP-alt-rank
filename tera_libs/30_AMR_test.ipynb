{
 "cells": [
  {
   "cell_type": "code",
   "execution_count": 8,
   "metadata": {},
   "outputs": [],
   "source": [
    "using LaTeXStrings"
   ]
  },
  {
   "cell_type": "code",
   "execution_count": 9,
   "metadata": {},
   "outputs": [],
   "source": [
    "include(\"./libs/display-latex.jl\")\n",
    "include(\"./libs/crisp-pcm.jl\")\n",
    "include(\"./libs/solve-deterministic-ahp.jl\")\n",
    "include(\"./libs/AMR.jl\");"
   ]
  },
  {
   "cell_type": "code",
   "execution_count": 10,
   "metadata": {},
   "outputs": [
    {
     "data": {
      "text/latex": [
       "$A = \\begin{pmatrix} 1.0 & 1.0 & 2.0 & 3.0 & 6.0 \\\\1.0 & 1.0 & 2.0 & 2.0 & 6.0 \\\\0.5 & 0.5 & 1.0 & 1.0 & 5.0 \\\\0.333 & 0.5 & 1.0 & 1.0 & 1.0 \\\\0.167 & 0.167 & 0.2 & 1.0 & 1.0 \\\\ \\end{pmatrix}$"
      ],
      "text/plain": [
       "L\"$A = \\begin{pmatrix} 1.0 & 1.0 & 2.0 & 3.0 & 6.0 \\\\1.0 & 1.0 & 2.0 & 2.0 & 6.0 \\\\0.5 & 0.5 & 1.0 & 1.0 & 5.0 \\\\0.333 & 0.5 & 1.0 & 1.0 & 1.0 \\\\0.167 & 0.167 & 0.2 & 1.0 & 1.0 \\\\ \\end{pmatrix}$\""
      ]
     },
     "metadata": {},
     "output_type": "display_data"
    }
   ],
   "source": [
    "# 完全整合 のもの\n",
    "# A = [\n",
    "#     1   3   5   7\n",
    "#     1/3 1   5/3 7/3\n",
    "#     1/5 3/5 1   7/5\n",
    "#     1/7 3/7 5/7 1\n",
    "# ]\n",
    "\n",
    "# CI = 0.01 のもの\n",
    "# A = [\n",
    "#     1 2 4/3 4/3\n",
    "#     1/2 1 1 1\n",
    "#     3/4 1 1 3/2\n",
    "#     3/4 1 2/3 1.0\n",
    "# ]\n",
    "\n",
    "# A = [\n",
    "#     1 1 2/3 1\n",
    "#     1 1 4/9 2/3\n",
    "#     3/2 9/4 1 1\n",
    "#     1 3/2 1 1.0\n",
    "# ]\n",
    "\n",
    "# CI = 0.15 のもの\n",
    "# A = [\n",
    "#     1 1 2 2\n",
    "#     1 1 3 1\n",
    "#     1/2 1/3 1 3\n",
    "#     1/2 1 1/3 1\n",
    "# ]\n",
    "\n",
    "# その他テストケース\n",
    "# A = [\n",
    "#     1.0  1.0  2.0  3.0  3.0\n",
    "#     1.0  1.0  2.0  3.0  5.0\n",
    "#     1/2  1/2  1.0  1.0  3.0\n",
    "#     1/3  1/3  1.0  1.0  2.0\n",
    "#     1/3  1/5  1/3  1/2  1.0\n",
    "# ]\n",
    "\n",
    "A = [\n",
    "    1.000000 1.000000 2.000000 3.000000 6.000000\n",
    "    1.000000 1.000000 2.000000 2.000000 6.000000\n",
    "    0.500000 0.500000 1.000000 1.000000 5.000000\n",
    "    0.333333 0.500000 1.000000 1.000000 1.000000\n",
    "    0.166667 0.166667 0.200000 1.000000 1.000000\n",
    "]\n",
    "\n",
    "display(L\"A = %$(matrixLaTeXString(A))\")"
   ]
  },
  {
   "cell_type": "code",
   "execution_count": 11,
   "metadata": {},
   "outputs": [
    {
     "data": {
      "text/plain": [
       "0.053778261838655084"
      ]
     },
     "metadata": {},
     "output_type": "display_data"
    }
   ],
   "source": [
    "consistencyIndex(A)"
   ]
  },
  {
   "cell_type": "code",
   "execution_count": 12,
   "metadata": {},
   "outputs": [
    {
     "data": {
      "text/latex": [
       "$eAMRw : \\begin{pmatrix} \\left[ 0.31, 0.356 \\right] \\\\ \\left[ 0.29, 0.334 \\right] \\\\ \\left[ 0.145, 0.21 \\right] \\\\ \\left[ 0.084, 0.146 \\right] \\\\ \\left[ 0.038, 0.086 \\right] \\end{pmatrix}$"
      ],
      "text/plain": [
       "L\"$eAMRw : \\begin{pmatrix} \\left[ 0.31, 0.356 \\right] \\\\ \\left[ 0.29, 0.334 \\right] \\\\ \\left[ 0.145, 0.21 \\right] \\\\ \\left[ 0.084, 0.146 \\right] \\\\ \\left[ 0.038, 0.086 \\right] \\end{pmatrix}$\""
      ]
     },
     "metadata": {},
     "output_type": "display_data"
    }
   ],
   "source": [
    "solution = AMR(A, EV)\n",
    "W = solution.W\n",
    "display(L\"eAMRw : %$(intervalVectorLaTeXString(W))\")"
   ]
  },
  {
   "cell_type": "code",
   "execution_count": 13,
   "metadata": {},
   "outputs": [
    {
     "data": {
      "text/latex": [
       "$gAMRw : \\begin{pmatrix} \\left[ 0.316, 0.359 \\right] \\\\ \\left[ 0.29, 0.336 \\right] \\\\ \\left[ 0.145, 0.206 \\right] \\\\ \\left[ 0.083, 0.145 \\right] \\\\ \\left[ 0.038, 0.084 \\right] \\end{pmatrix}$"
      ],
      "text/plain": [
       "L\"$gAMRw : \\begin{pmatrix} \\left[ 0.316, 0.359 \\right] \\\\ \\left[ 0.29, 0.336 \\right] \\\\ \\left[ 0.145, 0.206 \\right] \\\\ \\left[ 0.083, 0.145 \\right] \\\\ \\left[ 0.038, 0.084 \\right] \\end{pmatrix}$\""
      ]
     },
     "metadata": {},
     "output_type": "display_data"
    }
   ],
   "source": [
    "solution = AMR(A, GM)\n",
    "W = solution.W\n",
    "display(L\"gAMRw : %$(intervalVectorLaTeXString(W))\")"
   ]
  },
  {
   "cell_type": "code",
   "execution_count": 14,
   "metadata": {},
   "outputs": [
    {
     "data": {
      "text/latex": [
       "$lAMRw : \\begin{pmatrix} \\left[ 0.311, 0.349 \\right] \\\\ \\left[ 0.304, 0.333 \\right] \\\\ \\left[ 0.152, 0.18 \\right] \\\\ \\left[ 0.077, 0.178 \\right] \\\\ \\left[ 0.033, 0.083 \\right] \\end{pmatrix}$"
      ],
      "text/plain": [
       "L\"$lAMRw : \\begin{pmatrix} \\left[ 0.311, 0.349 \\right] \\\\ \\left[ 0.304, 0.333 \\right] \\\\ \\left[ 0.152, 0.18 \\right] \\\\ \\left[ 0.077, 0.178 \\right] \\\\ \\left[ 0.033, 0.083 \\right] \\end{pmatrix}$\""
      ]
     },
     "metadata": {},
     "output_type": "display_data"
    }
   ],
   "source": [
    "solution = AMR(A, LM)\n",
    "W = solution.W\n",
    "display(L\"lAMRw : %$(intervalVectorLaTeXString(W))\")"
   ]
  }
 ],
 "metadata": {
  "kernelspec": {
   "display_name": "Julia 1.9.4",
   "language": "julia",
   "name": "julia-1.9"
  },
  "language_info": {
   "file_extension": ".jl",
   "mimetype": "application/julia",
   "name": "julia",
   "version": "1.9.4"
  }
 },
 "nbformat": 4,
 "nbformat_minor": 2
}
