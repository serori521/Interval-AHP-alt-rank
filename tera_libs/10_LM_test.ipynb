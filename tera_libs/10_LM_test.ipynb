{
 "cells": [
  {
   "cell_type": "markdown",
   "metadata": {},
   "source": [
    "# 10 / 20 ゼミ"
   ]
  },
  {
   "cell_type": "markdown",
   "metadata": {},
   "source": [
    "区間重要度の中心推定について，従来法と異なるアプローチを検討する．\n",
    "\n",
    "【LM(Logarithmic Median)法】  \n",
    "先行研究の区間AHP手法では，重要度の中心値が大きくなるほど幅が小さく推定される傾向がある．  \n",
    "この傾向はセッティングBでの推定精度を下げるため，上記の性質を緩和すべく，対数空間上での最適化を考える．  \n",
    "これは対数空間上でのメディアンを考えることに相当し，外れ値の影響を受けにくくなると予想される．"
   ]
  },
  {
   "cell_type": "markdown",
   "metadata": {},
   "source": [
    "$$\n",
    "\\begin{align*}\n",
    "\\operatorname{minimize} ~~ & ~~\n",
    "\\sum_{i \\in N} \\sum_{j < i} \\left| \\ln \\left( a_{ij} \\right) - \\ln \\left( \\frac{w_i}{w_j} \\right) \\right| \\\\\n",
    "\\end{align*}\n",
    "$$"
   ]
  },
  {
   "cell_type": "markdown",
   "metadata": {},
   "source": [
    "上式は非線形計画問題であるが，以下のように文字を置き換えることによって，線形計画問題に帰着する．"
   ]
  },
  {
   "cell_type": "markdown",
   "metadata": {},
   "source": [
    "$$\n",
    "\\begin{align*}\n",
    "\\operatorname{minimize} ~~ & ~~\n",
    "\\sum_{i \\in N} \\sum_{j < i} U_{ij}, \\\\\n",
    "\\text{subject to} ~~ & ~~\n",
    "\\ln \\left( a_{ij} \\right) - u_i + u_j \\leq U_{ij}, &&\n",
    "i \\in N, ~~ & j<i \\\\ & ~~\n",
    "u_i - u_j -\\ln \\left( a_{ij} \\right) \\leq U_{ij}, &&\n",
    "i \\in N, ~~ & j<i \\\\ & ~~\n",
    "u_i \\in \\mathbb{R}.\n",
    "\\end{align*}\n",
    "$$"
   ]
  },
  {
   "cell_type": "markdown",
   "metadata": {},
   "source": [
    "\n",
    "$$where ~~ u_i = \\ln \\left( w_i \\right), ~ i \\in N$$"
   ]
  },
  {
   "cell_type": "markdown",
   "metadata": {},
   "source": [
    "ここで，求まった最適解から\n",
    "$$w_i = \\lambda \\exp \\left( u_i \\right)$$\n",
    "として重みを計算することができるが，この際，総和が１になるように定める．"
   ]
  },
  {
   "cell_type": "code",
   "execution_count": 1,
   "metadata": {},
   "outputs": [],
   "source": [
    "using LaTeXStrings"
   ]
  },
  {
   "cell_type": "code",
   "execution_count": 6,
   "metadata": {},
   "outputs": [],
   "source": [
    "include(\"./libs/display-latex.jl\")\n",
    "include(\"./libs/solve-deterministic-ahp.jl\");"
   ]
  },
  {
   "cell_type": "code",
   "execution_count": 3,
   "metadata": {},
   "outputs": [
    {
     "data": {
      "text/latex": [
       "$A = \\begin{pmatrix} 1.0 & 2.0 & 4.0 & 5.0 \\\\0.5 & 1.0 & 2.0 & 2.5 \\\\0.25 & 0.5 & 1.0 & 1.25 \\\\0.2 & 0.4 & 0.8 & 1.0 \\\\ \\end{pmatrix}$"
      ],
      "text/plain": [
       "L\"$A = \\begin{pmatrix} 1.0 & 2.0 & 4.0 & 5.0 \\\\0.5 & 1.0 & 2.0 & 2.5 \\\\0.25 & 0.5 & 1.0 & 1.25 \\\\0.2 & 0.4 & 0.8 & 1.0 \\\\ \\end{pmatrix}$\""
      ]
     },
     "metadata": {},
     "output_type": "display_data"
    },
    {
     "data": {
      "text/latex": [
       "$B = \\begin{pmatrix} 1.0 & 1.0 & 2.0 & 2.0 \\\\1.0 & 1.0 & 3.0 & 1.0 \\\\0.5 & 0.333 & 1.0 & 3.0 \\\\0.5 & 1.0 & 0.333 & 1.0 \\\\ \\end{pmatrix}$"
      ],
      "text/plain": [
       "L\"$B = \\begin{pmatrix} 1.0 & 1.0 & 2.0 & 2.0 \\\\1.0 & 1.0 & 3.0 & 1.0 \\\\0.5 & 0.333 & 1.0 & 3.0 \\\\0.5 & 1.0 & 0.333 & 1.0 \\\\ \\end{pmatrix}$\""
      ]
     },
     "metadata": {},
     "output_type": "display_data"
    }
   ],
   "source": [
    "# A = [\n",
    "#     1   3   5   7\n",
    "#     1/3 1   5/3 7/3\n",
    "#     1/5 3/5 1   7/5\n",
    "#     1/7 3/7 5/7 1\n",
    "# ]\n",
    "A = [\n",
    "    1   2   4   5\n",
    "    1/2 1   2   5/2\n",
    "    1/4 1/2 1   5/4\n",
    "    1/5 2/5 4/5 1\n",
    "]\n",
    "B = [\n",
    "    1 1 2 2\n",
    "    1 1 3 1\n",
    "    1/2 1/3 1 3\n",
    "    1/2 1 1/3 1\n",
    "]\n",
    "display(L\"A = %$(matrixLaTeXString(A))\")\n",
    "display(L\"B = %$(matrixLaTeXString(B))\")"
   ]
  },
  {
   "cell_type": "code",
   "execution_count": 4,
   "metadata": {},
   "outputs": [
    {
     "data": {
      "text/latex": [
       "$EV₁ = \\begin{pmatrix} 0.513 \\\\ 0.256 \\\\ 0.128 \\\\ 0.103 \\end{pmatrix}$"
      ],
      "text/plain": [
       "L\"$EV₁ = \\begin{pmatrix} 0.513 \\\\ 0.256 \\\\ 0.128 \\\\ 0.103 \\end{pmatrix}$\""
      ]
     },
     "metadata": {},
     "output_type": "display_data"
    },
    {
     "data": {
      "text/latex": [
       "$GM₁ = \\begin{pmatrix} 0.513 \\\\ 0.256 \\\\ 0.128 \\\\ 0.103 \\end{pmatrix}$"
      ],
      "text/plain": [
       "L\"$GM₁ = \\begin{pmatrix} 0.513 \\\\ 0.256 \\\\ 0.128 \\\\ 0.103 \\end{pmatrix}$\""
      ]
     },
     "metadata": {},
     "output_type": "display_data"
    },
    {
     "data": {
      "text/latex": [
       "$LM₁ = \\begin{pmatrix} 0.513 \\\\ 0.256 \\\\ 0.128 \\\\ 0.103 \\end{pmatrix}$"
      ],
      "text/plain": [
       "L\"$LM₁ = \\begin{pmatrix} 0.513 \\\\ 0.256 \\\\ 0.128 \\\\ 0.103 \\end{pmatrix}$\""
      ]
     },
     "metadata": {},
     "output_type": "display_data"
    }
   ],
   "source": [
    "EV₁ = EV(A)\n",
    "GM₁ = GM(A)\n",
    "LM₁ = LM(A)\n",
    "display(L\"EV₁ = %$(VectorLaTeXString(EV₁))\")\n",
    "display(L\"GM₁ = %$(VectorLaTeXString(GM₁))\")\n",
    "display(L\"LM₁ = %$(VectorLaTeXString(LM₁))\")"
   ]
  },
  {
   "cell_type": "code",
   "execution_count": 5,
   "metadata": {},
   "outputs": [
    {
     "data": {
      "text/latex": [
       "$EV₂ = \\begin{pmatrix} 0.308 \\\\ 0.321 \\\\ 0.213 \\\\ 0.158 \\end{pmatrix}$"
      ],
      "text/plain": [
       "L\"$EV₂ = \\begin{pmatrix} 0.308 \\\\ 0.321 \\\\ 0.213 \\\\ 0.158 \\end{pmatrix}$\""
      ]
     },
     "metadata": {},
     "output_type": "display_data"
    },
    {
     "data": {
      "text/latex": [
       "$GM₂ = \\begin{pmatrix} 0.336 \\\\ 0.313 \\\\ 0.2 \\\\ 0.152 \\end{pmatrix}$"
      ],
      "text/plain": [
       "L\"$GM₂ = \\begin{pmatrix} 0.336 \\\\ 0.313 \\\\ 0.2 \\\\ 0.152 \\end{pmatrix}$\""
      ]
     },
     "metadata": {},
     "output_type": "display_data"
    },
    {
     "data": {
      "text/latex": [
       "$LM₂ = \\begin{pmatrix} 0.333 \\\\ 0.333 \\\\ 0.167 \\\\ 0.167 \\end{pmatrix}$"
      ],
      "text/plain": [
       "L\"$LM₂ = \\begin{pmatrix} 0.333 \\\\ 0.333 \\\\ 0.167 \\\\ 0.167 \\end{pmatrix}$\""
      ]
     },
     "metadata": {},
     "output_type": "display_data"
    }
   ],
   "source": [
    "EV₂ = EV(B)\n",
    "GM₂ = GM(B)\n",
    "LM₂ = LM(B)\n",
    "display(L\"EV₂ = %$(VectorLaTeXString(EV₂))\")\n",
    "display(L\"GM₂ = %$(VectorLaTeXString(GM₂))\")\n",
    "display(L\"LM₂ = %$(VectorLaTeXString(LM₂))\")"
   ]
  }
 ],
 "metadata": {
  "kernelspec": {
   "display_name": "Julia 1.9.4",
   "language": "julia",
   "name": "julia-1.9"
  },
  "language_info": {
   "file_extension": ".jl",
   "mimetype": "application/julia",
   "name": "julia",
   "version": "1.9.4"
  }
 },
 "nbformat": 4,
 "nbformat_minor": 2
}
