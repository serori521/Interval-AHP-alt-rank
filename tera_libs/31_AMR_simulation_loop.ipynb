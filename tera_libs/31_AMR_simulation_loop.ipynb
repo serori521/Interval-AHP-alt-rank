{
 "cells": [
  {
   "cell_type": "markdown",
   "metadata": {},
   "source": [
    "# 12/19 ゼミ  "
   ]
  },
  {
   "cell_type": "code",
   "execution_count": 16,
   "metadata": {},
   "outputs": [],
   "source": [
    "# import Pkg\n",
    "# Pkg.add(\"DataFrames\")\n",
    "# Pkg.add(\"CSV\")\n",
    "# Pkg.add(\"IntervalSets\")\n",
    "# Pkg.add(\"LatexStrings\")"
   ]
  },
  {
   "cell_type": "code",
   "execution_count": 17,
   "metadata": {},
   "outputs": [
    {
     "data": {
      "text/plain": [
       "AMR (generic function with 1 method)"
      ]
     },
     "metadata": {},
     "output_type": "display_data"
    }
   ],
   "source": [
    "using DataFrames, CSV\n",
    "using IntervalArithmetic\n",
    "using LaTeXStrings\n",
    "using Statistics\n",
    "# using Base\n",
    "include(\"./libs/display-latex.jl\")\n",
    "include(\"./libs/crisp-pcm.jl\")\n",
    "include(\"./libs/analysis-indicators.jl\")\n",
    "include(\"./libs/solve-deterministic-ahp.jl\")\n",
    "include(\"./libs/AMR.jl\")"
   ]
  },
  {
   "cell_type": "code",
   "execution_count": 18,
   "metadata": {},
   "outputs": [],
   "source": [
    "# 評価基準数\n",
    "num_criteria = [8];\n",
    "# 真の区間重要度のセッティング\n",
    "true_importance = [\"A\"]; # [\"A\", \"B\", \"C\", \"D\", \"E\"]"
   ]
  },
  {
   "cell_type": "code",
   "execution_count": 19,
   "metadata": {},
   "outputs": [
    {
     "data": {
      "text/html": [
       "<div><div style = \"float: left;\"><span>0×8 DataFrame</span></div><div style = \"clear: both;\"></div></div><div class = \"data-frame\" style = \"overflow-x: scroll;\"><table class = \"data-frame\" style = \"margin-bottom: 6px;\"><thead><tr class = \"header\"><th class = \"rowNumber\" style = \"font-weight: bold; text-align: right;\">Row</th><th style = \"text-align: left;\">Num</th><th style = \"text-align: left;\">Setting</th><th style = \"text-align: left;\">P</th><th style = \"text-align: left;\">Q</th><th style = \"text-align: left;\">R</th><th style = \"text-align: left;\">F</th><th style = \"text-align: left;\">Dist_ave</th><th style = \"text-align: left;\">Dist_std</th></tr><tr class = \"subheader headerLastRow\"><th class = \"rowNumber\" style = \"font-weight: bold; text-align: right;\"></th><th title = \"Int64\" style = \"text-align: left;\">Int64</th><th title = \"String\" style = \"text-align: left;\">String</th><th title = \"Float64\" style = \"text-align: left;\">Float64</th><th title = \"Float64\" style = \"text-align: left;\">Float64</th><th title = \"Float64\" style = \"text-align: left;\">Float64</th><th title = \"Float64\" style = \"text-align: left;\">Float64</th><th title = \"Float64\" style = \"text-align: left;\">Float64</th><th title = \"Float64\" style = \"text-align: left;\">Float64</th></tr></thead><tbody></tbody></table></div>"
      ],
      "text/latex": [
       "\\begin{tabular}{r|cccccccc}\n",
       "\t& Num & Setting & P & Q & R & F & Dist\\_ave & Dist\\_std\\\\\n",
       "\t\\hline\n",
       "\t& Int64 & String & Float64 & Float64 & Float64 & Float64 & Float64 & Float64\\\\\n",
       "\t\\hline\n",
       "\\end{tabular}\n"
      ],
      "text/plain": [
       "\u001b[1m0×8 DataFrame\u001b[0m\n",
       "\u001b[1m Row \u001b[0m│\u001b[1m Num   \u001b[0m\u001b[1m Setting \u001b[0m\u001b[1m P       \u001b[0m\u001b[1m Q       \u001b[0m\u001b[1m R       \u001b[0m\u001b[1m F       \u001b[0m\u001b[1m Dist_ave \u001b[0m\u001b[1m Dist_std \u001b[0m\n",
       "     │\u001b[90m Int64 \u001b[0m\u001b[90m String  \u001b[0m\u001b[90m Float64 \u001b[0m\u001b[90m Float64 \u001b[0m\u001b[90m Float64 \u001b[0m\u001b[90m Float64 \u001b[0m\u001b[90m Float64  \u001b[0m\u001b[90m Float64  \u001b[0m\n",
       "─────┴────────────────────────────────────────────────────────────────────────"
      ]
     },
     "metadata": {},
     "output_type": "display_data"
    }
   ],
   "source": [
    "# 出力ファイル設定\n",
    "csv_file_path = \"./out/AMR-A-3.csv\"\n",
    "\n",
    "# DataFrameを作成\n",
    "data = DataFrame(Num=Int[], Setting=String[], P=Float64[], Q=Float64[], R=Float64[], F=Float64[], Dist_ave=Float64[], Dist_std=Float64[])"
   ]
  },
  {
   "cell_type": "code",
   "execution_count": 20,
   "metadata": {},
   "outputs": [
    {
     "data": {
      "text/latex": [
       "$Pₐᵥₑ = 0.63333$"
      ],
      "text/plain": [
       "L\"$Pₐᵥₑ = 0.63333$\""
      ]
     },
     "metadata": {},
     "output_type": "display_data"
    },
    {
     "data": {
      "text/latex": [
       "$Qₐᵥₑ = 0.88962$"
      ],
      "text/plain": [
       "L\"$Qₐᵥₑ = 0.88962$\""
      ]
     },
     "metadata": {},
     "output_type": "display_data"
    },
    {
     "data": {
      "text/latex": [
       "$Rₐᵥₑ = 0.70886$"
      ],
      "text/plain": [
       "L\"$Rₐᵥₑ = 0.70886$\""
      ]
     },
     "metadata": {},
     "output_type": "display_data"
    },
    {
     "data": {
      "text/latex": [
       "$Fₐᵥₑ = 0.76406$"
      ],
      "text/plain": [
       "L\"$Fₐᵥₑ = 0.76406$\""
      ]
     },
     "metadata": {},
     "output_type": "display_data"
    },
    {
     "data": {
      "text/latex": [
       "$Pᵥₐᵣ = 0.02386$"
      ],
      "text/plain": [
       "L\"$Pᵥₐᵣ = 0.02386$\""
      ]
     },
     "metadata": {},
     "output_type": "display_data"
    },
    {
     "data": {
      "text/latex": [
       "$Qᵥₐᵣ = 0.02262$"
      ],
      "text/plain": [
       "L\"$Qᵥₐᵣ = 0.02262$\""
      ]
     },
     "metadata": {},
     "output_type": "display_data"
    },
    {
     "data": {
      "text/latex": [
       "$Rᵥₐᵣ = 0.03411$"
      ],
      "text/plain": [
       "L\"$Rᵥₐᵣ = 0.03411$\""
      ]
     },
     "metadata": {},
     "output_type": "display_data"
    },
    {
     "data": {
      "text/latex": [
       "$Fᵥₐᵣ = 0.01497$"
      ],
      "text/plain": [
       "L\"$Fᵥₐᵣ = 0.01497$\""
      ]
     },
     "metadata": {},
     "output_type": "display_data"
    },
    {
     "name": "stdout",
     "output_type": "stream",
     "text": [
      "N = 8\n",
      "setting = A\n"
     ]
    }
   ],
   "source": [
    "# 真の区間重要度を読み込み\n",
    "for N in num_criteria\n",
    "        \n",
    "    for setting in true_importance\n",
    "        df = CSV.File(\"./data/N\"*string(N)*\"_\"*setting*\"_Given_interval_weight.csv\", header=false) |> DataFrame\n",
    "        T = Vector{Interval{Float64}}() # Float64のところにTを使うとおかしくなるのはなぜか？\n",
    "        for i in 1:N\n",
    "            push!(T, interval(df[1, 2*i-1], df[1, 2*i]))\n",
    "        end\n",
    "\n",
    "        # display(L\"T = %$(intervalVectorLaTeXString(T))\")\n",
    "        # 一対比較行列を1000個読み込み\n",
    "        df1 = CSV.File(\"./data/N\"*string(N)*\"_a3_\"*setting*\"_PCM_int.csv\", header=false) |> DataFrame\n",
    "\n",
    "        # データフレームをN×Nのサブデータフレームに分割\n",
    "        subdfs = split_dataframe(df1, N);\n",
    "        # 結果格納用\n",
    "        P = Matrix{Float64}(undef, N, 1000)\n",
    "        Q = Matrix{Float64}(undef, N, 1000)\n",
    "        R = Matrix{Float64}(undef, N, 1000)\n",
    "        F = Matrix{Float64}(undef, N, 1000)\n",
    "        Distance = Vector{Float64}(undef, 1000)\n",
    "\n",
    "        # 1000個のデータで推定\n",
    "        for (i, subdf) in enumerate(subdfs)\n",
    "\n",
    "            # 一対比較行列を取り出す\n",
    "            A = Matrix(subdf)\n",
    "            # display(L\"A = %$(matrixLaTeXString(A))\")\n",
    "            # if i == 779\n",
    "            #     println(\"i = \", i)\n",
    "            #     display(L\"A = %$(matrixLaTeXString(A))\")\n",
    "            # end\n",
    "\n",
    "            # 提案手法で区間重要度推定\n",
    "            solution = AMR(A, ALD)\n",
    "            E = solution.W # 区間重要度の推定値\n",
    "            # display(L\"E = %$(intervalVectorLaTeXString(E))\")\n",
    "            # display(L\"T = %$(intervalVectorLaTeXString(T))\")\n",
    "\n",
    "            TcapE = T .∩ E # 真の区間重要度と推定値の積集合\n",
    "            TcupE = T .∪ E # 真の区間重要度と推定値の和集合\n",
    "            # display(L\"T ∩ E = %$(intervalVectorLaTeXString(TcapE))\")\n",
    "            # display(L\"T ∪ E = %$(intervalVectorLaTeXString(TcupE))\")\n",
    "            \n",
    "            # P, Q, R, F の計算\n",
    "            P[:, i] = calculate_P(T, E) # 真の区間重要度と推定値の積集合の割合\n",
    "            Q[:, i] = calculate_Q(T, E) # 真の区間重要度と推定値の積集合の割合\n",
    "            R[:, i] = calculate_R(T, E) # 真の区間重要度と推定値の積集合の割合\n",
    "            F[:, i] = calculate_F(T, E) # F値\n",
    "            Distance[i] = calculate_manhattan(interval_centers(T), interval_centers(E))/N\n",
    "            # println(\"i = \", i)\n",
    "            # display(L\"P = %$(VectorLaTeXString(P[:,i]))\")\n",
    "            # display(L\"Q = %$(VectorLaTeXString(Q[:,i]))\")\n",
    "            # display(L\"R = %$(VectorLaTeXString(R[:,i]))\")\n",
    "            # display(L\"F = %$(VectorLaTeXString(F[:,i]))\")\n",
    "        end\n",
    "\n",
    "        println(\"N = \", N)\n",
    "        println(\"setting = \", setting)\n",
    "\n",
    "        P_ave = mean(P)\n",
    "        Q_ave = mean(Q)\n",
    "        R_ave = mean(R)\n",
    "        F_ave = mean(F)\n",
    "        Dist_ave = mean(Distance)\n",
    "        Dist_std = std(Distance)\n",
    "        # DataFrameにデータを追加\n",
    "        push!(data, (N, setting, P_ave, Q_ave, R_ave, F_ave, Dist_ave, Dist_std))\n",
    "\n",
    "        display(L\"Pₐᵥₑ = %$(round(P_ave, digits=5))\")\n",
    "        display(L\"Qₐᵥₑ = %$(round(Q_ave, digits=5))\")\n",
    "        display(L\"Rₐᵥₑ = %$(round(R_ave, digits=5))\")\n",
    "        display(L\"Fₐᵥₑ = %$(round(F_ave, digits=5))\")\n",
    "        P_var = var(P)\n",
    "        Q_var = var(Q)\n",
    "        R_var = var(R)\n",
    "        F_var = var(F)\n",
    "        display(L\"Pᵥₐᵣ = %$(round(P_var, digits=5))\")\n",
    "        display(L\"Qᵥₐᵣ = %$(round(Q_var, digits=5))\")\n",
    "        display(L\"Rᵥₐᵣ = %$(round(R_var, digits=5))\")\n",
    "        display(L\"Fᵥₐᵣ = %$(round(F_var, digits=5))\")\n",
    "\n",
    "    end\n",
    "end\n",
    "\n",
    "# DataFrameをCSVファイルに書き込み\n",
    "# CSV.write(csv_file_path, data)\n"
   ]
  }
 ],
 "metadata": {
  "kernelspec": {
   "display_name": "Julia 1.9.4",
   "language": "julia",
   "name": "julia-1.9"
  },
  "language_info": {
   "file_extension": ".jl",
   "mimetype": "application/julia",
   "name": "julia",
   "version": "1.9.4"
  }
 },
 "nbformat": 4,
 "nbformat_minor": 2
}
