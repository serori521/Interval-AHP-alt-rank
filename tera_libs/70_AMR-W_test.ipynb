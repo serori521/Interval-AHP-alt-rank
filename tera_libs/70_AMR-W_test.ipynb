{
 "cells": [
  {
   "cell_type": "code",
   "execution_count": 70,
   "metadata": {},
   "outputs": [],
   "source": [
    "using LaTeXStrings"
   ]
  },
  {
   "cell_type": "code",
   "execution_count": 71,
   "metadata": {},
   "outputs": [],
   "source": [
    "include(\"./libs/display-latex.jl\")\n",
    "include(\"./libs/crisp-pcm.jl\")\n",
    "include(\"./libs/solve-deterministic-ahp.jl\")\n",
    "include(\"./libs/AMR-W.jl\");"
   ]
  },
  {
   "cell_type": "code",
   "execution_count": 73,
   "metadata": {},
   "outputs": [
    {
     "data": {
      "text/latex": [
       "$A = \\begin{pmatrix} 1.0 & 2.0 & 2.0 & 1.0 & 3.0 & 3.0 \\\\0.5 & 1.0 & 2.0 & 2.0 & 1.0 & 2.0 \\\\0.5 & 0.5 & 1.0 & 2.0 & 1.0 & 2.0 \\\\1.0 & 0.5 & 0.5 & 1.0 & 2.0 & 3.0 \\\\0.333 & 1.0 & 1.0 & 0.5 & 1.0 & 1.0 \\\\0.333 & 0.5 & 0.5 & 0.333 & 1.0 & 1.0 \\\\ \\end{pmatrix}$"
      ],
      "text/plain": [
       "L\"$A = \\begin{pmatrix} 1.0 & 2.0 & 2.0 & 1.0 & 3.0 & 3.0 \\\\0.5 & 1.0 & 2.0 & 2.0 & 1.0 & 2.0 \\\\0.5 & 0.5 & 1.0 & 2.0 & 1.0 & 2.0 \\\\1.0 & 0.5 & 0.5 & 1.0 & 2.0 & 3.0 \\\\0.333 & 1.0 & 1.0 & 0.5 & 1.0 & 1.0 \\\\0.333 & 0.5 & 0.5 & 0.333 & 1.0 & 1.0 \\\\ \\end{pmatrix}$\""
      ]
     },
     "metadata": {},
     "output_type": "display_data"
    }
   ],
   "source": [
    "# 完全整合 のもの\n",
    "# A = [\n",
    "#     1   3   5   7\n",
    "#     1/3 1   5/3 7/3\n",
    "#     1/5 3/5 1   7/5\n",
    "#     1/7 3/7 5/7 1\n",
    "# ]\n",
    "\n",
    "# CI = 0.01 のもの\n",
    "# A = [\n",
    "#     1 2 4/3 4/3\n",
    "#     1/2 1 1 1\n",
    "#     3/4 1 1 3/2\n",
    "#     3/4 1 2/3 1.0\n",
    "# ]\n",
    "\n",
    "# A = [\n",
    "#     1 1 2/3 1\n",
    "#     1 1 4/9 2/3\n",
    "#     3/2 9/4 1 1\n",
    "#     1 3/2 1 1.0\n",
    "# ]\n",
    "\n",
    "A = [\n",
    "    1.000000 2.000000 2.000000 1.000000 3.000000 3.000000\n",
    "    0.500000 1.000000 2.000000 2.000000 1.000000 2.000000\n",
    "    0.500000 0.500000 1.000000 2.000000 1.000000 2.000000\n",
    "    1.000000 0.500000 0.500000 1.000000 2.000000 3.000000\n",
    "    0.333333 1.000000 1.000000 0.500000 1.000000 1.000000\n",
    "    0.333333 0.500000 0.500000 0.333333 1.000000 1.000000\n",
    "]\n",
    "# A = [\n",
    "#     1.000000 1.000000 2.000000 3.000000\n",
    "#     1.000000 1.000000 2.000000 2.000000\n",
    "#     0.500000 0.500000 1.000000 1.000000\n",
    "#     0.333333 0.500000 1.000000 1.000000\n",
    "# ]\n",
    "\n",
    "# CI = 0.15 のもの\n",
    "# A = [\n",
    "#     1 1 2 2\n",
    "#     1 1 3 1\n",
    "#     1/2 1/3 1 3\n",
    "#     1/2 1 1/3 1\n",
    "# ]\n",
    "\n",
    "# その他テストケース\n",
    "# A = [\n",
    "#     1.0  1.0  2.0  3.0  3.0\n",
    "#     1.0  1.0  2.0  3.0  5.0\n",
    "#     1/2  1/2  1.0  1.0  3.0\n",
    "#     1/3  1/3  1.0  1.0  2.0\n",
    "#     1/3  1/5  1/3  1/2  1.0\n",
    "# ]\n",
    "\n",
    "# A = [\n",
    "#     1.000000 1.000000 2.000000 3.000000 6.000000\n",
    "#     1.000000 1.000000 2.000000 2.000000 6.000000\n",
    "#     0.500000 0.500000 1.000000 1.000000 5.000000\n",
    "#     0.333333 0.500000 1.000000 1.000000 1.000000\n",
    "#     0.166667 0.166667 0.200000 1.000000 1.000000\n",
    "# ]\n",
    "\n",
    "display(L\"A = %$(matrixLaTeXString(A))\")"
   ]
  },
  {
   "cell_type": "code",
   "execution_count": 74,
   "metadata": {},
   "outputs": [
    {
     "data": {
      "text/plain": [
       "0.079650085694065"
      ]
     },
     "metadata": {},
     "output_type": "display_data"
    }
   ],
   "source": [
    "consistencyIndex(A)"
   ]
  },
  {
   "cell_type": "code",
   "execution_count": 75,
   "metadata": {},
   "outputs": [
    {
     "data": {
      "text/latex": [
       "$E-AMRw : \\begin{pmatrix} \\left[ 0.255, 0.293 \\right] \\\\ \\left[ 0.138, 0.26 \\right] \\\\ \\left[ 0.13, 0.188 \\right] \\\\ \\left[ 0.089, 0.255 \\right] \\\\ \\left[ 0.085, 0.144 \\right] \\\\ \\left[ 0.077, 0.086 \\right] \\end{pmatrix}$"
      ],
      "text/plain": [
       "L\"$E-AMRw : \\begin{pmatrix} \\left[ 0.255, 0.293 \\right] \\\\ \\left[ 0.138, 0.26 \\right] \\\\ \\left[ 0.13, 0.188 \\right] \\\\ \\left[ 0.089, 0.255 \\right] \\\\ \\left[ 0.085, 0.144 \\right] \\\\ \\left[ 0.077, 0.086 \\right] \\end{pmatrix}$\""
      ]
     },
     "metadata": {},
     "output_type": "display_data"
    }
   ],
   "source": [
    "solution = AMR_W(A, EV)\n",
    "W = solution.W\n",
    "display(L\"E-AMRw : %$(intervalVectorLaTeXString(W))\")"
   ]
  },
  {
   "cell_type": "code",
   "execution_count": 76,
   "metadata": {},
   "outputs": [
    {
     "data": {
      "text/latex": [
       "$G-AMRw : \\begin{pmatrix} \\left[ 0.26, 0.304 \\right] \\\\ \\left[ 0.135, 0.256 \\right] \\\\ \\left[ 0.128, 0.182 \\right] \\\\ \\left[ 0.072, 0.26 \\right] \\\\ \\left[ 0.089, 0.141 \\right] \\\\ \\left[ 0.08, 0.091 \\right] \\end{pmatrix}$"
      ],
      "text/plain": [
       "L\"$G-AMRw : \\begin{pmatrix} \\left[ 0.26, 0.304 \\right] \\\\ \\left[ 0.135, 0.256 \\right] \\\\ \\left[ 0.128, 0.182 \\right] \\\\ \\left[ 0.072, 0.26 \\right] \\\\ \\left[ 0.089, 0.141 \\right] \\\\ \\left[ 0.08, 0.091 \\right] \\end{pmatrix}$\""
      ]
     },
     "metadata": {},
     "output_type": "display_data"
    }
   ],
   "source": [
    "solution = AMR_W(A, GM)\n",
    "W = solution.W\n",
    "display(L\"G-AMRw : %$(intervalVectorLaTeXString(W))\")"
   ]
  },
  {
   "cell_type": "code",
   "execution_count": 77,
   "metadata": {},
   "outputs": [
    {
     "data": {
      "text/latex": [
       "$L-AMRw : \\begin{pmatrix} \\left[ 0.236, 0.264 \\right] \\\\ \\left[ 0.125, 0.208 \\right] \\\\ \\left[ 0.075, 0.175 \\right] \\\\ \\left[ 0.087, 0.413 \\right] \\\\ \\left[ 0.076, 0.174 \\right] \\\\ \\left[ 0.071, 0.095 \\right] \\end{pmatrix}$"
      ],
      "text/plain": [
       "L\"$L-AMRw : \\begin{pmatrix} \\left[ 0.236, 0.264 \\right] \\\\ \\left[ 0.125, 0.208 \\right] \\\\ \\left[ 0.075, 0.175 \\right] \\\\ \\left[ 0.087, 0.413 \\right] \\\\ \\left[ 0.076, 0.174 \\right] \\\\ \\left[ 0.071, 0.095 \\right] \\end{pmatrix}$\""
      ]
     },
     "metadata": {},
     "output_type": "display_data"
    }
   ],
   "source": [
    "solution = AMR_W(A, LM)\n",
    "W = solution.W\n",
    "display(L\"L-AMRw : %$(intervalVectorLaTeXString(W))\")"
   ]
  }
 ],
 "metadata": {
  "kernelspec": {
   "display_name": "Julia 1.9.4",
   "language": "julia",
   "name": "julia-1.9"
  },
  "language_info": {
   "file_extension": ".jl",
   "mimetype": "application/julia",
   "name": "julia",
   "version": "1.9.4"
  }
 },
 "nbformat": 4,
 "nbformat_minor": 2
}
