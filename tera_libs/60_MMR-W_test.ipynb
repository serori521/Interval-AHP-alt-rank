{
 "cells": [
  {
   "cell_type": "code",
   "execution_count": 1,
   "metadata": {},
   "outputs": [],
   "source": [
    "using LaTeXStrings"
   ]
  },
  {
   "cell_type": "code",
   "execution_count": 2,
   "metadata": {},
   "outputs": [],
   "source": [
    "include(\"./libs/display-latex.jl\")\n",
    "include(\"./libs/crisp-pcm.jl\")\n",
    "include(\"./libs/solve-deterministic-ahp.jl\")\n",
    "include(\"./libs/MMR-W.jl\");"
   ]
  },
  {
   "cell_type": "code",
   "execution_count": 3,
   "metadata": {},
   "outputs": [
    {
     "data": {
      "text/latex": [
       "$A = \\begin{pmatrix} 1.0 & 1.0 & 2.0 & 3.0 & 6.0 \\\\1.0 & 1.0 & 2.0 & 2.0 & 6.0 \\\\0.5 & 0.5 & 1.0 & 1.0 & 5.0 \\\\0.333 & 0.5 & 1.0 & 1.0 & 1.0 \\\\0.167 & 0.167 & 0.2 & 1.0 & 1.0 \\\\ \\end{pmatrix}$"
      ],
      "text/plain": [
       "L\"$A = \\begin{pmatrix} 1.0 & 1.0 & 2.0 & 3.0 & 6.0 \\\\1.0 & 1.0 & 2.0 & 2.0 & 6.0 \\\\0.5 & 0.5 & 1.0 & 1.0 & 5.0 \\\\0.333 & 0.5 & 1.0 & 1.0 & 1.0 \\\\0.167 & 0.167 & 0.2 & 1.0 & 1.0 \\\\ \\end{pmatrix}$\""
      ]
     },
     "metadata": {},
     "output_type": "display_data"
    }
   ],
   "source": [
    "# 完全整合 のもの\n",
    "# A = [\n",
    "#     1   3   5   7\n",
    "#     1/3 1   5/3 7/3\n",
    "#     1/5 3/5 1   7/5\n",
    "#     1/7 3/7 5/7 1\n",
    "# ]\n",
    "\n",
    "# CI = 0.01 のもの\n",
    "# A = [\n",
    "#     1 2 4/3 4/3\n",
    "#     1/2 1 1 1\n",
    "#     3/4 1 1 3/2\n",
    "#     3/4 1 2/3 1.0\n",
    "# ]\n",
    "\n",
    "# A = [\n",
    "#     1 1 2/3 1\n",
    "#     1 1 4/9 2/3\n",
    "#     3/2 9/4 1 1\n",
    "#     1 3/2 1 1.0\n",
    "# ]\n",
    "\n",
    "# CI = 0.15 のもの\n",
    "# A = [\n",
    "#     1 1 2 2\n",
    "#     1 1 3 1\n",
    "#     1/2 1/3 1 3\n",
    "#     1/2 1 1/3 1\n",
    "# ]\n",
    "\n",
    "# その他テストケース\n",
    "# A = [\n",
    "#     1.0  1.0  2.0  3.0  3.0\n",
    "#     1.0  1.0  2.0  3.0  5.0\n",
    "#     1/2  1/2  1.0  1.0  3.0\n",
    "#     1/3  1/3  1.0  1.0  2.0\n",
    "#     1/3  1/5  1/3  1/2  1.0\n",
    "# ]\n",
    "\n",
    "A = [\n",
    "    1.000000 1.000000 2.000000 3.000000 6.000000\n",
    "    1.000000 1.000000 2.000000 2.000000 6.000000\n",
    "    0.500000 0.500000 1.000000 1.000000 5.000000\n",
    "    0.333333 0.500000 1.000000 1.000000 1.000000\n",
    "    0.166667 0.166667 0.200000 1.000000 1.000000\n",
    "]\n",
    "\n",
    "display(L\"A = %$(matrixLaTeXString(A))\")"
   ]
  },
  {
   "cell_type": "code",
   "execution_count": 4,
   "metadata": {},
   "outputs": [
    {
     "data": {
      "text/plain": [
       "0.053778261838655084"
      ]
     },
     "metadata": {},
     "output_type": "display_data"
    }
   ],
   "source": [
    "consistencyIndex(A)"
   ]
  },
  {
   "cell_type": "code",
   "execution_count": 5,
   "metadata": {},
   "outputs": [
    {
     "data": {
      "text/latex": [
       "$E-MMRw : \\begin{pmatrix} \\left[ 0.308, 0.354 \\right] \\\\ \\left[ 0.286, 0.331 \\right] \\\\ \\left[ 0.154, 0.202 \\right] \\\\ \\left[ 0.074, 0.166 \\right] \\\\ \\left[ 0.038, 0.086 \\right] \\end{pmatrix}$"
      ],
      "text/plain": [
       "L\"$E-MMRw : \\begin{pmatrix} \\left[ 0.308, 0.354 \\right] \\\\ \\left[ 0.286, 0.331 \\right] \\\\ \\left[ 0.154, 0.202 \\right] \\\\ \\left[ 0.074, 0.166 \\right] \\\\ \\left[ 0.038, 0.086 \\right] \\end{pmatrix}$\""
      ]
     },
     "metadata": {},
     "output_type": "display_data"
    }
   ],
   "source": [
    "solution = MMR_W(A, EV)\n",
    "W = solution.W\n",
    "display(L\"E-MMRw : %$(intervalVectorLaTeXString(W))\")"
   ]
  },
  {
   "cell_type": "code",
   "execution_count": 6,
   "metadata": {},
   "outputs": [
    {
     "data": {
      "text/latex": [
       "$G-MMRw : \\begin{pmatrix} \\left[ 0.313, 0.366 \\right] \\\\ \\left[ 0.286, 0.339 \\right] \\\\ \\left[ 0.153, 0.194 \\right] \\\\ \\left[ 0.062, 0.169 \\right] \\\\ \\left[ 0.035, 0.082 \\right] \\end{pmatrix}$"
      ],
      "text/plain": [
       "L\"$G-MMRw : \\begin{pmatrix} \\left[ 0.313, 0.366 \\right] \\\\ \\left[ 0.286, 0.339 \\right] \\\\ \\left[ 0.153, 0.194 \\right] \\\\ \\left[ 0.062, 0.169 \\right] \\\\ \\left[ 0.035, 0.082 \\right] \\end{pmatrix}$\""
      ]
     },
     "metadata": {},
     "output_type": "display_data"
    }
   ],
   "source": [
    "solution = MMR_W(A, GM)\n",
    "W = solution.W\n",
    "display(L\"G-MMRw : %$(intervalVectorLaTeXString(W))\")"
   ]
  },
  {
   "cell_type": "code",
   "execution_count": 7,
   "metadata": {},
   "outputs": [
    {
     "data": {
      "text/latex": [
       "$L-MMRw : \\begin{pmatrix} \\left[ 0.3, 0.367 \\right] \\\\ \\left[ 0.296, 0.37 \\right] \\\\ \\left[ 0.102, 0.231 \\right] \\\\ \\left[ 0.056, 0.167 \\right] \\\\ \\left[ 0.0, 0.111 \\right] \\end{pmatrix}$"
      ],
      "text/plain": [
       "L\"$L-MMRw : \\begin{pmatrix} \\left[ 0.3, 0.367 \\right] \\\\ \\left[ 0.296, 0.37 \\right] \\\\ \\left[ 0.102, 0.231 \\right] \\\\ \\left[ 0.056, 0.167 \\right] \\\\ \\left[ 0.0, 0.111 \\right] \\end{pmatrix}$\""
      ]
     },
     "metadata": {},
     "output_type": "display_data"
    }
   ],
   "source": [
    "solution = MMR_W(A, LM)\n",
    "W = solution.W\n",
    "display(L\"L-MMRw : %$(intervalVectorLaTeXString(W))\")"
   ]
  }
 ],
 "metadata": {
  "kernelspec": {
   "display_name": "Julia 1.9.4",
   "language": "julia",
   "name": "julia-1.9"
  },
  "language_info": {
   "file_extension": ".jl",
   "mimetype": "application/julia",
   "name": "julia",
   "version": "1.9.4"
  }
 },
 "nbformat": 4,
 "nbformat_minor": 2
}
