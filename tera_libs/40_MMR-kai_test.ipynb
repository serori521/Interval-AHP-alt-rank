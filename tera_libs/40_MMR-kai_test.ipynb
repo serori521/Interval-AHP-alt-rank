{
 "cells": [
  {
   "cell_type": "code",
   "execution_count": 8,
   "metadata": {},
   "outputs": [],
   "source": [
    "using LaTeXStrings"
   ]
  },
  {
   "cell_type": "code",
   "execution_count": 9,
   "metadata": {},
   "outputs": [],
   "source": [
    "include(\"./libs/display-latex.jl\")\n",
    "include(\"./libs/crisp-pcm.jl\")\n",
    "include(\"./libs/solve-deterministic-ahp.jl\")\n",
    "include(\"./libs/MMR-kai.jl\");"
   ]
  },
  {
   "cell_type": "code",
   "execution_count": 10,
   "metadata": {},
   "outputs": [
    {
     "data": {
      "text/latex": [
       "$A = \\begin{pmatrix} 1.0 & 1.0 & 2.0 & 3.0 & 6.0 \\\\1.0 & 1.0 & 2.0 & 2.0 & 6.0 \\\\0.5 & 0.5 & 1.0 & 1.0 & 5.0 \\\\0.333 & 0.5 & 1.0 & 1.0 & 1.0 \\\\0.167 & 0.167 & 0.2 & 1.0 & 1.0 \\\\ \\end{pmatrix}$"
      ],
      "text/plain": [
       "L\"$A = \\begin{pmatrix} 1.0 & 1.0 & 2.0 & 3.0 & 6.0 \\\\1.0 & 1.0 & 2.0 & 2.0 & 6.0 \\\\0.5 & 0.5 & 1.0 & 1.0 & 5.0 \\\\0.333 & 0.5 & 1.0 & 1.0 & 1.0 \\\\0.167 & 0.167 & 0.2 & 1.0 & 1.0 \\\\ \\end{pmatrix}$\""
      ]
     },
     "metadata": {},
     "output_type": "display_data"
    }
   ],
   "source": [
    "# 完全整合 のもの\n",
    "# A = [\n",
    "#     1   3   5   7\n",
    "#     1/3 1   5/3 7/3\n",
    "#     1/5 3/5 1   7/5\n",
    "#     1/7 3/7 5/7 1\n",
    "# ]\n",
    "\n",
    "# CI = 0.01 のもの\n",
    "# A = [\n",
    "#     1 2 4/3 4/3\n",
    "#     1/2 1 1 1\n",
    "#     3/4 1 1 3/2\n",
    "#     3/4 1 2/3 1.0\n",
    "# ]\n",
    "\n",
    "# A = [\n",
    "#     1 1 2/3 1\n",
    "#     1 1 4/9 2/3\n",
    "#     3/2 9/4 1 1\n",
    "#     1 3/2 1 1.0\n",
    "# ]\n",
    "\n",
    "# CI = 0.15 のもの\n",
    "# A = [\n",
    "#     1 1 2 2\n",
    "#     1 1 3 1\n",
    "#     1/2 1/3 1 3\n",
    "#     1/2 1 1/3 1\n",
    "# ]\n",
    "\n",
    "# その他テストケース\n",
    "# A = [\n",
    "#     1.0  1.0  2.0  3.0  3.0\n",
    "#     1.0  1.0  2.0  3.0  5.0\n",
    "#     1/2  1/2  1.0  1.0  3.0\n",
    "#     1/3  1/3  1.0  1.0  2.0\n",
    "#     1/3  1/5  1/3  1/2  1.0\n",
    "# ]\n",
    "\n",
    "A = [\n",
    "    1.000000 1.000000 2.000000 3.000000 6.000000\n",
    "    1.000000 1.000000 2.000000 2.000000 6.000000\n",
    "    0.500000 0.500000 1.000000 1.000000 5.000000\n",
    "    0.333333 0.500000 1.000000 1.000000 1.000000\n",
    "    0.166667 0.166667 0.200000 1.000000 1.000000\n",
    "]\n",
    "\n",
    "display(L\"A = %$(matrixLaTeXString(A))\")"
   ]
  },
  {
   "cell_type": "code",
   "execution_count": 11,
   "metadata": {},
   "outputs": [
    {
     "data": {
      "text/plain": [
       "0.053778261838655084"
      ]
     },
     "metadata": {},
     "output_type": "display_data"
    }
   ],
   "source": [
    "consistencyIndex(A)"
   ]
  },
  {
   "cell_type": "code",
   "execution_count": 12,
   "metadata": {},
   "outputs": [
    {
     "data": {
      "text/latex": [
       "$eMMRw/c : \\begin{pmatrix} \\left[ 0.291, 0.357 \\right] \\\\ \\left[ 0.265, 0.323 \\right] \\\\ \\left[ 0.133, 0.262 \\right] \\\\ \\left[ 0.068, 0.157 \\right] \\\\ \\left[ 0.025, 0.119 \\right] \\end{pmatrix}$"
      ],
      "text/plain": [
       "L\"$eMMRw/c : \\begin{pmatrix} \\left[ 0.291, 0.357 \\right] \\\\ \\left[ 0.265, 0.323 \\right] \\\\ \\left[ 0.133, 0.262 \\right] \\\\ \\left[ 0.068, 0.157 \\right] \\\\ \\left[ 0.025, 0.119 \\right] \\end{pmatrix}$\""
      ]
     },
     "metadata": {},
     "output_type": "display_data"
    }
   ],
   "source": [
    "solution = MMR_kai(A, EV)\n",
    "W = solution.W\n",
    "display(L\"eMMRw/c : %$(intervalVectorLaTeXString(W))\")"
   ]
  },
  {
   "cell_type": "code",
   "execution_count": 13,
   "metadata": {},
   "outputs": [
    {
     "data": {
      "text/latex": [
       "$gMMRw/c : \\begin{pmatrix} \\left[ 0.292, 0.354 \\right] \\\\ \\left[ 0.258, 0.334 \\right] \\\\ \\left[ 0.129, 0.266 \\right] \\\\ \\left[ 0.069, 0.157 \\right] \\\\ \\left[ 0.023, 0.118 \\right] \\end{pmatrix}$"
      ],
      "text/plain": [
       "L\"$gMMRw/c : \\begin{pmatrix} \\left[ 0.292, 0.354 \\right] \\\\ \\left[ 0.258, 0.334 \\right] \\\\ \\left[ 0.129, 0.266 \\right] \\\\ \\left[ 0.069, 0.157 \\right] \\\\ \\left[ 0.023, 0.118 \\right] \\end{pmatrix}$\""
      ]
     },
     "metadata": {},
     "output_type": "display_data"
    }
   ],
   "source": [
    "solution = MMR_kai(A, GM)\n",
    "W = solution.W\n",
    "display(L\"gMMRw/c : %$(intervalVectorLaTeXString(W))\")"
   ]
  },
  {
   "cell_type": "code",
   "execution_count": 14,
   "metadata": {},
   "outputs": [
    {
     "data": {
      "text/latex": [
       "$lMMRw/c : \\begin{pmatrix} \\left[ 0.292, 0.324 \\right] \\\\ \\left[ 0.288, 0.324 \\right] \\\\ \\left[ 0.144, 0.251 \\right] \\\\ \\left[ 0.05, 0.201 \\right] \\\\ \\left[ 0.0, 0.127 \\right] \\end{pmatrix}$"
      ],
      "text/plain": [
       "L\"$lMMRw/c : \\begin{pmatrix} \\left[ 0.292, 0.324 \\right] \\\\ \\left[ 0.288, 0.324 \\right] \\\\ \\left[ 0.144, 0.251 \\right] \\\\ \\left[ 0.05, 0.201 \\right] \\\\ \\left[ 0.0, 0.127 \\right] \\end{pmatrix}$\""
      ]
     },
     "metadata": {},
     "output_type": "display_data"
    }
   ],
   "source": [
    "solution = MMR_kai(A, LM)\n",
    "W = solution.W\n",
    "display(L\"lMMRw/c : %$(intervalVectorLaTeXString(W))\")"
   ]
  }
 ],
 "metadata": {
  "kernelspec": {
   "display_name": "Julia 1.9.4",
   "language": "julia",
   "name": "julia-1.9"
  },
  "language_info": {
   "file_extension": ".jl",
   "mimetype": "application/julia",
   "name": "julia",
   "version": "1.9.4"
  }
 },
 "nbformat": 4,
 "nbformat_minor": 2
}
