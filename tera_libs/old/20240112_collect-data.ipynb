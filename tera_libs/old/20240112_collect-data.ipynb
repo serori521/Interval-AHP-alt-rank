{
 "cells": [
  {
   "cell_type": "code",
   "execution_count": 70,
   "metadata": {},
   "outputs": [],
   "source": [
    "# import Pkg\n",
    "# Pkg.add(\"Glob\")"
   ]
  },
  {
   "cell_type": "code",
   "execution_count": 71,
   "metadata": {},
   "outputs": [
    {
     "data": {
      "text/plain": [
       "test (generic function with 1 method)"
      ]
     },
     "metadata": {},
     "output_type": "display_data"
    }
   ],
   "source": [
    "include(\"./libs/collect-data.jl\")"
   ]
  },
  {
   "cell_type": "code",
   "execution_count": 72,
   "metadata": {},
   "outputs": [
    {
     "name": "stdout",
     "output_type": "stream",
     "text": [
      "String[]\n"
     ]
    }
   ],
   "source": [
    "input_directory = \"./test\"\n",
    "output_file = \"./test/collect-data-test.csv\"\n",
    "\n",
    "# output_file = \"./out/collect-data-test.csv\"\n",
    "test(input_directory, output_file)"
   ]
  },
  {
   "cell_type": "code",
   "execution_count": 73,
   "metadata": {},
   "outputs": [],
   "source": [
    "# 入力ディレクトリと出力ファイルを指定して実行\n",
    "# input_directory = \"D:/卒業研究/data/Simp\"\n",
    "# output_file = \"./out/collect-data.csv\"\n",
    "# process_files(input_directory, output_file)"
   ]
  }
 ],
 "metadata": {
  "kernelspec": {
   "display_name": "Julia 1.9.4",
   "language": "julia",
   "name": "julia-1.9"
  },
  "language_info": {
   "file_extension": ".jl",
   "mimetype": "application/julia",
   "name": "julia",
   "version": "1.9.4"
  }
 },
 "nbformat": 4,
 "nbformat_minor": 2
}
