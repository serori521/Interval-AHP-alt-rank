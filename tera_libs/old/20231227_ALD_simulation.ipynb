{
 "cells": [
  {
   "cell_type": "code",
   "execution_count": 1,
   "metadata": {},
   "outputs": [],
   "source": [
    "# import Pkg\n",
    "# Pkg.add(\"DataFrames\")\n",
    "# Pkg.add(\"CSV\")\n",
    "# Pkg.add(\"IntervalSets\")\n",
    "# Pkg.add(\"LatexStrings\")"
   ]
  },
  {
   "cell_type": "code",
   "execution_count": 2,
   "metadata": {},
   "outputs": [
    {
     "data": {
      "text/plain": [
       "est_in_range (generic function with 1 method)"
      ]
     },
     "metadata": {},
     "output_type": "display_data"
    }
   ],
   "source": [
    "using DataFrames, CSV\n",
    "using IntervalArithmetic\n",
    "using LaTeXStrings\n",
    "using Statistics\n",
    "# using Base\n",
    "include(\"./libs/display-latex.jl\")\n",
    "include(\"./libs/crisp-pcm.jl\")\n",
    "include(\"./libs/solve-deterministic-ahp.jl\")\n",
    "include(\"./libs/analysis-indicators.jl\")"
   ]
  },
  {
   "cell_type": "code",
   "execution_count": 3,
   "metadata": {},
   "outputs": [],
   "source": [
    "# 評価基準数\n",
    "num_criteria = [8];\n",
    "# 真の区間重要度のセッティング\n",
    "true_importance = [\"A\", \"B\", \"C\", \"D\", \"E\"]; # [\"A\", \"B\", \"C\", \"D\", \"E\"]"
   ]
  },
  {
   "cell_type": "code",
   "execution_count": 4,
   "metadata": {},
   "outputs": [
    {
     "data": {
      "text/latex": [
       "$EV_{rate} = 0.92488$"
      ],
      "text/plain": [
       "L\"$EV_{rate} = 0.92488$\""
      ]
     },
     "metadata": {},
     "output_type": "display_data"
    },
    {
     "data": {
      "text/latex": [
       "$GM_{rate} = 0.91912$"
      ],
      "text/plain": [
       "L\"$GM_{rate} = 0.91912$\""
      ]
     },
     "metadata": {},
     "output_type": "display_data"
    },
    {
     "data": {
      "text/latex": [
       "$ALD_{rate} = 0.86675$"
      ],
      "text/plain": [
       "L\"$ALD_{rate} = 0.86675$\""
      ]
     },
     "metadata": {},
     "output_type": "display_data"
    },
    {
     "data": {
      "text/latex": [
       "$EV_{diff} = 0.01962$"
      ],
      "text/plain": [
       "L\"$EV_{diff} = 0.01962$\""
      ]
     },
     "metadata": {},
     "output_type": "display_data"
    },
    {
     "data": {
      "text/latex": [
       "$GM_{diff} = 0.0205$"
      ],
      "text/plain": [
       "L\"$GM_{diff} = 0.0205$\""
      ]
     },
     "metadata": {},
     "output_type": "display_data"
    },
    {
     "data": {
      "text/latex": [
       "$ALD_{diff} = 0.02771$"
      ],
      "text/plain": [
       "L\"$ALD_{diff} = 0.02771$\""
      ]
     },
     "metadata": {},
     "output_type": "display_data"
    },
    {
     "name": "stdout",
     "output_type": "stream",
     "text": [
      "N = 8\n",
      "setting = A\n"
     ]
    },
    {
     "name": "stdout",
     "output_type": "stream",
     "text": [
      "N = 8"
     ]
    },
    {
     "data": {
      "text/latex": [
       "$EV_{rate} = 0.97625$"
      ],
      "text/plain": [
       "L\"$EV_{rate} = 0.97625$\""
      ]
     },
     "metadata": {},
     "output_type": "display_data"
    },
    {
     "data": {
      "text/latex": [
       "$GM_{rate} = 0.974$"
      ],
      "text/plain": [
       "L\"$GM_{rate} = 0.974$\""
      ]
     },
     "metadata": {},
     "output_type": "display_data"
    },
    {
     "data": {
      "text/latex": [
       "$ALD_{rate} = 0.85712$"
      ],
      "text/plain": [
       "L\"$ALD_{rate} = 0.85712$\""
      ]
     },
     "metadata": {},
     "output_type": "display_data"
    },
    {
     "data": {
      "text/latex": [
       "$EV_{diff} = 0.01654$"
      ],
      "text/plain": [
       "L\"$EV_{diff} = 0.01654$\""
      ]
     },
     "metadata": {},
     "output_type": "display_data"
    },
    {
     "data": {
      "text/latex": [
       "$GM_{diff} = 0.01676$"
      ],
      "text/plain": [
       "L\"$GM_{diff} = 0.01676$\""
      ]
     },
     "metadata": {},
     "output_type": "display_data"
    },
    {
     "data": {
      "text/latex": [
       "$ALD_{diff} = 0.02645$"
      ],
      "text/plain": [
       "L\"$ALD_{diff} = 0.02645$\""
      ]
     },
     "metadata": {},
     "output_type": "display_data"
    },
    {
     "name": "stdout",
     "output_type": "stream",
     "text": [
      "\n",
      "setting = B\n"
     ]
    },
    {
     "data": {
      "text/latex": [
       "$EV_{rate} = 0.94612$"
      ],
      "text/plain": [
       "L\"$EV_{rate} = 0.94612$\""
      ]
     },
     "metadata": {},
     "output_type": "display_data"
    },
    {
     "data": {
      "text/latex": [
       "$GM_{rate} = 0.94412$"
      ],
      "text/plain": [
       "L\"$GM_{rate} = 0.94412$\""
      ]
     },
     "metadata": {},
     "output_type": "display_data"
    },
    {
     "data": {
      "text/latex": [
       "$ALD_{rate} = 0.853$"
      ],
      "text/plain": [
       "L\"$ALD_{rate} = 0.853$\""
      ]
     },
     "metadata": {},
     "output_type": "display_data"
    },
    {
     "data": {
      "text/latex": [
       "$EV_{diff} = 0.0175$"
      ],
      "text/plain": [
       "L\"$EV_{diff} = 0.0175$\""
      ]
     },
     "metadata": {},
     "output_type": "display_data"
    },
    {
     "data": {
      "text/latex": [
       "$GM_{diff} = 0.01795$"
      ],
      "text/plain": [
       "L\"$GM_{diff} = 0.01795$\""
      ]
     },
     "metadata": {},
     "output_type": "display_data"
    },
    {
     "data": {
      "text/latex": [
       "$ALD_{diff} = 0.0258$"
      ],
      "text/plain": [
       "L\"$ALD_{diff} = 0.0258$\""
      ]
     },
     "metadata": {},
     "output_type": "display_data"
    },
    {
     "name": "stdout",
     "output_type": "stream",
     "text": [
      "N = 8\n",
      "setting = C\n"
     ]
    },
    {
     "data": {
      "text/latex": [
       "$EV_{rate} = 0.97075$"
      ],
      "text/plain": [
       "L\"$EV_{rate} = 0.97075$\""
      ]
     },
     "metadata": {},
     "output_type": "display_data"
    },
    {
     "data": {
      "text/latex": [
       "$GM_{rate} = 0.96538$"
      ],
      "text/plain": [
       "L\"$GM_{rate} = 0.96538$\""
      ]
     },
     "metadata": {},
     "output_type": "display_data"
    },
    {
     "data": {
      "text/latex": [
       "$ALD_{rate} = 0.87588$"
      ],
      "text/plain": [
       "L\"$ALD_{rate} = 0.87588$\""
      ]
     },
     "metadata": {},
     "output_type": "display_data"
    },
    {
     "data": {
      "text/latex": [
       "$EV_{diff} = 0.01803$"
      ],
      "text/plain": [
       "L\"$EV_{diff} = 0.01803$\""
      ]
     },
     "metadata": {},
     "output_type": "display_data"
    },
    {
     "data": {
      "text/latex": [
       "$GM_{diff} = 0.01851$"
      ],
      "text/plain": [
       "L\"$GM_{diff} = 0.01851$\""
      ]
     },
     "metadata": {},
     "output_type": "display_data"
    },
    {
     "data": {
      "text/latex": [
       "$ALD_{diff} = 0.02776$"
      ],
      "text/plain": [
       "L\"$ALD_{diff} = 0.02776$\""
      ]
     },
     "metadata": {},
     "output_type": "display_data"
    },
    {
     "name": "stdout",
     "output_type": "stream",
     "text": [
      "N = 8\n",
      "setting = D\n"
     ]
    },
    {
     "data": {
      "text/latex": [
       "$EV_{rate} = 0.96362$"
      ],
      "text/plain": [
       "L\"$EV_{rate} = 0.96362$\""
      ]
     },
     "metadata": {},
     "output_type": "display_data"
    },
    {
     "data": {
      "text/latex": [
       "$GM_{rate} = 0.95275$"
      ],
      "text/plain": [
       "L\"$GM_{rate} = 0.95275$\""
      ]
     },
     "metadata": {},
     "output_type": "display_data"
    },
    {
     "data": {
      "text/latex": [
       "$ALD_{rate} = 0.8825$"
      ],
      "text/plain": [
       "L\"$ALD_{rate} = 0.8825$\""
      ]
     },
     "metadata": {},
     "output_type": "display_data"
    },
    {
     "data": {
      "text/latex": [
       "$EV_{diff} = 0.01994$"
      ],
      "text/plain": [
       "L\"$EV_{diff} = 0.01994$\""
      ]
     },
     "metadata": {},
     "output_type": "display_data"
    },
    {
     "data": {
      "text/latex": [
       "$GM_{diff} = 0.02079$"
      ],
      "text/plain": [
       "L\"$GM_{diff} = 0.02079$\""
      ]
     },
     "metadata": {},
     "output_type": "display_data"
    },
    {
     "data": {
      "text/latex": [
       "$ALD_{diff} = 0.03015$"
      ],
      "text/plain": [
       "L\"$ALD_{diff} = 0.03015$\""
      ]
     },
     "metadata": {},
     "output_type": "display_data"
    },
    {
     "name": "stdout",
     "output_type": "stream",
     "text": [
      "N = 8\n",
      "setting = E\n"
     ]
    }
   ],
   "source": [
    "# 真の区間重要度を読み込み\n",
    "for N in num_criteria\n",
    "        \n",
    "    for setting in true_importance\n",
    "        println(\"N = \", N)\n",
    "        println(\"setting = \", setting)\n",
    "\n",
    "        df = CSV.File(\"./data/N\"*string(N)*\"_\"*setting*\"_Given_interval_weight.csv\", header=false) |> DataFrame\n",
    "        T = Vector{Interval{Float64}}() # Float64のところにTを使うとおかしくなるのはなぜか？\n",
    "        for i in 1:N\n",
    "            push!(T, interval(df[1, 2*i-1], df[1, 2*i]))\n",
    "        end\n",
    "\n",
    "        # display(L\"T = %$(intervalVectorLaTeXString(T))\")\n",
    "        # 一対比較行列を1000個読み込み\n",
    "        df1 = CSV.File(\"./data/N\"*string(N)*\"_a3_\"*setting*\"_PCM_int.csv\", header=false) |> DataFrame\n",
    "\n",
    "        # データフレームをN×Nのサブデータフレームに分割\n",
    "        subdfs = split_dataframe(df1, N);\n",
    "        # 結果格納用\n",
    "        EV_in_range = Vector{Float64}(undef, 1000)\n",
    "        GM_in_range = Vector{Float64}(undef, 1000)\n",
    "        ALD_in_range = Vector{Float64}(undef, 1000)\n",
    "\n",
    "        EV_diff = Vector{Float64}(undef, 1000)\n",
    "        GM_diff = Vector{Float64}(undef, 1000)\n",
    "        ALD_diff = Vector{Float64}(undef, 1000)\n",
    "\n",
    "        # 1000個のデータで推定\n",
    "        for (i, subdf) in enumerate(subdfs)\n",
    "\n",
    "            # 一対比較行列を取り出す\n",
    "            A = Matrix(subdf)\n",
    "\n",
    "            # 重要度推定\n",
    "            est_EV = EV(A)\n",
    "            est_GM = GM(A)\n",
    "            est_ALD = ALD(A)\n",
    "\n",
    "            EV_in_range[i], EV_diff[i] = est_in_range(T, est_EV) # 真の区間重要度と推定値の積集合の割合\n",
    "            GM_in_range[i], GM_diff[i] = est_in_range(T, est_GM) # 真の区間重要度と推定値の積集合の割合\n",
    "            ALD_in_range[i], ALD_diff[i] = est_in_range(T, est_ALD) # 真の区間重要度と推定値の積集合の割合\n",
    "        end\n",
    "\n",
    "\n",
    "        display(L\"EV_{rate} = %$(round(mean(EV_in_range), digits=5))\")\n",
    "        display(L\"GM_{rate} = %$(round(mean(GM_in_range), digits=5))\")\n",
    "        display(L\"ALD_{rate} = %$(round(mean(ALD_in_range), digits=5))\")\n",
    "\n",
    "        display(L\"EV_{diff} = %$(round(mean(EV_diff), digits=5))\")\n",
    "        display(L\"GM_{diff} = %$(round(mean(GM_diff), digits=5))\")\n",
    "        display(L\"ALD_{diff} = %$(round(mean(ALD_diff), digits=5))\")\n",
    "    end\n",
    "end\n"
   ]
  }
 ],
 "metadata": {
  "kernelspec": {
   "display_name": "Julia 1.9.4",
   "language": "julia",
   "name": "julia-1.9"
  },
  "language_info": {
   "file_extension": ".jl",
   "mimetype": "application/julia",
   "name": "julia",
   "version": "1.9.4"
  }
 },
 "nbformat": 4,
 "nbformat_minor": 2
}
