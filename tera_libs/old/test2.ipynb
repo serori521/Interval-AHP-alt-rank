{
 "cells": [
  {
   "cell_type": "code",
   "execution_count": 17,
   "metadata": {},
   "outputs": [
    {
     "data": {
      "text/plain": [
       "MMR_W (generic function with 1 method)"
      ]
     },
     "metadata": {},
     "output_type": "display_data"
    }
   ],
   "source": [
    "using DataFrames, CSV\n",
    "using IntervalArithmetic\n",
    "using LaTeXStrings\n",
    "using Statistics\n",
    "using Latexify\n",
    "# using Base\n",
    "include(\"./libs/display-latex.jl\")\n",
    "include(\"./libs/crisp-pcm.jl\")\n",
    "include(\"./libs/analysis-indicators.jl\")\n",
    "include(\"./libs/solve-deterministic-ahp.jl\")\n",
    "include(\"./libs/MMR-W.jl\")"
   ]
  },
  {
   "cell_type": "code",
   "execution_count": 20,
   "metadata": {},
   "outputs": [
    {
     "data": {
      "text/latex": [
       "$T = \\begin{pmatrix} \\left[ 1.0, 7.0 \\right] \\\\ \\left[ 3.0, 9.0 \\right] \\\\ \\left[ 5.0, 11.0 \\right] \\end{pmatrix}$"
      ],
      "text/plain": [
       "L\"$T = \\begin{pmatrix} \\left[ 1.0, 7.0 \\right] \\\\ \\left[ 3.0, 9.0 \\right] \\\\ \\left[ 5.0, 11.0 \\right] \\end{pmatrix}$\""
      ]
     },
     "metadata": {},
     "output_type": "display_data"
    },
    {
     "data": {
      "text/latex": [
       "$Tc = \\begin{pmatrix} 4.0 \\\\ 6.0 \\\\ 8.0 \\end{pmatrix}$"
      ],
      "text/plain": [
       "L\"$Tc = \\begin{pmatrix} 4.0 \\\\ 6.0 \\\\ 8.0 \\end{pmatrix}$\""
      ]
     },
     "metadata": {},
     "output_type": "display_data"
    },
    {
     "data": {
      "text/latex": [
       "$E = \\begin{pmatrix} \\left[ 2.0, 4.0 \\right] \\\\ \\left[ 4.0, 12.0 \\right] \\\\ \\left[ 6.0, 8.0 \\right] \\end{pmatrix}$"
      ],
      "text/plain": [
       "L\"$E = \\begin{pmatrix} \\left[ 2.0, 4.0 \\right] \\\\ \\left[ 4.0, 12.0 \\right] \\\\ \\left[ 6.0, 8.0 \\right] \\end{pmatrix}$\""
      ]
     },
     "metadata": {},
     "output_type": "display_data"
    },
    {
     "data": {
      "text/latex": [
       "$Ec = \\begin{pmatrix} 3.0 \\\\ 8.0 \\\\ 7.0 \\end{pmatrix}$"
      ],
      "text/plain": [
       "L\"$Ec = \\begin{pmatrix} 3.0 \\\\ 8.0 \\\\ 7.0 \\end{pmatrix}$\""
      ]
     },
     "metadata": {},
     "output_type": "display_data"
    },
    {
     "data": {
      "text/plain": [
       "2.449489742783178"
      ]
     },
     "metadata": {},
     "output_type": "display_data"
    }
   ],
   "source": [
    "T = [1..7, 3..9, 5..11]\n",
    "E = [2..4, 4..12, 6..8]\n",
    "\n",
    "Tc = interval_centers(T)\n",
    "Ec = interval_centers(E)\n",
    "\n",
    "display(L\"T = %$(intervalVectorLaTeXString(T))\")\n",
    "display(L\"Tc = %$(VectorLaTeXString(Tc))\")\n",
    "\n",
    "display(L\"E = %$(intervalVectorLaTeXString(E))\")\n",
    "display(L\"Ec = %$(VectorLaTeXString(Ec))\")\n",
    "\n",
    "Euclidean = calculate_euclidean(Tc, Ec)\n",
    "\n"
   ]
  },
  {
   "cell_type": "code",
   "execution_count": 21,
   "metadata": {},
   "outputs": [
    {
     "data": {
      "text/plain": [
       "2.449489742783178"
      ]
     },
     "metadata": {},
     "output_type": "display_data"
    }
   ],
   "source": [
    "T = [1..7, 3..9, 5..11]\n",
    "E = [2..4, 4..12, 6..8]\n",
    "\n",
    "Euc = calculate_euclidean(interval_centers(T), interval_centers(E))"
   ]
  }
 ],
 "metadata": {
  "kernelspec": {
   "display_name": "Julia 1.9.4",
   "language": "julia",
   "name": "julia-1.9"
  },
  "language_info": {
   "file_extension": ".jl",
   "mimetype": "application/julia",
   "name": "julia",
   "version": "1.9.4"
  }
 },
 "nbformat": 4,
 "nbformat_minor": 2
}
