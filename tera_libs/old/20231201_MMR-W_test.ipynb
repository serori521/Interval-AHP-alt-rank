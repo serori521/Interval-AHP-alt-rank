{
 "cells": [
  {
   "cell_type": "markdown",
   "metadata": {},
   "source": [
    "従来法のMMR-Wをjuliaにて実装  \n",
    "提案手法の実装が正しいことを確認するために、先行研究の結果と比較する"
   ]
  },
  {
   "cell_type": "code",
   "execution_count": 7,
   "metadata": {},
   "outputs": [],
   "source": [
    "using LaTeXStrings"
   ]
  },
  {
   "cell_type": "code",
   "execution_count": 8,
   "metadata": {},
   "outputs": [
    {
     "data": {
      "text/plain": [
       "MMR_W (generic function with 1 method)"
      ]
     },
     "metadata": {},
     "output_type": "display_data"
    }
   ],
   "source": [
    "include(\"./libs/display-latex.jl\")\n",
    "include(\"./libs/solve-deterministic-ahp.jl\")\n",
    "include(\"./libs/interval-ahp.jl\")\n",
    "include(\"./libs/MMR-W.jl\")"
   ]
  },
  {
   "cell_type": "code",
   "execution_count": 9,
   "metadata": {},
   "outputs": [
    {
     "data": {
      "text/plain": [
       "5×5 Matrix{Float64}:\n",
       " 1.0       1.0       2.0       3.0  3.0\n",
       " 1.0       1.0       2.0       3.0  5.0\n",
       " 0.5       0.5       1.0       1.0  3.0\n",
       " 0.333333  0.333333  1.0       1.0  2.0\n",
       " 0.333333  0.2       0.333333  0.5  1.0"
      ]
     },
     "metadata": {},
     "output_type": "display_data"
    }
   ],
   "source": [
    "# 完全整合\n",
    "# A = [\n",
    "#     1 1 1 1\n",
    "#     1 1 1 1\n",
    "#     1 1 1 1\n",
    "#     1 1 1 1.0\n",
    "# ]\n",
    "# A = [\n",
    "#     1   3   5   7\n",
    "#     1/3 1   5/3 7/3\n",
    "#     1/5 3/5 1   7/5\n",
    "#     1/7 3/7 5/7 1\n",
    "# ]\n",
    "# A = [\n",
    "#     1 1 1/3\n",
    "#     1 1 1/3\n",
    "#     3 3 1\n",
    "# ]\n",
    "\n",
    "# CI = 0.01\n",
    "# A = [\n",
    "#     1 2 4/3 4/3\n",
    "#     1/2 1 1 1\n",
    "#     3/4 1 1 3/2\n",
    "#     3/4 1 2/3 1.0\n",
    "# ]\n",
    "# A = [\n",
    "#     1 1 2/3 1\n",
    "#     1 1 4/9 2/3\n",
    "#     3/2 9/4 1 1\n",
    "#     1 3/2 1 1.0\n",
    "# ]\n",
    "\n",
    "# CI = 0.15\n",
    "# A = [\n",
    "#     1 1 2 2\n",
    "#     1 1 3 1\n",
    "#     1/2 1/3 1 3\n",
    "#     1/2 1 1/3 1\n",
    "# ]\n",
    "\n",
    "# エラーケース EVでダメなやつ\n",
    "A = [\n",
    "    1.0  1.0  2.0  3.0  3.0\n",
    "    1.0  1.0  2.0  3.0  5.0\n",
    "    1/2  1/2  1.0  1.0  3.0\n",
    "    1/3  1/3  1.0  1.0  2.0\n",
    "    1/3  1/5  1/3  1/2  1.0\n",
    "]\n",
    "\n",
    "# エラーケース GMでダメなやつ\n",
    "# A = [\n",
    "#     1.0  1.0  2.0  3.0  8.0\n",
    "#     1.0  1.0  2.0  2.0  3.0\n",
    "#     1/2  1/2  1.0  2.0  6.0\n",
    "#     1/3  1/2  1/2  1.0  5.0\n",
    "#     1/8  1/3  1/6  1/5  1.0\n",
    "# ]\n",
    "\n",
    "# エラーケース ADでダメなやつ\n",
    "# A = [\n",
    "#     1.0  2.0   2.0   3.0   2.0\n",
    "#     1/2  1.0   1.0   2.0   4.0\n",
    "#     1/2  1.0   1.0   1.0   4.0\n",
    "#     1/3  1/2   1.0   1.0   4.0\n",
    "#     1/2  1/4  1/4  1/4  1.0\n",
    "# ]"
   ]
  },
  {
   "cell_type": "code",
   "execution_count": 10,
   "metadata": {},
   "outputs": [
    {
     "data": {
      "text/latex": [
       "$A = \\begin{pmatrix} 1.0 & 1.0 & 2.0 & 3.0 & 3.0 \\\\1.0 & 1.0 & 2.0 & 3.0 & 5.0 \\\\0.5 & 0.5 & 1.0 & 1.0 & 3.0 \\\\0.333 & 0.333 & 1.0 & 1.0 & 2.0 \\\\0.333 & 0.2 & 0.333 & 0.5 & 1.0 \\\\ \\end{pmatrix}$"
      ],
      "text/plain": [
       "L\"$A = \\begin{pmatrix} 1.0 & 1.0 & 2.0 & 3.0 & 3.0 \\\\1.0 & 1.0 & 2.0 & 3.0 & 5.0 \\\\0.5 & 0.5 & 1.0 & 1.0 & 3.0 \\\\0.333 & 0.333 & 1.0 & 1.0 & 2.0 \\\\0.333 & 0.2 & 0.333 & 0.5 & 1.0 \\\\ \\end{pmatrix}$\""
      ]
     },
     "metadata": {},
     "output_type": "display_data"
    }
   ],
   "source": [
    "display(L\"A = %$(matrixLaTeXString(A))\")"
   ]
  },
  {
   "cell_type": "code",
   "execution_count": 11,
   "metadata": {},
   "outputs": [],
   "source": [
    "solution = MMR_W(A, EV)\n",
    "W = solution.W;"
   ]
  },
  {
   "cell_type": "code",
   "execution_count": 12,
   "metadata": {},
   "outputs": [
    {
     "data": {
      "text/latex": [
       "$W = \\begin{pmatrix} \\left[ 0.307, 0.357 \\right] \\\\ \\left[ 0.334, 0.362 \\right] \\\\ \\left[ 0.162, 0.181 \\right] \\\\ \\left[ 0.111, 0.162 \\right] \\\\ \\left[ 0.055, 0.102 \\right] \\end{pmatrix}$"
      ],
      "text/plain": [
       "L\"$W = \\begin{pmatrix} \\left[ 0.307, 0.357 \\right] \\\\ \\left[ 0.334, 0.362 \\right] \\\\ \\left[ 0.162, 0.181 \\right] \\\\ \\left[ 0.111, 0.162 \\right] \\\\ \\left[ 0.055, 0.102 \\right] \\end{pmatrix}$\""
      ]
     },
     "metadata": {},
     "output_type": "display_data"
    }
   ],
   "source": [
    "display(L\"W = %$(intervalVectorLaTeXString(W))\")"
   ]
  }
 ],
 "metadata": {
  "kernelspec": {
   "display_name": "Julia 1.9.4",
   "language": "julia",
   "name": "julia-1.9"
  },
  "language_info": {
   "file_extension": ".jl",
   "mimetype": "application/julia",
   "name": "julia",
   "version": "1.9.4"
  }
 },
 "nbformat": 4,
 "nbformat_minor": 2
}
