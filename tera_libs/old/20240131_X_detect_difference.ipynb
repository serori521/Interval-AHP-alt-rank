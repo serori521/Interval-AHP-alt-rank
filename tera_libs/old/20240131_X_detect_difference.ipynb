{
 "cells": [
  {
   "cell_type": "code",
   "execution_count": 21,
   "metadata": {},
   "outputs": [],
   "source": [
    "# import Pkg\n",
    "# Pkg.add(\"DataFrames\")\n",
    "# Pkg.add(\"CSV\")\n",
    "# Pkg.add(\"IntervalSets\")\n",
    "# Pkg.add(\"LatexStrings\")"
   ]
  },
  {
   "cell_type": "code",
   "execution_count": 22,
   "metadata": {},
   "outputs": [
    {
     "data": {
      "text/plain": [
       "nearlyEqualLoose"
      ]
     },
     "metadata": {},
     "output_type": "display_data"
    }
   ],
   "source": [
    "using DataFrames, CSV\n",
    "using IntervalArithmetic\n",
    "using LaTeXStrings\n",
    "using Statistics\n",
    "# using Base\n",
    "include(\"./libs/display-latex.jl\")\n",
    "include(\"./libs/crisp-pcm.jl\")\n",
    "include(\"./libs/analysis-indicators.jl\")\n",
    "include(\"./libs/solve-deterministic-ahp.jl\")\n",
    "include(\"./libs/MMR.jl\")\n",
    "include(\"./libs/X.jl\")\n",
    "include(\"./libs/nearly-equal.jl\")"
   ]
  },
  {
   "cell_type": "code",
   "execution_count": 23,
   "metadata": {},
   "outputs": [],
   "source": [
    "# 評価基準数\n",
    "num_criteria = [4];\n",
    "# 真の区間重要度のセッティング\n",
    "true_importance = [\"A\"]; # [\"A\", \"B\", \"C\", \"D\", \"E\"]"
   ]
  },
  {
   "cell_type": "code",
   "execution_count": 24,
   "metadata": {},
   "outputs": [
    {
     "data": {
      "text/latex": [
       "$A = \\begin{pmatrix} 1.0 & 2.0 & 1.0 & 2.0 \\\\0.5 & 1.0 & 2.0 & 1.0 \\\\1.0 & 0.5 & 1.0 & 2.0 \\\\0.5 & 1.0 & 0.5 & 1.0 \\\\ \\end{pmatrix}$"
      ],
      "text/plain": [
       "L\"$A = \\begin{pmatrix} 1.0 & 2.0 & 1.0 & 2.0 \\\\0.5 & 1.0 & 2.0 & 1.0 \\\\1.0 & 0.5 & 1.0 & 2.0 \\\\0.5 & 1.0 & 0.5 & 1.0 \\\\ \\end{pmatrix}$\""
      ]
     },
     "metadata": {},
     "output_type": "display_data"
    },
    {
     "name": "stdout",
     "output_type": "stream",
     "text": [
      "0.04424399863214620.05524803921437184\n"
     ]
    }
   ],
   "source": [
    "# 真の区間重要度を読み込み\n",
    "for N in num_criteria\n",
    "        \n",
    "    for setting in true_importance\n",
    "        df = CSV.File(\"./data/N\"*string(N)*\"_\"*setting*\"_Given_interval_weight.csv\", header=false) |> DataFrame\n",
    "        T = Vector{Interval{Float64}}() # Float64のところにTを使うとおかしくなるのはなぜか？\n",
    "        for i in 1:N\n",
    "            push!(T, interval(df[1, 2*i-1], df[1, 2*i]))\n",
    "        end\n",
    "\n",
    "        # 一対比較行列を1000個読み込み\n",
    "        df1 = CSV.File(\"./data/N\"*string(N)*\"_a3_\"*setting*\"_PCM_int.csv\", header=false) |> DataFrame\n",
    "\n",
    "        # データフレームをN×Nのサブデータフレームに分割\n",
    "        subdfs = split_dataframe(df1, N);\n",
    "\n",
    "        # 1000個のデータで推定\n",
    "        for (i, subdf) in enumerate(subdfs)\n",
    "\n",
    "            # 一対比較行列を取り出す\n",
    "            A = Matrix(subdf)\n",
    "            # display(L\"A = %$(matrixLaTeXString(A))\")\n",
    "            solution_m = MMR(A, EV)\n",
    "            E_m = solution_m.W # 区間重要度の推定値\n",
    "            distance_m = calculate_manhattan(interval_centers(T), interval_centers(E_m))/N\n",
    "            solution_x = X(A, EV)\n",
    "            E_x = solution_x.W # 区間重要度の推定値\n",
    "            distance_x = calculate_manhattan(interval_centers(T), interval_centers(E_x))/N\n",
    "            # println(distance_x, distance_m)\n",
    "\n",
    "            if nearlyEqualLoose(distance_x, distance_m)\n",
    "            else\n",
    "                println(distance_x, distance_m)\n",
    "                display(L\"A = %$(matrixLaTeXString(A))\")\n",
    "            end\n",
    "\n",
    "        end\n",
    "    end\n",
    "end\n",
    "\n"
   ]
  }
 ],
 "metadata": {
  "kernelspec": {
   "display_name": "Julia 1.9.4",
   "language": "julia",
   "name": "julia-1.9"
  },
  "language_info": {
   "file_extension": ".jl",
   "mimetype": "application/julia",
   "name": "julia",
   "version": "1.9.4"
  }
 },
 "nbformat": 4,
 "nbformat_minor": 2
}
