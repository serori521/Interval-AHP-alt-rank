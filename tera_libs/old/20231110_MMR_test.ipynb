{
 "cells": [
  {
   "cell_type": "markdown",
   "metadata": {},
   "source": [
    "※ここに掲載されているコードには誤りがあります  \n",
    "　結果の統合のところで総和が１になるように正規化されていない"
   ]
  },
  {
   "cell_type": "markdown",
   "metadata": {},
   "source": [
    "# 11/10ゼミ\n",
    "\n",
    "**提案手法 MMR-E**  \n",
    "**Phase 1**  \n",
    "区間重要度の中心を各手法で推定  \n",
    "* $k$ 番目を除いた $n-1$ 個の $w_i$ に対して EV, GM, ALD で $w_{i}^{C}$ を求める（この時点でそれらの総和は１となる）\n",
    "* 上記で求めた $w_{i}^{C}$ の和を $\\mu$ 倍することで、 $k$ 番目の区間重要度中心は $1-\\mu$ となる\n",
    "\n",
    "**Phase 2**  \n",
    "各 $k$ に対して、以下の線形最適化問題を解き、最適値を $d_{\\overline{k}}^{*}$ とする：  \n",
    "$$\n",
    "\\begin{align*}\n",
    "\\operatorname{minimize} ~~ & ~~\n",
    "d_{\\overline{k}} = \\sum_{j \\neq k} l_j, \\\\\n",
    "\\text{subject to} ~~ & ~~\n",
    "a_{ij} \\left( \\mu w_{j}^{C} - l_j \\right) \\leq \\mu w_{i}^{C} + l_i, &&\n",
    "i \\neq j, k, ~~ & j \\neq k \\\\ & ~~\n",
    "a_{kj} \\left( \\mu w_{j}^{C} - l_j \\right) \\leq 1-\\mu + l_k, &&\n",
    "j \\neq k \\\\ & ~~\n",
    "a_{ik} \\{ \\left(1- \\mu \\right) - l_k \\} \\leq \\mu w_{i}^{C} + l_i, &&\n",
    "i \\neq k \\\\ & ~~\n",
    "\\left( 1 - \\mu \\right) + l_k + \\sum_{i \\neq j, k} \\left( \\mu w_{i}^{C} + l_i \\right) + \\mu w_{j}^{C} - l_j \\geq 1, &&\n",
    "i \\in N \\backslash k \\\\ & ~~\n",
    "\\left( 1 - \\mu \\right) - l_k + \\sum_{i \\neq j, k} \\left( \\mu w_{i}^{C} - l_i \\right) + \\mu w_{j}^{C} + l_j \\leq 1, &&\n",
    "i \\in N \\backslash k \\\\ & ~~\n",
    "\\mu w_{i}^{C} - l_i \\geq \\epsilon, &&\n",
    "i \\in N, ~~ & i \\neq k \\\\ & ~~\n",
    "\n",
    "\\left( 1 - \\mu \\right) - l_k \\geq \\epsilon \\\\ & ~~\n",
    "\\sum_{i \\neq k} \\left( \\mu w_{i}^{C} + l_i \\right) + \\left( 1 - \\mu \\right) - l_k \\geq 1 \\\\ & ~~\n",
    "\\sum_{i \\neq k} \\left( \\mu w_{i}^{C} - l_i \\right) + \\left( 1 - \\mu \\right) + l_k \\leq 1 \\\\ & ~~\n",
    "\n",
    "\n",
    "\\end{align*}\n",
    "$$\n",
    "\n"
   ]
  },
  {
   "cell_type": "markdown",
   "metadata": {},
   "source": [
    "**Phase 3**  \n",
    "各 $k$ に対して、以下の線形最適化問題を解き、最適値を $l_{k}^{*}$ とする：  \n",
    "$$\n",
    "\\begin{align*}\n",
    "\\operatorname{minimize} ~~ & ~~\n",
    "l_k, \\\\\n",
    "\\text{subject to} ~~ & ~~\n",
    "a_{ij} \\left( \\mu w_{j}^{C} - l_j \\right) \\leq \\mu w_{i}^{C} + l_i, &&\n",
    "i \\neq j, k, ~~ & j \\neq k \\\\ & ~~\n",
    "a_{kj} \\left( \\mu w_{j}^{C} - l_j \\right) \\leq 1-\\mu + l_k, &&\n",
    "j \\neq k \\\\ & ~~\n",
    "a_{ik} \\{ \\left(1- \\mu \\right) - l_k \\} \\leq \\mu w_{i}^{C} + l_i, &&\n",
    "i \\neq k \\\\ & ~~\n",
    "\\left( 1 - \\mu \\right) + l_k + \\sum_{i \\neq j, k} \\left( \\mu w_{i}^{C} + l_i \\right) + \\mu w_{j}^{C} - l_j \\geq 1, &&\n",
    "i \\in N \\backslash k \\\\ & ~~\n",
    "\\left( 1 - \\mu \\right) - l_k + \\sum_{i \\neq j, k} \\left( \\mu w_{i}^{C} - l_i \\right) + \\mu w_{j}^{C} + l_j \\leq 1, &&\n",
    "i \\in N \\backslash k \\\\ & ~~\n",
    "\\mu w_{i}^{C} - l_i \\geq \\epsilon, &&\n",
    "i \\in N, ~~ & i \\neq k \\\\ & ~~\n",
    "\n",
    "\\left( 1 - \\mu \\right) - l_k \\geq \\epsilon \\\\ & ~~\n",
    "\\sum_{i \\neq k} \\left( \\mu w_{i}^{C} + l_i \\right) + \\left( 1 - \\mu \\right) - l_k \\geq 1 \\\\ & ~~\n",
    "\\sum_{i \\neq k} \\left( \\mu w_{i}^{C} - l_i \\right) + \\left( 1 - \\mu \\right) + l_k \\leq 1 \\\\ & ~~\n",
    "\\sum_{i \\neq j, k} l_k = d_{\\overline{k}}^{*}\\\\ & ~~\n",
    "\n",
    "\n",
    "\\end{align*}\n",
    "$$"
   ]
  },
  {
   "cell_type": "code",
   "execution_count": 12,
   "metadata": {},
   "outputs": [],
   "source": [
    "using LaTeXStrings"
   ]
  },
  {
   "cell_type": "code",
   "execution_count": 13,
   "metadata": {},
   "outputs": [
    {
     "data": {
      "text/plain": [
       "MMR (generic function with 1 method)"
      ]
     },
     "metadata": {},
     "output_type": "display_data"
    }
   ],
   "source": [
    "include(\"./libs/display-latex.jl\")\n",
    "include(\"./libs/crisp-pcm.jl\")\n",
    "include(\"./libs/solve-deterministic-ahp.jl\")\n",
    "include(\"./libs/MMR.jl\")"
   ]
  },
  {
   "cell_type": "code",
   "execution_count": 14,
   "metadata": {},
   "outputs": [
    {
     "data": {
      "text/latex": [
       "$A = \\begin{pmatrix} 1.0 & 1.0 & 2.0 & 3.0 & 6.0 \\\\1.0 & 1.0 & 2.0 & 2.0 & 6.0 \\\\0.5 & 0.5 & 1.0 & 1.0 & 5.0 \\\\0.333 & 0.5 & 1.0 & 1.0 & 1.0 \\\\0.167 & 0.167 & 0.2 & 1.0 & 1.0 \\\\ \\end{pmatrix}$"
      ],
      "text/plain": [
       "L\"$A = \\begin{pmatrix} 1.0 & 1.0 & 2.0 & 3.0 & 6.0 \\\\1.0 & 1.0 & 2.0 & 2.0 & 6.0 \\\\0.5 & 0.5 & 1.0 & 1.0 & 5.0 \\\\0.333 & 0.5 & 1.0 & 1.0 & 1.0 \\\\0.167 & 0.167 & 0.2 & 1.0 & 1.0 \\\\ \\end{pmatrix}$\""
      ]
     },
     "metadata": {},
     "output_type": "display_data"
    }
   ],
   "source": [
    "# 完全整合\n",
    "# A = [\n",
    "#     1 1 1 1\n",
    "#     1 1 1 1\n",
    "#     1 1 1 1\n",
    "#     1 1 1 1.0\n",
    "# ]\n",
    "# A = [\n",
    "#     1   3   5   7\n",
    "#     1/3 1   5/3 7/3\n",
    "#     1/5 3/5 1   7/5\n",
    "#     1/7 3/7 5/7 1\n",
    "# ]\n",
    "# A = [\n",
    "#     1 1 1/3\n",
    "#     1 1 1/3\n",
    "#     3 3 1\n",
    "# ]\n",
    "\n",
    "# CI = 0.01\n",
    "# A = [\n",
    "#     1 2 4/3 4/3\n",
    "#     1/2 1 1 1\n",
    "#     3/4 1 1 3/2\n",
    "#     3/4 1 2/3 1.0\n",
    "# ]\n",
    "# A = [\n",
    "#     1 1 2/3 1\n",
    "#     1 1 4/9 2/3\n",
    "#     3/2 9/4 1 1\n",
    "#     1 3/2 1 1.0\n",
    "# ]\n",
    "\n",
    "# CI = 0.15\n",
    "# A = [\n",
    "#     1 1 2 2\n",
    "#     1 1 3 1\n",
    "#     1/2 1/3 1 3\n",
    "#     1/2 1 1/3 1\n",
    "# ]\n",
    "\n",
    "# エラーケース EVでダメなやつ\n",
    "# A = [\n",
    "#     1.0  1.0  2.0  3.0  3.0\n",
    "#     1.0  1.0  2.0  3.0  5.0\n",
    "#     1/2  1/2  1.0  1.0  3.0\n",
    "#     1/3  1/3  1.0  1.0  2.0\n",
    "#     1/3  1/5  1/3  1/2  1.0\n",
    "# ]\n",
    "\n",
    "# エラーケース GMでダメなやつ\n",
    "# A = [\n",
    "#     1.0  1.0  2.0  3.0  8.0\n",
    "#     1.0  1.0  2.0  2.0  3.0\n",
    "#     1/2  1/2  1.0  2.0  6.0\n",
    "#     1/3  1/2  1/2  1.0  5.0\n",
    "#     1/8  1/3  1/6  1/5  1.0\n",
    "# ]\n",
    "\n",
    "# エラーケース ADでダメなやつ\n",
    "# A = [\n",
    "#     1.0  2.0   2.0   3.0   2.0\n",
    "#     1/2  1.0   1.0   2.0   4.0\n",
    "#     1/2  1.0   1.0   1.0   4.0\n",
    "#     1/3  1/2   1.0   1.0   4.0\n",
    "#     1/2  1/4  1/4  1/4  1.0\n",
    "# ]\n",
    "\n",
    "# エラーケース ADでダメなやつ\n",
    "# 分数表記はOK\n",
    "# A = [\n",
    "#     1.0 1.0 2.0 3.0 6.0\n",
    "#     1.0 1.0 2.0 2.0 6.0\n",
    "#     1/2 1/2 1.0 1.0 5.0\n",
    "#     1/3 1/2 1.0 1.0 1.0\n",
    "#     1/6 1/6 1/5 1.0 1.0\n",
    "# ]\n",
    "\n",
    "# 実数表記はNG\n",
    "A = [\n",
    "    1.000000 1.000000 2.000000 3.000000 6.000000\n",
    "    1.000000 1.000000 2.000000 2.000000 6.000000\n",
    "    0.500000 0.500000 1.000000 1.000000 5.000000\n",
    "    0.333333 0.500000 1.000000 1.000000 1.000000\n",
    "    0.166667 0.166667 0.200000 1.000000 1.000000\n",
    "]\n",
    "\n",
    "display(L\"A = %$(matrixLaTeXString(A))\")"
   ]
  },
  {
   "cell_type": "code",
   "execution_count": 15,
   "metadata": {},
   "outputs": [
    {
     "data": {
      "text/plain": [
       "0.053778261838655084"
      ]
     },
     "metadata": {},
     "output_type": "display_data"
    }
   ],
   "source": [
    "consistencyIndex(A)"
   ]
  },
  {
   "cell_type": "code",
   "execution_count": 16,
   "metadata": {},
   "outputs": [
    {
     "data": {
      "text/latex": [
       "$EV₁ = \\begin{pmatrix} 0.331 \\\\ 0.308 \\\\ 0.178 \\\\ 0.12 \\\\ 0.062 \\end{pmatrix}$"
      ],
      "text/plain": [
       "L\"$EV₁ = \\begin{pmatrix} 0.331 \\\\ 0.308 \\\\ 0.178 \\\\ 0.12 \\\\ 0.062 \\end{pmatrix}$\""
      ]
     },
     "metadata": {},
     "output_type": "display_data"
    },
    {
     "data": {
      "text/latex": [
       "$GM₁ = \\begin{pmatrix} 0.339 \\\\ 0.313 \\\\ 0.173 \\\\ 0.116 \\\\ 0.059 \\end{pmatrix}$"
      ],
      "text/plain": [
       "L\"$GM₁ = \\begin{pmatrix} 0.339 \\\\ 0.313 \\\\ 0.173 \\\\ 0.116 \\\\ 0.059 \\end{pmatrix}$\""
      ]
     },
     "metadata": {},
     "output_type": "display_data"
    },
    {
     "data": {
      "text/latex": [
       "$ALD₁ = \\begin{pmatrix} 0.333 \\\\ 0.333 \\\\ 0.167 \\\\ 0.111 \\\\ 0.056 \\end{pmatrix}$"
      ],
      "text/plain": [
       "L\"$ALD₁ = \\begin{pmatrix} 0.333 \\\\ 0.333 \\\\ 0.167 \\\\ 0.111 \\\\ 0.056 \\end{pmatrix}$\""
      ]
     },
     "metadata": {},
     "output_type": "display_data"
    }
   ],
   "source": [
    "EV₁ = EV(A)\n",
    "GM₁ = GM(A)\n",
    "ALD₁ = ALD(A)\n",
    "display(L\"EV₁ = %$(VectorLaTeXString(EV₁))\")\n",
    "display(L\"GM₁ = %$(VectorLaTeXString(GM₁))\")\n",
    "display(L\"ALD₁ = %$(VectorLaTeXString(ALD₁))\")"
   ]
  },
  {
   "cell_type": "code",
   "execution_count": 17,
   "metadata": {},
   "outputs": [],
   "source": [
    "# D = phase2(A, EV)\n",
    "# display(L\"D = %$(VectorLaTeXString(D))\")"
   ]
  },
  {
   "cell_type": "code",
   "execution_count": 18,
   "metadata": {},
   "outputs": [],
   "source": [
    "# D = phase2(A, AD)\n",
    "# display(L\"D = %$(VectorLaTeXString(D))\")"
   ]
  },
  {
   "cell_type": "code",
   "execution_count": 19,
   "metadata": {},
   "outputs": [],
   "source": [
    "# D = phase2(A, GM)\n",
    "# display(L\"D = %$(VectorLaTeXString(D))\")"
   ]
  },
  {
   "cell_type": "code",
   "execution_count": 20,
   "metadata": {},
   "outputs": [],
   "source": [
    "# solution = MMR(A, EV)\n",
    "# W = solution.W\n",
    "# # w̅̅ᴸ = solution.w̅̅ᴸ\n",
    "# # w̅̅ᵁ = solution.w̅̅ᵁ\n",
    "# display(L\"EV = %$(intervalVectorLaTeXString(W))\")"
   ]
  },
  {
   "cell_type": "code",
   "execution_count": 21,
   "metadata": {},
   "outputs": [
    {
     "data": {
      "text/latex": [
       "$ALD = \\begin{pmatrix} \\left[ 0.248, 0.413 \\right] \\\\ \\left[ 0.248, 0.372 \\right] \\\\ \\left[ 0.124, 0.228 \\right] \\\\ \\left[ 0.046, 0.19 \\right] \\\\ \\left[ 0.016, 0.115 \\right] \\end{pmatrix}$"
      ],
      "text/plain": [
       "L\"$ALD = \\begin{pmatrix} \\left[ 0.248, 0.413 \\right] \\\\ \\left[ 0.248, 0.372 \\right] \\\\ \\left[ 0.124, 0.228 \\right] \\\\ \\left[ 0.046, 0.19 \\right] \\\\ \\left[ 0.016, 0.115 \\right] \\end{pmatrix}$\""
      ]
     },
     "metadata": {},
     "output_type": "display_data"
    }
   ],
   "source": [
    "solution = MMR(A, ALD)\n",
    "W = solution.W\n",
    "# w̅̅ᴸ = solution.w̅̅ᴸ\n",
    "# w̅̅ᵁ = solution.w̅̅ᵁ\n",
    "display(L\"ALD = %$(intervalVectorLaTeXString(W))\")"
   ]
  },
  {
   "cell_type": "code",
   "execution_count": 22,
   "metadata": {},
   "outputs": [
    {
     "data": {
      "text/latex": [
       "$GM = \\begin{pmatrix} \\left[ 0.266, 0.401 \\right] \\\\ \\left[ 0.235, 0.385 \\right] \\\\ \\left[ 0.118, 0.251 \\right] \\\\ \\left[ 0.064, 0.147 \\right] \\\\ \\left[ 0.022, 0.112 \\right] \\end{pmatrix}$"
      ],
      "text/plain": [
       "L\"$GM = \\begin{pmatrix} \\left[ 0.266, 0.401 \\right] \\\\ \\left[ 0.235, 0.385 \\right] \\\\ \\left[ 0.118, 0.251 \\right] \\\\ \\left[ 0.064, 0.147 \\right] \\\\ \\left[ 0.022, 0.112 \\right] \\end{pmatrix}$\""
      ]
     },
     "metadata": {},
     "output_type": "display_data"
    }
   ],
   "source": [
    "solution = MMR(A, GM)\n",
    "W = solution.W\n",
    "# w̅̅ᴸ = solution.w̅̅ᴸ\n",
    "# w̅̅ᵁ = solution.w̅̅ᵁ\n",
    "display(L\"GM = %$(intervalVectorLaTeXString(W))\")"
   ]
  }
 ],
 "metadata": {
  "kernelspec": {
   "display_name": "Julia 1.9.4",
   "language": "julia",
   "name": "julia-1.9"
  },
  "language_info": {
   "file_extension": ".jl",
   "mimetype": "application/julia",
   "name": "julia",
   "version": "1.9.4"
  }
 },
 "nbformat": 4,
 "nbformat_minor": 2
}
