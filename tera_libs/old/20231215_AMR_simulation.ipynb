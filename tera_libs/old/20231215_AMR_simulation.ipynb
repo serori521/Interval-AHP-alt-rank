{
 "cells": [
  {
   "cell_type": "markdown",
   "metadata": {},
   "source": [
    "# 12/5ゼミ\n",
    "\n",
    "### 提案手法 AMR バージョン \n",
    "  \n",
    "**Phase 1**  \n",
    "区間重要度の中心を各手法で推定  \n",
    "* $k$ 番目を除いた $n-1$ 個の $w_i$ に対して EV, GM, ALD で $w_{i}^{C}(k)$ を求める（この時点でそれらの総和は１となる）\n",
    "* 上記で求めた $w_{i}^{C}(k)$ の和を $\\mu_k$ 倍することで、 $k$ 番目の区間重要度中心は $1-\\mu_k$ となる\n",
    "\n",
    "**Phase 2**  \n",
    "各 $k$ に対して、以下の線形最適化問題を解き、最適値を $d_{\\overline{k}}^{*}$ とする：  \n",
    "$$\n",
    "\\begin{align*}\n",
    "\\operatorname{minimize} ~~ & ~~\n",
    "d_{\\overline{k}} = \\sum_{j \\neq k} l_j, \\\\\n",
    "\\text{subject to} ~~ & ~~\n",
    "a_{ij} \\left( \\mu w_{j}^{C} - l_j \\right) \\leq \\mu w_{i}^{C} + l_i, &&\n",
    "i \\neq j, k, ~~ & j \\neq k \\\\ & ~~\n",
    "a_{kj} \\left( \\mu w_{j}^{C} - l_j \\right) \\leq 1-\\mu + l_k, &&\n",
    "j \\neq k \\\\ & ~~\n",
    "a_{ik} \\{ \\left(1- \\mu \\right) - l_k \\} \\leq \\mu w_{i}^{C} + l_i, &&\n",
    "i \\neq k \\\\ & ~~\n",
    "\\left( 1 - \\mu \\right) + l_k + \\sum_{i \\neq j, k} \\left( \\mu w_{i}^{C} + l_i \\right) + \\mu w_{j}^{C} - l_j \\geq 1, &&\n",
    "i \\in N \\backslash k \\\\ & ~~\n",
    "\\left( 1 - \\mu \\right) - l_k + \\sum_{i \\neq j, k} \\left( \\mu w_{i}^{C} - l_i \\right) + \\mu w_{j}^{C} + l_j \\leq 1, &&\n",
    "i \\in N \\backslash k \\\\ & ~~\n",
    "\\mu w_{i}^{C} - l_i \\geq \\epsilon, &&\n",
    "i \\in N, ~~ & i \\neq k \\\\ & ~~\n",
    "\n",
    "\\left( 1 - \\mu \\right) - l_k \\geq \\epsilon \\\\ & ~~\n",
    "\\sum_{i \\neq k} \\left( \\mu w_{i}^{C} + l_i \\right) + \\left( 1 - \\mu \\right) - l_k \\geq 1 \\\\ & ~~\n",
    "\\sum_{i \\neq k} \\left( \\mu w_{i}^{C} - l_i \\right) + \\left( 1 - \\mu \\right) + l_k \\leq 1 \\\\ & ~~\n",
    "\n",
    "\n",
    "\\end{align*}\n",
    "$$\n",
    "\n"
   ]
  },
  {
   "cell_type": "markdown",
   "metadata": {},
   "source": [
    "**Phase 3**  \n",
    "各 $k$ に対して、以下の線形最適化問題を解き、最適値を $l_{k}^{*}$ とする：  \n",
    "$$\n",
    "\\begin{align*}\n",
    "\\operatorname{minimize} ~~ & ~~\n",
    "l_k, \\\\\n",
    "\\text{subject to} ~~ & ~~\n",
    "a_{ij} \\left( \\mu w_{j}^{C} - l_j \\right) \\leq \\mu w_{i}^{C} + l_i, &&\n",
    "i \\neq j, k, ~~ & j \\neq k \\\\ & ~~\n",
    "a_{kj} \\left( \\mu w_{j}^{C} - l_j \\right) \\leq 1-\\mu + l_k, &&\n",
    "j \\neq k \\\\ & ~~\n",
    "a_{ik} \\{ \\left(1- \\mu \\right) - l_k \\} \\leq \\mu w_{i}^{C} + l_i, &&\n",
    "i \\neq k \\\\ & ~~\n",
    "\\left( 1 - \\mu \\right) + l_k + \\sum_{i \\neq j, k} \\left( \\mu w_{i}^{C} + l_i \\right) + \\mu w_{j}^{C} - l_j \\geq 1, &&\n",
    "i \\in N \\backslash k \\\\ & ~~\n",
    "\\left( 1 - \\mu \\right) - l_k + \\sum_{i \\neq j, k} \\left( \\mu w_{i}^{C} - l_i \\right) + \\mu w_{j}^{C} + l_j \\leq 1, &&\n",
    "i \\in N \\backslash k \\\\ & ~~\n",
    "\\mu w_{i}^{C} - l_i \\geq \\epsilon, &&\n",
    "i \\in N, ~~ & i \\neq k \\\\ & ~~\n",
    "\n",
    "\\left( 1 - \\mu \\right) - l_k \\geq \\epsilon \\\\ & ~~\n",
    "\\sum_{i \\neq k} \\left( \\mu w_{i}^{C} + l_i \\right) + \\left( 1 - \\mu \\right) - l_k \\geq 1 \\\\ & ~~\n",
    "\\sum_{i \\neq k} \\left( \\mu w_{i}^{C} - l_i \\right) + \\left( 1 - \\mu \\right) + l_k \\leq 1 \\\\ & ~~\n",
    "\\sum_{i \\neq j, k} l_k = d_{\\overline{k}}^{*}\\\\ & ~~\n",
    "\n",
    "\n",
    "\\end{align*}\n",
    "$$"
   ]
  },
  {
   "cell_type": "markdown",
   "metadata": {},
   "source": [
    "**Phase 4**  \n",
    "Phase 3 で導かれた結果は各$k$に対して存在するから、以下のようにして結果を統合する：  \n",
    "* 各$l_{k}^{*}$に対して、  \n",
    "$$\\left\\{\\begin{array}{l}w_i(k)=\\left[\\mu_{k}^* w_i^c-l_{k}^{*},\\:\\: \\mu_{k}^* w_i^c+l_{k}^{*}\\right], \\quad i \\neq k \\\\ w_i(k)=\\left[\\left(1-\\mu_{k}^*\\right)-l_{k}^{*},\\:\\:\\left(1-\\mu_{k}^*\\right)+l_{k}^{*}\\right], \\quad i=k\\end{array}\\right.$$\n",
    "  \n",
    "\n",
    "$$\\overline{w}_i^L=\\frac{1}{n} \\sum_{i \\in N} w_i^L(k) \\quad \\overline{w}_i^U=\\frac{1}{n} \\sum_{i \\in N} w_i^U(k)$$  \n",
    "\n",
    "この結果は，正規性を満たしている．"
   ]
  },
  {
   "cell_type": "code",
   "execution_count": 9,
   "metadata": {},
   "outputs": [],
   "source": [
    "# import Pkg\n",
    "# Pkg.add(\"DataFrames\")\n",
    "# Pkg.add(\"CSV\")\n",
    "# Pkg.add(\"IntervalSets\")\n",
    "# Pkg.add(\"LatexStrings\")"
   ]
  },
  {
   "cell_type": "code",
   "execution_count": 10,
   "metadata": {},
   "outputs": [
    {
     "data": {
      "text/plain": [
       "AMR (generic function with 1 method)"
      ]
     },
     "metadata": {},
     "output_type": "display_data"
    }
   ],
   "source": [
    "using DataFrames, CSV\n",
    "using IntervalArithmetic\n",
    "using LaTeXStrings\n",
    "using Statistics\n",
    "# using Base\n",
    "include(\"./libs/display-latex.jl\")\n",
    "include(\"./libs/crisp-pcm.jl\")\n",
    "include(\"./libs/analysis-indicators.jl\")\n",
    "include(\"./libs/solve-deterministic-ahp.jl\")\n",
    "include(\"./libs/AMR.jl\")"
   ]
  },
  {
   "cell_type": "code",
   "execution_count": 11,
   "metadata": {},
   "outputs": [],
   "source": [
    "# 評価基準数\n",
    "N = 6;\n",
    "# 真の区間重要度のセッティング\n",
    "true_importance = \"E\"; # [\"A\", \"B\", \"C\", \"D\", \"E\"]"
   ]
  },
  {
   "cell_type": "code",
   "execution_count": 12,
   "metadata": {},
   "outputs": [
    {
     "data": {
      "text/latex": [
       "$T = \\begin{pmatrix} \\left[ 0.2, 0.26 \\right] \\\\ \\left[ 0.15, 0.25 \\right] \\\\ \\left[ 0.11, 0.25 \\right] \\\\ \\left[ 0.08, 0.22 \\right] \\\\ \\left[ 0.08, 0.18 \\right] \\\\ \\left[ 0.08, 0.14 \\right] \\end{pmatrix}$"
      ],
      "text/plain": [
       "L\"$T = \\begin{pmatrix} \\left[ 0.2, 0.26 \\right] \\\\ \\left[ 0.15, 0.25 \\right] \\\\ \\left[ 0.11, 0.25 \\right] \\\\ \\left[ 0.08, 0.22 \\right] \\\\ \\left[ 0.08, 0.18 \\right] \\\\ \\left[ 0.08, 0.14 \\right] \\end{pmatrix}$\""
      ]
     },
     "metadata": {},
     "output_type": "display_data"
    }
   ],
   "source": [
    "# 真の区間重要度を読み込み\n",
    "df = CSV.File(\"./data/N\"*string(N)*\"_\"*true_importance*\"_Given_interval_weight.csv\", header=false) |> DataFrame\n",
    "T = Vector{Interval{Float64}}() # Float64のところにTを使うとおかしくなるのはなぜか？\n",
    "for i in 1:N\n",
    "    push!(T, interval(df[1, 2*i-1], df[1, 2*i]))\n",
    "end\n",
    "\n",
    "display(L\"T = %$(intervalVectorLaTeXString(T))\")"
   ]
  },
  {
   "cell_type": "code",
   "execution_count": 13,
   "metadata": {},
   "outputs": [],
   "source": [
    "# 一対比較行列を1000個読み込み\n",
    "df1 = CSV.File(\"./data/N\"*string(N)*\"_a3_\"*true_importance*\"_PCM_int.csv\", header=false) |> DataFrame\n",
    "\n",
    "# データフレームをN×Nのサブデータフレームに分割\n",
    "subdfs = split_dataframe(df1, N);"
   ]
  },
  {
   "cell_type": "code",
   "execution_count": 14,
   "metadata": {},
   "outputs": [],
   "source": [
    "# 結果格納用\n",
    "P = Matrix{Float64}(undef, N, 1000)\n",
    "Q = Matrix{Float64}(undef, N, 1000)\n",
    "R = Matrix{Float64}(undef, N, 1000)\n",
    "F = Matrix{Float64}(undef, N, 1000)\n",
    "\n",
    "# 1000個のデータで推定\n",
    "for (i, subdf) in enumerate(subdfs)\n",
    "\n",
    "    # 一対比較行列を取り出す\n",
    "    A = Matrix(subdf)\n",
    "    # display(L\"A = %$(matrixLaTeXString(A))\")\n",
    "    # if i == 779\n",
    "    #     println(\"i = \", i)\n",
    "    #     display(L\"A = %$(matrixLaTeXString(A))\")\n",
    "    # end\n",
    "\n",
    "    # 提案手法で区間重要度推定\n",
    "    solution = AMR(A, EV)\n",
    "    E = solution.W # 区間重要度の推定値\n",
    "    # display(L\"E = %$(intervalVectorLaTeXString(E))\")\n",
    "    # display(L\"T = %$(intervalVectorLaTeXString(T))\")\n",
    "\n",
    "    TcapE = T .∩ E # 真の区間重要度と推定値の積集合\n",
    "    TcupE = T .∪ E # 真の区間重要度と推定値の和集合\n",
    "    # display(L\"T ∩ E = %$(intervalVectorLaTeXString(TcapE))\")\n",
    "    # display(L\"T ∪ E = %$(intervalVectorLaTeXString(TcupE))\")\n",
    "    \n",
    "    # P, Q, R, F の計算\n",
    "    P[:, i] = calculate_P(T, E) # 真の区間重要度と推定値の積集合の割合\n",
    "    Q[:, i] = calculate_Q(T, E) # 真の区間重要度と推定値の積集合の割合\n",
    "    R[:, i] = calculate_R(T, E) # 真の区間重要度と推定値の積集合の割合\n",
    "    F[:, i] = calculate_F(T, E) # F値\n",
    "    # println(\"i = \", i)\n",
    "    # display(L\"P = %$(VectorLaTeXString(P[:,i]))\")\n",
    "    # display(L\"Q = %$(VectorLaTeXString(Q[:,i]))\")\n",
    "    # display(L\"R = %$(VectorLaTeXString(R[:,i]))\")\n",
    "    # display(L\"F = %$(VectorLaTeXString(F[:,i]))\")\n",
    "end"
   ]
  },
  {
   "cell_type": "code",
   "execution_count": 15,
   "metadata": {},
   "outputs": [
    {
     "data": {
      "text/latex": [
       "$Pₐᵥₑ = 0.6118$"
      ],
      "text/plain": [
       "L\"$Pₐᵥₑ = 0.6118$\""
      ]
     },
     "metadata": {},
     "output_type": "display_data"
    },
    {
     "data": {
      "text/latex": [
       "$Qₐᵥₑ = 0.75162$"
      ],
      "text/plain": [
       "L\"$Qₐᵥₑ = 0.75162$\""
      ]
     },
     "metadata": {},
     "output_type": "display_data"
    },
    {
     "data": {
      "text/latex": [
       "$Rₐᵥₑ = 0.78664$"
      ],
      "text/plain": [
       "L\"$Rₐᵥₑ = 0.78664$\""
      ]
     },
     "metadata": {},
     "output_type": "display_data"
    },
    {
     "data": {
      "text/latex": [
       "$Fₐᵥₑ = 0.74093$"
      ],
      "text/plain": [
       "L\"$Fₐᵥₑ = 0.74093$\""
      ]
     },
     "metadata": {},
     "output_type": "display_data"
    }
   ],
   "source": [
    "P_ave = mean(P)\n",
    "Q_ave = mean(Q)\n",
    "R_ave = mean(R)\n",
    "F_ave = mean(F)\n",
    "display(L\"Pₐᵥₑ = %$(round(P_ave, digits=5))\")\n",
    "display(L\"Qₐᵥₑ = %$(round(Q_ave, digits=5))\")\n",
    "display(L\"Rₐᵥₑ = %$(round(R_ave, digits=5))\")\n",
    "display(L\"Fₐᵥₑ = %$(round(F_ave, digits=5))\")"
   ]
  },
  {
   "cell_type": "code",
   "execution_count": 16,
   "metadata": {},
   "outputs": [
    {
     "data": {
      "text/latex": [
       "$Pᵥₐᵣ = 0.03416$"
      ],
      "text/plain": [
       "L\"$Pᵥₐᵣ = 0.03416$\""
      ]
     },
     "metadata": {},
     "output_type": "display_data"
    },
    {
     "data": {
      "text/latex": [
       "$Qᵥₐᵣ = 0.04655$"
      ],
      "text/plain": [
       "L\"$Qᵥₐᵣ = 0.04655$\""
      ]
     },
     "metadata": {},
     "output_type": "display_data"
    },
    {
     "data": {
      "text/latex": [
       "$Rᵥₐᵣ = 0.0416$"
      ],
      "text/plain": [
       "L\"$Rᵥₐᵣ = 0.0416$\""
      ]
     },
     "metadata": {},
     "output_type": "display_data"
    },
    {
     "data": {
      "text/latex": [
       "$Fᵥₐᵣ = 0.02615$"
      ],
      "text/plain": [
       "L\"$Fᵥₐᵣ = 0.02615$\""
      ]
     },
     "metadata": {},
     "output_type": "display_data"
    }
   ],
   "source": [
    "P_var = var(P)\n",
    "Q_var = var(Q)\n",
    "R_var = var(R)\n",
    "F_var = var(F)\n",
    "display(L\"Pᵥₐᵣ = %$(round(P_var, digits=5))\")\n",
    "display(L\"Qᵥₐᵣ = %$(round(Q_var, digits=5))\")\n",
    "display(L\"Rᵥₐᵣ = %$(round(R_var, digits=5))\")\n",
    "display(L\"Fᵥₐᵣ = %$(round(F_var, digits=5))\")"
   ]
  }
 ],
 "metadata": {
  "kernelspec": {
   "display_name": "Julia 1.9.4",
   "language": "julia",
   "name": "julia-1.9"
  },
  "language_info": {
   "file_extension": ".jl",
   "mimetype": "application/julia",
   "name": "julia",
   "version": "1.9.4"
  }
 },
 "nbformat": 4,
 "nbformat_minor": 2
}
