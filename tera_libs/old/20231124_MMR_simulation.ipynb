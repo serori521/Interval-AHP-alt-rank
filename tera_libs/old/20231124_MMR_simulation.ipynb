{
 "cells": [
  {
   "cell_type": "markdown",
   "metadata": {},
   "source": [
    "提案手法の説明は若干修正の必要あり"
   ]
  },
  {
   "cell_type": "markdown",
   "metadata": {},
   "source": [
    "# 11/24ゼミ\n",
    "\n",
    "**提案手法**  \n",
    "**Phase 1**  \n",
    "区間重要度の中心を各手法で推定  \n",
    "* $k$ 番目を除いた $n-1$ 個の $w_i$ に対して EV, GM, ALD で $w_{i}^{C}(k)$ を求める（この時点でそれらの総和は１となる）\n",
    "* 上記で求めた $w_{i}^{C}(k)$ の和を $\\mu_k$ 倍することで、 $k$ 番目の区間重要度中心は $1-\\mu_k$ となる\n",
    "\n",
    "**Phase 2**  \n",
    "各 $k$ に対して、以下の線形最適化問題を解き、最適値を $d_{\\overline{k}}^{*}$ とする：  \n",
    "$$\n",
    "\\begin{align*}\n",
    "\\operatorname{minimize} ~~ & ~~\n",
    "d_{\\overline{k}} = \\sum_{j \\neq k} l_j, \\\\\n",
    "\\text{subject to} ~~ & ~~\n",
    "a_{ij} \\left( \\mu w_{j}^{C} - l_j \\right) \\leq \\mu w_{i}^{C} + l_i, &&\n",
    "i \\neq j, k, ~~ & j \\neq k \\\\ & ~~\n",
    "a_{kj} \\left( \\mu w_{j}^{C} - l_j \\right) \\leq 1-\\mu + l_k, &&\n",
    "j \\neq k \\\\ & ~~\n",
    "a_{ik} \\{ \\left(1- \\mu \\right) - l_k \\} \\leq \\mu w_{i}^{C} + l_i, &&\n",
    "i \\neq k \\\\ & ~~\n",
    "\\left( 1 - \\mu \\right) + l_k + \\sum_{i \\neq j, k} \\left( \\mu w_{i}^{C} + l_i \\right) + \\mu w_{j}^{C} - l_j \\geq 1, &&\n",
    "i \\in N \\backslash k \\\\ & ~~\n",
    "\\left( 1 - \\mu \\right) - l_k + \\sum_{i \\neq j, k} \\left( \\mu w_{i}^{C} - l_i \\right) + \\mu w_{j}^{C} + l_j \\leq 1, &&\n",
    "i \\in N \\backslash k \\\\ & ~~\n",
    "\\mu w_{i}^{C} - l_i \\geq \\epsilon, &&\n",
    "i \\in N, ~~ & i \\neq k \\\\ & ~~\n",
    "\n",
    "\\left( 1 - \\mu \\right) - l_k \\geq \\epsilon \\\\ & ~~\n",
    "\\sum_{i \\neq k} \\left( \\mu w_{i}^{C} + l_i \\right) + \\left( 1 - \\mu \\right) - l_k \\geq 1 \\\\ & ~~\n",
    "\\sum_{i \\neq k} \\left( \\mu w_{i}^{C} - l_i \\right) + \\left( 1 - \\mu \\right) + l_k \\leq 1 \\\\ & ~~\n",
    "\n",
    "\n",
    "\\end{align*}\n",
    "$$\n",
    "\n"
   ]
  },
  {
   "cell_type": "markdown",
   "metadata": {},
   "source": [
    "**Phase 3**  \n",
    "各 $k$ に対して、以下の線形最適化問題を解き、最適値を $l_{k}^{*}$ とする：  \n",
    "$$\n",
    "\\begin{align*}\n",
    "\\operatorname{minimize} ~~ & ~~\n",
    "l_k, \\\\\n",
    "\\text{subject to} ~~ & ~~\n",
    "a_{ij} \\left( \\mu w_{j}^{C} - l_j \\right) \\leq \\mu w_{i}^{C} + l_i, &&\n",
    "i \\neq j, k, ~~ & j \\neq k \\\\ & ~~\n",
    "a_{kj} \\left( \\mu w_{j}^{C} - l_j \\right) \\leq 1-\\mu + l_k, &&\n",
    "j \\neq k \\\\ & ~~\n",
    "a_{ik} \\{ \\left(1- \\mu \\right) - l_k \\} \\leq \\mu w_{i}^{C} + l_i, &&\n",
    "i \\neq k \\\\ & ~~\n",
    "\\left( 1 - \\mu \\right) + l_k + \\sum_{i \\neq j, k} \\left( \\mu w_{i}^{C} + l_i \\right) + \\mu w_{j}^{C} - l_j \\geq 1, &&\n",
    "i \\in N \\backslash k \\\\ & ~~\n",
    "\\left( 1 - \\mu \\right) - l_k + \\sum_{i \\neq j, k} \\left( \\mu w_{i}^{C} - l_i \\right) + \\mu w_{j}^{C} + l_j \\leq 1, &&\n",
    "i \\in N \\backslash k \\\\ & ~~\n",
    "\\mu w_{i}^{C} - l_i \\geq \\epsilon, &&\n",
    "i \\in N, ~~ & i \\neq k \\\\ & ~~\n",
    "\n",
    "\\left( 1 - \\mu \\right) - l_k \\geq \\epsilon \\\\ & ~~\n",
    "\\sum_{i \\neq k} \\left( \\mu w_{i}^{C} + l_i \\right) + \\left( 1 - \\mu \\right) - l_k \\geq 1 \\\\ & ~~\n",
    "\\sum_{i \\neq k} \\left( \\mu w_{i}^{C} - l_i \\right) + \\left( 1 - \\mu \\right) + l_k \\leq 1 \\\\ & ~~\n",
    "\\sum_{i \\neq j, k} l_k = d_{\\overline{k}}^{*}\\\\ & ~~\n",
    "\n",
    "\n",
    "\\end{align*}\n",
    "$$"
   ]
  },
  {
   "cell_type": "markdown",
   "metadata": {},
   "source": [
    "**Phase 4**  \n",
    "Phase 3 で導かれた結果は各$k$に対して存在するから、以下のようにして結果を統合する：  \n",
    "* 各$l_{k}^{*}$に対して、  \n",
    "$$\\left\\{\\begin{array}{l}w_i(k)=\\left[\\mu_{k}^* w_i^c-l_{k}^{*},\\:\\: \\mu_{k}^* w_i^c+l_{k}^{*}\\right], \\quad i \\neq k \\\\ w_i(k)=\\left[\\left(1-\\mu_{k}^*\\right)-l_{k}^{*},\\:\\:\\left(1-\\mu_{k}^*\\right)+l_{k}^{*}\\right], \\quad i=k\\end{array}\\right.$$\n",
    "  \n",
    "\n",
    "$$\\overline{w}_i^L=\\min _{k \\in N} w_i^L(k) \\quad \\overline{w}_i^U=\\max _{k \\in N} w_i^U(k)$$  \n",
    "  \n",
    "ここで、$\\overline{w}_i^L$ と $\\overline{w}_i^U$ の中心 $\\overline{w}_i^C$の総和が1となるように正規化する：\n",
    "  \n",
    "$$\\overline{\\overline{w}}_i^L=\\frac{\\overline{w}_i^L}{\\sum_{i \\in N} \\frac{\\overline{w}_i^L+\\overline{w}_i^U}{2}} \\quad \\overline{\\overline{w}}_i^U=\\frac{\\overline{w}_i^U}{\\sum_{i \\in N} \\frac{\\overline{w}_i^L+\\overline{w}_i^U}{2}}$$\n",
    "  \n",
    "\n"
   ]
  },
  {
   "cell_type": "code",
   "execution_count": 1,
   "metadata": {},
   "outputs": [],
   "source": [
    "# import Pkg\n",
    "# Pkg.add(\"DataFrames\")\n",
    "# Pkg.add(\"CSV\")\n",
    "# Pkg.add(\"IntervalSets\")\n",
    "# Pkg.add(\"LatexStrings\")"
   ]
  },
  {
   "cell_type": "code",
   "execution_count": 2,
   "metadata": {},
   "outputs": [
    {
     "data": {
      "text/plain": [
       "solveIntervalAHP (generic function with 1 method)"
      ]
     },
     "metadata": {},
     "output_type": "display_data"
    }
   ],
   "source": [
    "using DataFrames, CSV\n",
    "using IntervalArithmetic\n",
    "using LaTeXStrings\n",
    "using Statistics\n",
    "# using Base\n",
    "include(\"./libs/display-latex.jl\")\n",
    "include(\"./libs/crisp-pcm.jl\")\n",
    "include(\"./libs/analysis-indicators.jl\")\n",
    "include(\"./libs/solve-deterministic-ahp.jl\")\n",
    "include(\"./libs/MMR.jl\")"
   ]
  },
  {
   "cell_type": "code",
   "execution_count": 3,
   "metadata": {},
   "outputs": [],
   "source": [
    "# 評価基準数\n",
    "N = 5;"
   ]
  },
  {
   "cell_type": "code",
   "execution_count": 4,
   "metadata": {},
   "outputs": [
    {
     "data": {
      "text/latex": [
       "$T = \\begin{pmatrix} \\left[ 0.27, 0.33 \\right] \\\\ \\left[ 0.21, 0.29 \\right] \\\\ \\left[ 0.15, 0.25 \\right] \\\\ \\left[ 0.09, 0.21 \\right] \\\\ \\left[ 0.03, 0.17 \\right] \\end{pmatrix}$"
      ],
      "text/plain": [
       "L\"$T = \\begin{pmatrix} \\left[ 0.27, 0.33 \\right] \\\\ \\left[ 0.21, 0.29 \\right] \\\\ \\left[ 0.15, 0.25 \\right] \\\\ \\left[ 0.09, 0.21 \\right] \\\\ \\left[ 0.03, 0.17 \\right] \\end{pmatrix}$\""
      ]
     },
     "metadata": {},
     "output_type": "display_data"
    }
   ],
   "source": [
    "# 真の区間重要度を読み込み\n",
    "df = CSV.File(\"./data/N5_Given_interval_weight.csv\", header=false) |> DataFrame\n",
    "T = Vector{Interval{Float64}}() # Float64のところにTを使うとおかしくなるのはなぜか？\n",
    "for i in 1:N\n",
    "    push!(T, interval(df[1, 2*i-1], df[1, 2*i]))\n",
    "end\n",
    "\n",
    "display(L\"T = %$(intervalVectorLaTeXString(T))\")"
   ]
  },
  {
   "cell_type": "code",
   "execution_count": 5,
   "metadata": {},
   "outputs": [],
   "source": [
    "# 一対比較行列を1000個読み込み\n",
    "df1 = CSV.File(\"./data/N5_a3_C_PCM_int.csv\", header=false) |> DataFrame\n",
    "\n",
    "# データフレームをN×Nのサブデータフレームに分割\n",
    "subdfs = split_dataframe(df1, N);"
   ]
  },
  {
   "cell_type": "code",
   "execution_count": 6,
   "metadata": {},
   "outputs": [],
   "source": [
    "# 結果格納用\n",
    "P = Matrix{Float64}(undef, N, 1000)\n",
    "Q = Matrix{Float64}(undef, N, 1000)\n",
    "R = Matrix{Float64}(undef, N, 1000)\n",
    "F = Matrix{Float64}(undef, N, 1000)\n",
    "\n",
    "# 1000個のデータで推定\n",
    "for (i, subdf) in enumerate(subdfs)\n",
    "\n",
    "    # 一対比較行列を取り出す\n",
    "    A = Matrix(subdf)\n",
    "    # display(L\"A = %$(matrixLaTeXString(A))\")\n",
    "\n",
    "    # 提案手法で区間重要度推定\n",
    "    solution = MMR(A, EV)\n",
    "    E = solution.W # 区間重要度の推定値\n",
    "    # display(L\"E = %$(intervalVectorLaTeXString(E))\")\n",
    "    # display(L\"T = %$(intervalVectorLaTeXString(T))\")\n",
    "\n",
    "    TcapE = T .∩ E # 真の区間重要度と推定値の積集合\n",
    "    TcupE = T .∪ E # 真の区間重要度と推定値の和集合\n",
    "    # display(L\"T ∩ E = %$(intervalVectorLaTeXString(TcapE))\")\n",
    "    # display(L\"T ∪ E = %$(intervalVectorLaTeXString(TcupE))\")\n",
    "    \n",
    "    # P, Q, R, F の計算\n",
    "    P[:, i] = calculate_P(T, E) # 真の区間重要度と推定値の積集合の割合\n",
    "    Q[:, i] = calculate_Q(T, E) # 真の区間重要度と推定値の積集合の割合\n",
    "    R[:, i] = calculate_R(T, E) # 真の区間重要度と推定値の積集合の割合\n",
    "    F[:, i] = calculate_F(T, E) # F値\n",
    "    # display(L\"P = %$(VectorLaTeXString(P[:,i]))\")\n",
    "    # display(L\"Q = %$(VectorLaTeXString(Q[:,i]))\")\n",
    "    # display(L\"R = %$(VectorLaTeXString(R[:,i]))\")\n",
    "    # display(L\"F = %$(VectorLaTeXString(F[:,i]))\")\n",
    "end"
   ]
  },
  {
   "cell_type": "code",
   "execution_count": 7,
   "metadata": {},
   "outputs": [
    {
     "data": {
      "text/latex": [
       "$Pₐᵥₑ = 0.48374$"
      ],
      "text/plain": [
       "L\"$Pₐᵥₑ = 0.48374$\""
      ]
     },
     "metadata": {},
     "output_type": "display_data"
    },
    {
     "data": {
      "text/latex": [
       "$Qₐᵥₑ = 0.92428$"
      ],
      "text/plain": [
       "L\"$Qₐᵥₑ = 0.92428$\""
      ]
     },
     "metadata": {},
     "output_type": "display_data"
    },
    {
     "data": {
      "text/latex": [
       "$Rₐᵥₑ = 0.51156$"
      ],
      "text/plain": [
       "L\"$Rₐᵥₑ = 0.51156$\""
      ]
     },
     "metadata": {},
     "output_type": "display_data"
    },
    {
     "data": {
      "text/latex": [
       "$Fₐᵥₑ = 0.62899$"
      ],
      "text/plain": [
       "L\"$Fₐᵥₑ = 0.62899$\""
      ]
     },
     "metadata": {},
     "output_type": "display_data"
    }
   ],
   "source": [
    "P_ave = mean(P)\n",
    "Q_ave = mean(Q)\n",
    "R_ave = mean(R)\n",
    "F_ave = mean(F)\n",
    "display(L\"Pₐᵥₑ = %$(round(P_ave, digits=5))\")\n",
    "display(L\"Qₐᵥₑ = %$(round(Q_ave, digits=5))\")\n",
    "display(L\"Rₐᵥₑ = %$(round(R_ave, digits=5))\")\n",
    "display(L\"Fₐᵥₑ = %$(round(F_ave, digits=5))\")"
   ]
  },
  {
   "cell_type": "code",
   "execution_count": 8,
   "metadata": {},
   "outputs": [
    {
     "data": {
      "text/latex": [
       "$Pᵥₐᵣ = 0.03766$"
      ],
      "text/plain": [
       "L\"$Pᵥₐᵣ = 0.03766$\""
      ]
     },
     "metadata": {},
     "output_type": "display_data"
    },
    {
     "data": {
      "text/latex": [
       "$Qᵥₐᵣ = 0.02702$"
      ],
      "text/plain": [
       "L\"$Qᵥₐᵣ = 0.02702$\""
      ]
     },
     "metadata": {},
     "output_type": "display_data"
    },
    {
     "data": {
      "text/latex": [
       "$Rᵥₐᵣ = 0.04653$"
      ],
      "text/plain": [
       "L\"$Rᵥₐᵣ = 0.04653$\""
      ]
     },
     "metadata": {},
     "output_type": "display_data"
    },
    {
     "data": {
      "text/latex": [
       "$Fᵥₐᵣ = 0.03198$"
      ],
      "text/plain": [
       "L\"$Fᵥₐᵣ = 0.03198$\""
      ]
     },
     "metadata": {},
     "output_type": "display_data"
    }
   ],
   "source": [
    "P_var = var(P)\n",
    "Q_var = var(Q)\n",
    "R_var = var(R)\n",
    "F_var = var(F)\n",
    "display(L\"Pᵥₐᵣ = %$(round(P_var, digits=5))\")\n",
    "display(L\"Qᵥₐᵣ = %$(round(Q_var, digits=5))\")\n",
    "display(L\"Rᵥₐᵣ = %$(round(R_var, digits=5))\")\n",
    "display(L\"Fᵥₐᵣ = %$(round(F_var, digits=5))\")"
   ]
  }
 ],
 "metadata": {
  "kernelspec": {
   "display_name": "Julia 1.9.4",
   "language": "julia",
   "name": "julia-1.9"
  },
  "language_info": {
   "file_extension": ".jl",
   "mimetype": "application/julia",
   "name": "julia",
   "version": "1.9.4"
  }
 },
 "nbformat": 4,
 "nbformat_minor": 2
}
