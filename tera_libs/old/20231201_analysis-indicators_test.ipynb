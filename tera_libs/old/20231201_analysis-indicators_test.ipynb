{
 "cells": [
  {
   "cell_type": "code",
   "execution_count": 27,
   "metadata": {},
   "outputs": [
    {
     "data": {
      "text/plain": [
       "calculate_F (generic function with 1 method)"
      ]
     },
     "metadata": {},
     "output_type": "display_data"
    }
   ],
   "source": [
    "using DataFrames, CSV\n",
    "using IntervalArithmetic\n",
    "using LaTeXStrings\n",
    "using Statistics\n",
    "\n",
    "include(\"./libs/display-latex.jl\")\n",
    "include(\"./libs/analysis-indicators.jl\");"
   ]
  },
  {
   "cell_type": "code",
   "execution_count": 28,
   "metadata": {},
   "outputs": [
    {
     "data": {
      "text/latex": [
       "$T = \\begin{pmatrix} \\left[ 0.0, 1.0 \\right] \\\\ \\left[ 0.0, 2.0 \\right] \\\\ \\left[ 0.0, 3.0 \\right] \\\\ \\left[ 0.0, 4.0 \\right] \\\\ \\left[ 0.0, 5.0 \\right] \\end{pmatrix}$"
      ],
      "text/plain": [
       "L\"$T = \\begin{pmatrix} \\left[ 0.0, 1.0 \\right] \\\\ \\left[ 0.0, 2.0 \\right] \\\\ \\left[ 0.0, 3.0 \\right] \\\\ \\left[ 0.0, 4.0 \\right] \\\\ \\left[ 0.0, 5.0 \\right] \\end{pmatrix}$\""
      ]
     },
     "metadata": {},
     "output_type": "display_data"
    },
    {
     "data": {
      "text/latex": [
       "$E = \\begin{pmatrix} \\left[ 0.0, 3.0 \\right] \\\\ \\left[ 0.0, 1.0 \\right] \\\\ \\left[ 0.0, 9.0 \\right] \\\\ \\left[ 0.0, 7.0 \\right] \\\\ \\left[ 0.0, 5.0 \\right] \\end{pmatrix}$"
      ],
      "text/plain": [
       "L\"$E = \\begin{pmatrix} \\left[ 0.0, 3.0 \\right] \\\\ \\left[ 0.0, 1.0 \\right] \\\\ \\left[ 0.0, 9.0 \\right] \\\\ \\left[ 0.0, 7.0 \\right] \\\\ \\left[ 0.0, 5.0 \\right] \\end{pmatrix}$\""
      ]
     },
     "metadata": {},
     "output_type": "display_data"
    }
   ],
   "source": [
    "T = [\n",
    "    interval(0, 0.08),\n",
    "    interval(0, 2),\n",
    "    interval(0, 3),\n",
    "    interval(0, 4),\n",
    "    interval(0, 5)\n",
    "]\n",
    "\n",
    "display(L\"T = %$(intervalVectorLaTeXString(T))\")\n",
    "\n",
    "E = [\n",
    "    interval(0, 3),\n",
    "    interval(0, 1),\n",
    "    interval(0, 9),\n",
    "    interval(0, 7),\n",
    "    interval(0, 5)\n",
    "]\n",
    "\n",
    "display(L\"E = %$(intervalVectorLaTeXString(E))\")"
   ]
  },
  {
   "cell_type": "code",
   "execution_count": 29,
   "metadata": {},
   "outputs": [
    {
     "data": {
      "text/latex": [
       "$T ∩ E = \\begin{pmatrix} \\left[ 0.0, 1.0 \\right] \\\\ \\left[ 0.0, 1.0 \\right] \\\\ \\left[ 0.0, 3.0 \\right] \\\\ \\left[ 0.0, 4.0 \\right] \\\\ \\left[ 0.0, 5.0 \\right] \\end{pmatrix}$"
      ],
      "text/plain": [
       "L\"$T ∩ E = \\begin{pmatrix} \\left[ 0.0, 1.0 \\right] \\\\ \\left[ 0.0, 1.0 \\right] \\\\ \\left[ 0.0, 3.0 \\right] \\\\ \\left[ 0.0, 4.0 \\right] \\\\ \\left[ 0.0, 5.0 \\right] \\end{pmatrix}$\""
      ]
     },
     "metadata": {},
     "output_type": "display_data"
    },
    {
     "data": {
      "text/latex": [
       "$T ∪ E = \\begin{pmatrix} \\left[ 0.0, 3.0 \\right] \\\\ \\left[ 0.0, 2.0 \\right] \\\\ \\left[ 0.0, 9.0 \\right] \\\\ \\left[ 0.0, 7.0 \\right] \\\\ \\left[ 0.0, 5.0 \\right] \\end{pmatrix}$"
      ],
      "text/plain": [
       "L\"$T ∪ E = \\begin{pmatrix} \\left[ 0.0, 3.0 \\right] \\\\ \\left[ 0.0, 2.0 \\right] \\\\ \\left[ 0.0, 9.0 \\right] \\\\ \\left[ 0.0, 7.0 \\right] \\\\ \\left[ 0.0, 5.0 \\right] \\end{pmatrix}$\""
      ]
     },
     "metadata": {},
     "output_type": "display_data"
    },
    {
     "data": {
      "text/latex": [
       "$P = \\begin{pmatrix} 0.333 \\\\ 0.5 \\\\ 0.333 \\\\ 0.571 \\\\ 1.0 \\end{pmatrix}$"
      ],
      "text/plain": [
       "L\"$P = \\begin{pmatrix} 0.333 \\\\ 0.5 \\\\ 0.333 \\\\ 0.571 \\\\ 1.0 \\end{pmatrix}$\""
      ]
     },
     "metadata": {},
     "output_type": "display_data"
    },
    {
     "data": {
      "text/latex": [
       "$Q = \\begin{pmatrix} 1.0 \\\\ 0.5 \\\\ 1.0 \\\\ 1.0 \\\\ 1.0 \\end{pmatrix}$"
      ],
      "text/plain": [
       "L\"$Q = \\begin{pmatrix} 1.0 \\\\ 0.5 \\\\ 1.0 \\\\ 1.0 \\\\ 1.0 \\end{pmatrix}$\""
      ]
     },
     "metadata": {},
     "output_type": "display_data"
    },
    {
     "data": {
      "text/latex": [
       "$R = \\begin{pmatrix} 0.333 \\\\ 1.0 \\\\ 0.333 \\\\ 0.571 \\\\ 1.0 \\end{pmatrix}$"
      ],
      "text/plain": [
       "L\"$R = \\begin{pmatrix} 0.333 \\\\ 1.0 \\\\ 0.333 \\\\ 0.571 \\\\ 1.0 \\end{pmatrix}$\""
      ]
     },
     "metadata": {},
     "output_type": "display_data"
    },
    {
     "data": {
      "text/latex": [
       "$F = \\begin{pmatrix} 0.5 \\\\ 0.667 \\\\ 0.5 \\\\ 0.727 \\\\ 1.0 \\end{pmatrix}$"
      ],
      "text/plain": [
       "L\"$F = \\begin{pmatrix} 0.5 \\\\ 0.667 \\\\ 0.5 \\\\ 0.727 \\\\ 1.0 \\end{pmatrix}$\""
      ]
     },
     "metadata": {},
     "output_type": "display_data"
    }
   ],
   "source": [
    "TcapE = T .∩ E # 真の区間重要度と推定値の積集合\n",
    "TcupE = T .∪ E # 真の区間重要度と推定値の和集合\n",
    "display(L\"T ∩ E = %$(intervalVectorLaTeXString(TcapE))\")\n",
    "display(L\"T ∪ E = %$(intervalVectorLaTeXString(TcupE))\")\n",
    "\n",
    "# P, Q, R, F の計算\n",
    "P = calculate_P(T, E) # 真の区間重要度と推定値の積集合の割合\n",
    "Q = calculate_Q(T, E) # 真の区間重要度と推定値の積集合の割合\n",
    "R = calculate_R(T, E) # 真の区間重要度と推定値の積集合の割合\n",
    "F = calculate_F(T, E) # F値\n",
    "display(L\"P = %$(VectorLaTeXString(P))\")\n",
    "display(L\"Q = %$(VectorLaTeXString(Q))\")\n",
    "display(L\"R = %$(VectorLaTeXString(R))\")\n",
    "display(L\"F = %$(VectorLaTeXString(F))\")"
   ]
  }
 ],
 "metadata": {
  "kernelspec": {
   "display_name": "Julia 1.9.4",
   "language": "julia",
   "name": "julia-1.9"
  },
  "language_info": {
   "file_extension": ".jl",
   "mimetype": "application/julia",
   "name": "julia",
   "version": "1.9.4"
  }
 },
 "nbformat": 4,
 "nbformat_minor": 2
}
