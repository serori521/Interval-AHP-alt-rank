{
 "cells": [
  {
   "cell_type": "code",
   "execution_count": 1,
   "metadata": {},
   "outputs": [],
   "source": [
    "using LaTeXStrings"
   ]
  },
  {
   "cell_type": "code",
   "execution_count": 2,
   "metadata": {},
   "outputs": [],
   "source": [
    "include(\"./libs/display-latex.jl\")\n",
    "include(\"./libs/crisp-pcm.jl\")\n",
    "include(\"./libs/solve-deterministic-ahp.jl\")\n",
    "include(\"./libs/AMR-kai.jl\");"
   ]
  },
  {
   "cell_type": "code",
   "execution_count": 3,
   "metadata": {},
   "outputs": [
    {
     "data": {
      "text/latex": [
       "$A = \\begin{pmatrix} 1.0 & 1.0 & 2.0 & 3.0 & 6.0 \\\\1.0 & 1.0 & 2.0 & 2.0 & 6.0 \\\\0.5 & 0.5 & 1.0 & 1.0 & 5.0 \\\\0.333 & 0.5 & 1.0 & 1.0 & 1.0 \\\\0.167 & 0.167 & 0.2 & 1.0 & 1.0 \\\\ \\end{pmatrix}$"
      ],
      "text/plain": [
       "L\"$A = \\begin{pmatrix} 1.0 & 1.0 & 2.0 & 3.0 & 6.0 \\\\1.0 & 1.0 & 2.0 & 2.0 & 6.0 \\\\0.5 & 0.5 & 1.0 & 1.0 & 5.0 \\\\0.333 & 0.5 & 1.0 & 1.0 & 1.0 \\\\0.167 & 0.167 & 0.2 & 1.0 & 1.0 \\\\ \\end{pmatrix}$\""
      ]
     },
     "metadata": {},
     "output_type": "display_data"
    }
   ],
   "source": [
    "# 完全整合 のもの\n",
    "# A = [\n",
    "#     1   3   5   7\n",
    "#     1/3 1   5/3 7/3\n",
    "#     1/5 3/5 1   7/5\n",
    "#     1/7 3/7 5/7 1\n",
    "# ]\n",
    "\n",
    "# CI = 0.01 のもの\n",
    "# A = [\n",
    "#     1 2 4/3 4/3\n",
    "#     1/2 1 1 1\n",
    "#     3/4 1 1 3/2\n",
    "#     3/4 1 2/3 1.0\n",
    "# ]\n",
    "\n",
    "# A = [\n",
    "#     1 1 2/3 1\n",
    "#     1 1 4/9 2/3\n",
    "#     3/2 9/4 1 1\n",
    "#     1 3/2 1 1.0\n",
    "# ]\n",
    "\n",
    "# CI = 0.15 のもの\n",
    "# A = [\n",
    "#     1 1 2 2\n",
    "#     1 1 3 1\n",
    "#     1/2 1/3 1 3\n",
    "#     1/2 1 1/3 1\n",
    "# ]\n",
    "\n",
    "# その他テストケース\n",
    "# A = [\n",
    "#     1.0  1.0  2.0  3.0  3.0\n",
    "#     1.0  1.0  2.0  3.0  5.0\n",
    "#     1/2  1/2  1.0  1.0  3.0\n",
    "#     1/3  1/3  1.0  1.0  2.0\n",
    "#     1/3  1/5  1/3  1/2  1.0\n",
    "# ]\n",
    "\n",
    "A = [\n",
    "    1.000000 1.000000 2.000000 3.000000 6.000000\n",
    "    1.000000 1.000000 2.000000 2.000000 6.000000\n",
    "    0.500000 0.500000 1.000000 1.000000 5.000000\n",
    "    0.333333 0.500000 1.000000 1.000000 1.000000\n",
    "    0.166667 0.166667 0.200000 1.000000 1.000000\n",
    "]\n",
    "\n",
    "display(L\"A = %$(matrixLaTeXString(A))\")"
   ]
  },
  {
   "cell_type": "code",
   "execution_count": 4,
   "metadata": {},
   "outputs": [
    {
     "data": {
      "text/plain": [
       "0.053778261838655084"
      ]
     },
     "metadata": {},
     "output_type": "display_data"
    }
   ],
   "source": [
    "consistencyIndex(A)"
   ]
  },
  {
   "cell_type": "code",
   "execution_count": 5,
   "metadata": {},
   "outputs": [
    {
     "data": {
      "text/latex": [
       "$eAMRw/c : \\begin{pmatrix} \\left[ 0.319, 0.333 \\right] \\\\ \\left[ 0.299, 0.319 \\right] \\\\ \\left[ 0.149, 0.215 \\right] \\\\ \\left[ 0.087, 0.151 \\right] \\\\ \\left[ 0.04, 0.088 \\right] \\end{pmatrix}$"
      ],
      "text/plain": [
       "L\"$eAMRw/c : \\begin{pmatrix} \\left[ 0.319, 0.333 \\right] \\\\ \\left[ 0.299, 0.319 \\right] \\\\ \\left[ 0.149, 0.215 \\right] \\\\ \\left[ 0.087, 0.151 \\right] \\\\ \\left[ 0.04, 0.088 \\right] \\end{pmatrix}$\""
      ]
     },
     "metadata": {},
     "output_type": "display_data"
    }
   ],
   "source": [
    "solution = AMR_kai(A, EV)\n",
    "W = solution.W\n",
    "display(L\"eAMRw/c : %$(intervalVectorLaTeXString(W))\")"
   ]
  },
  {
   "cell_type": "code",
   "execution_count": 6,
   "metadata": {},
   "outputs": [
    {
     "data": {
      "text/latex": [
       "$gAMRw/c : \\begin{pmatrix} \\left[ 0.324, 0.337 \\right] \\\\ \\left[ 0.297, 0.324 \\right] \\\\ \\left[ 0.149, 0.211 \\right] \\\\ \\left[ 0.085, 0.149 \\right] \\\\ \\left[ 0.039, 0.086 \\right] \\end{pmatrix}$"
      ],
      "text/plain": [
       "L\"$gAMRw/c : \\begin{pmatrix} \\left[ 0.324, 0.337 \\right] \\\\ \\left[ 0.297, 0.324 \\right] \\\\ \\left[ 0.149, 0.211 \\right] \\\\ \\left[ 0.085, 0.149 \\right] \\\\ \\left[ 0.039, 0.086 \\right] \\end{pmatrix}$\""
      ]
     },
     "metadata": {},
     "output_type": "display_data"
    }
   ],
   "source": [
    "solution = AMR_kai(A, GM)\n",
    "W = solution.W\n",
    "display(L\"gAMRw/c : %$(intervalVectorLaTeXString(W))\")"
   ]
  },
  {
   "cell_type": "code",
   "execution_count": 7,
   "metadata": {},
   "outputs": [
    {
     "data": {
      "text/latex": [
       "$lAMRw/c : \\begin{pmatrix} \\left[ 0.321, 0.321 \\right] \\\\ \\left[ 0.313, 0.321 \\right] \\\\ \\left[ 0.157, 0.185 \\right] \\\\ \\left[ 0.085, 0.177 \\right] \\\\ \\left[ 0.028, 0.091 \\right] \\end{pmatrix}$"
      ],
      "text/plain": [
       "L\"$lAMRw/c : \\begin{pmatrix} \\left[ 0.321, 0.321 \\right] \\\\ \\left[ 0.313, 0.321 \\right] \\\\ \\left[ 0.157, 0.185 \\right] \\\\ \\left[ 0.085, 0.177 \\right] \\\\ \\left[ 0.028, 0.091 \\right] \\end{pmatrix}$\""
      ]
     },
     "metadata": {},
     "output_type": "display_data"
    }
   ],
   "source": [
    "solution = AMR_kai(A, LM)\n",
    "W = solution.W\n",
    "display(L\"lAMRw/c : %$(intervalVectorLaTeXString(W))\")"
   ]
  }
 ],
 "metadata": {
  "kernelspec": {
   "display_name": "Julia 1.9.4",
   "language": "julia",
   "name": "julia-1.9"
  },
  "language_info": {
   "file_extension": ".jl",
   "mimetype": "application/julia",
   "name": "julia",
   "version": "1.9.4"
  }
 },
 "nbformat": 4,
 "nbformat_minor": 2
}
