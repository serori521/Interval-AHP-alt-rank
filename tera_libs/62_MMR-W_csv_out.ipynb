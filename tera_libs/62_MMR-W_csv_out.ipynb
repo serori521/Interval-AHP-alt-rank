{
 "cells": [
  {
   "cell_type": "markdown",
   "metadata": {},
   "source": [
    "このプログラムは，研究データを引き継ぐためのものです\n",
    "提案法の推定結果を印南さんのデータと同様のファイル形式で保存します．"
   ]
  },
  {
   "cell_type": "code",
   "execution_count": 1,
   "metadata": {},
   "outputs": [],
   "source": [
    "# import Pkg\n",
    "# Pkg.add(\"DataFrames\")\n",
    "# Pkg.add(\"CSV\")\n",
    "# Pkg.add(\"IntervalSets\")\n",
    "# Pkg.add(\"LatexStrings\")\n",
    "# Pkg.add(\"DataStructures\")"
   ]
  },
  {
   "cell_type": "code",
   "execution_count": 2,
   "metadata": {},
   "outputs": [],
   "source": [
    "using DataFrames, CSV\n",
    "using IntervalArithmetic\n",
    "using LaTeXStrings\n",
    "using Statistics\n",
    "using DataStructures\n",
    "# using Base\n",
    "include(\"./libs/display-latex.jl\")\n",
    "include(\"./libs/crisp-pcm.jl\")\n",
    "include(\"./libs/analysis-indicators.jl\")\n",
    "include(\"./libs/solve-deterministic-ahp.jl\")\n",
    "include(\"./libs/MMR-W.jl\");"
   ]
  },
  {
   "cell_type": "code",
   "execution_count": 3,
   "metadata": {},
   "outputs": [],
   "source": [
    "# 評価基準数\n",
    "num_criteria = [4, 5, 6, 7, 8];\n",
    "# 真の区間重要度のセッティング\n",
    "true_importance = [\"A\", \"B\", \"C\", \"D\", \"E\"]; # [\"A\", \"B\", \"C\", \"D\", \"E\"]"
   ]
  },
  {
   "cell_type": "code",
   "execution_count": 4,
   "metadata": {},
   "outputs": [
    {
     "name": "stdout",
     "output_type": "stream",
     "text": [
      "N = 4\n",
      "setting = A\n"
     ]
    },
    {
     "name": "stdout",
     "output_type": "stream",
     "text": [
      "N = 4\n",
      "setting = B\n"
     ]
    },
    {
     "name": "stdout",
     "output_type": "stream",
     "text": [
      "N = 4\n",
      "setting = C\n"
     ]
    },
    {
     "name": "stdout",
     "output_type": "stream",
     "text": [
      "N = 4\n",
      "setting = D\n"
     ]
    },
    {
     "name": "stdout",
     "output_type": "stream",
     "text": [
      "N = 4\n",
      "setting = E\n"
     ]
    },
    {
     "name": "stdout",
     "output_type": "stream",
     "text": [
      "N = 5\n",
      "setting = A\n"
     ]
    },
    {
     "name": "stdout",
     "output_type": "stream",
     "text": [
      "N = 5\n",
      "setting = B\n"
     ]
    },
    {
     "name": "stdout",
     "output_type": "stream",
     "text": [
      "N = 5\n",
      "setting = C\n"
     ]
    },
    {
     "name": "stdout",
     "output_type": "stream",
     "text": [
      "N = 5\n",
      "setting = D\n"
     ]
    },
    {
     "name": "stdout",
     "output_type": "stream",
     "text": [
      "N = 5\n",
      "setting = E\n"
     ]
    },
    {
     "name": "stdout",
     "output_type": "stream",
     "text": [
      "N = 6\n",
      "setting = A\n"
     ]
    },
    {
     "name": "stdout",
     "output_type": "stream",
     "text": [
      "N = 6\n",
      "setting = B\n"
     ]
    },
    {
     "name": "stdout",
     "output_type": "stream",
     "text": [
      "N = 6\n",
      "setting = C\n"
     ]
    },
    {
     "name": "stdout",
     "output_type": "stream",
     "text": [
      "N = 6\n",
      "setting = D\n"
     ]
    },
    {
     "name": "stdout",
     "output_type": "stream",
     "text": [
      "N = 6\n",
      "setting = E\n"
     ]
    },
    {
     "name": "stdout",
     "output_type": "stream",
     "text": [
      "N = 7\n",
      "setting = A\n"
     ]
    },
    {
     "name": "stdout",
     "output_type": "stream",
     "text": [
      "N = 7\n",
      "setting = B\n"
     ]
    },
    {
     "name": "stdout",
     "output_type": "stream",
     "text": [
      "N = 7\n",
      "setting = C\n"
     ]
    },
    {
     "name": "stdout",
     "output_type": "stream",
     "text": [
      "N = 7\n",
      "setting = D\n"
     ]
    },
    {
     "name": "stdout",
     "output_type": "stream",
     "text": [
      "N = 7\n",
      "setting = E\n"
     ]
    },
    {
     "name": "stdout",
     "output_type": "stream",
     "text": [
      "N = 8\n",
      "setting = A\n"
     ]
    },
    {
     "name": "stdout",
     "output_type": "stream",
     "text": [
      "N = 8\n",
      "setting = B\n"
     ]
    },
    {
     "name": "stdout",
     "output_type": "stream",
     "text": [
      "N = 8\n",
      "setting = C\n"
     ]
    },
    {
     "name": "stdout",
     "output_type": "stream",
     "text": [
      "N = 8\n",
      "setting = D\n"
     ]
    },
    {
     "name": "stdout",
     "output_type": "stream",
     "text": [
      "N = 8\n",
      "setting = E\n"
     ]
    }
   ],
   "source": [
    "# 真の区間重要度を読み込み\n",
    "for N in num_criteria\n",
    "    for setting in true_importance\n",
    "\n",
    "        # DataFrameを作成\n",
    "        Simp_columns = OrderedDict()\n",
    "        push!(Simp_columns, \"Num\" => Int[])\n",
    "        for i in 1:N\n",
    "            push!(Simp_columns, \"wL[$(i-1)]\" => Float64[])\n",
    "            push!(Simp_columns, \"wR[$(i-1)]\" => Float64[])\n",
    "        end\n",
    "        push!(Simp_columns, \"Sum_of_Width\" => Float64[])\n",
    "        Simp = DataFrame(Simp_columns)\n",
    "\n",
    "        F_columns = OrderedDict()\n",
    "        push!(F_columns, \"Num\" => Int[])\n",
    "        for i in 1:N\n",
    "            push!(F_columns, \"F_$i\" => Float64[])\n",
    "        end\n",
    "        push!(F_columns, \"Average\" => Float64[])\n",
    "        index_Fi = DataFrame(F_columns)\n",
    "\n",
    "        P_columns = OrderedDict()\n",
    "        push!(P_columns, \"Num\" => Int[])\n",
    "        for i in 1:N\n",
    "            push!(P_columns, \"P_$i\" => Float64[])\n",
    "        end\n",
    "        push!(P_columns, \"Average\" => Float64[])\n",
    "        index_Pi = DataFrame(P_columns)\n",
    "\n",
    "        Q_columns = OrderedDict()\n",
    "        push!(Q_columns, \"Num\" => Int[])\n",
    "        for i in 1:N\n",
    "            push!(Q_columns, \"Q_$i\" => Float64[])\n",
    "        end\n",
    "        push!(Q_columns, \"Average\" => Float64[])\n",
    "        index_Qi = DataFrame(Q_columns)\n",
    "\n",
    "        R_columns = OrderedDict()\n",
    "        push!(R_columns, \"Num\" => Int[])\n",
    "        for i in 1:N\n",
    "            push!(R_columns, \"R_$i\" => Float64[])\n",
    "        end\n",
    "        push!(R_columns, \"Average\" => Float64[])\n",
    "        index_Ri = DataFrame(R_columns)\n",
    "\n",
    "        T_E_matome_all_columns = OrderedDict()\n",
    "        push!(T_E_matome_all_columns, \"Index\" => String[])\n",
    "        push!(T_E_matome_all_columns, \"Mean\" => Float64[])\n",
    "        push!(T_E_matome_all_columns, \"Var\" => Float64[])\n",
    "        push!(T_E_matome_all_columns, \"SD\" => Float64[])\n",
    "        T_E_matome_all = DataFrame(T_E_matome_all_columns)\n",
    "\n",
    "    \n",
    "        df = CSV.File(\"./data/N\"*string(N)*\"_\"*setting*\"_Given_interval_weight.csv\", header=false) |> DataFrame\n",
    "        T = Vector{Interval{Float64}}()\n",
    "        for i in 1:N\n",
    "            push!(T, interval(df[1, 2*i-1], df[1, 2*i]))\n",
    "        end\n",
    "\n",
    "        # 一対比較行列を1000個読み込み\n",
    "        df1 = CSV.File(\"./data/N\"*string(N)*\"_a3_\"*setting*\"_PCM_int.csv\", header=false) |> DataFrame\n",
    "\n",
    "        # データフレームをN×Nのサブデータフレームに分割\n",
    "        subdfs = split_dataframe(df1, N);\n",
    "        # 結果格納用\n",
    "        P = Matrix{Float64}(undef, N, 1000)\n",
    "        Q = Matrix{Float64}(undef, N, 1000)\n",
    "        R = Matrix{Float64}(undef, N, 1000)\n",
    "        F = Matrix{Float64}(undef, N, 1000)\n",
    "\n",
    "        # 1000個のデータで推定\n",
    "        for (i, subdf) in enumerate(subdfs)\n",
    "\n",
    "            # 一対比較行列を取り出す\n",
    "            A = Matrix(subdf)\n",
    "\n",
    "            # 提案手法で区間重要度推定\n",
    "            solution = MMR_W(A, EV)\n",
    "            E = solution.W # 区間重要度の推定値\n",
    "            E_data = Vector{Float64}()\n",
    "            for j in 1:N\n",
    "                push!(E_data, inf(E[j]))\n",
    "                push!(E_data, sup(E[j]))\n",
    "            end\n",
    "            push!(Simp, (i, E_data..., sum(c_diam.(E))))\n",
    "            # display(L\"E = %$(intervalVectorLaTeXString(E))\")\n",
    "            # display(L\"T = %$(intervalVectorLaTeXString(T))\")\n",
    "\n",
    "            TcapE = T .∩ E # 真の区間重要度と推定値の積集合\n",
    "            TcupE = T .∪ E # 真の区間重要度と推定値の和集合\n",
    "            # display(L\"T ∩ E = %$(intervalVectorLaTeXString(TcapE))\")\n",
    "            # display(L\"T ∪ E = %$(intervalVectorLaTeXString(TcupE))\")\n",
    "            \n",
    "            # P, Q, R, F の計算\n",
    "            P[:, i] = calculate_P(T, E)\n",
    "            Q[:, i] = calculate_Q(T, E)\n",
    "            R[:, i] = calculate_R(T, E)\n",
    "            F[:, i] = calculate_F(T, E)\n",
    "\n",
    "            Pi_data = [P[j, i] for j in 1:N]\n",
    "            push!(index_Pi, (i, Pi_data..., mean(P[:,i])))\n",
    "\n",
    "            Qi_data = [Q[j, i] for j in 1:N]\n",
    "            push!(index_Qi, (i, Qi_data..., mean(Q[:,i])))\n",
    "\n",
    "            Ri_data = [R[j, i] for j in 1:N]\n",
    "            push!(index_Ri, (i, Ri_data..., mean(R[:,i])))\n",
    "\n",
    "            Fi_data = [F[j, i] for j in 1:N]\n",
    "            push!(index_Fi, (i, Fi_data..., mean(F[:,i])))\n",
    "\n",
    "        end\n",
    "\n",
    "        println(\"N = \", N)\n",
    "        println(\"setting = \", setting)\n",
    "\n",
    "        P_ave = mean(P)\n",
    "        Q_ave = mean(Q)\n",
    "        R_ave = mean(R)\n",
    "        F_ave = mean(F)\n",
    "\n",
    "        P_var = var(P)\n",
    "        Q_var = var(Q)\n",
    "        R_var = var(R)\n",
    "        F_var = var(F)\n",
    "\n",
    "        # DataFrameにデータを追加\n",
    "        push!(T_E_matome_all, (\"P\", P_ave, P_var, sqrt(P_var)))\n",
    "        push!(T_E_matome_all, (\"Q\", Q_ave, Q_var, sqrt(Q_var)))\n",
    "        push!(T_E_matome_all, (\"R\", R_ave, R_var, sqrt(R_var)))\n",
    "        push!(T_E_matome_all, (\"F\", F_ave, F_var, sqrt(F_var)))\n",
    "\n",
    "        root_folder = \"./out/Simp/N=\" * string(N) * \"/a3/\" * setting\n",
    "        output_path = root_folder * \"/E-MMRw\"\n",
    "        # ディレクトリが存在しない場合にのみディレクトリを作成\n",
    "        if !isdir(output_path)\n",
    "            mkdir(output_path)\n",
    "        end\n",
    "\n",
    "        Simp_output_path = output_path * \"/Simp.csv\"\n",
    "        index_Fi_output_path = output_path * \"/index_Fi.csv\"\n",
    "        index_Pi_output_path = output_path * \"/index_Pi.csv\"\n",
    "        index_Qi_output_path = output_path * \"/index_Qi.csv\"\n",
    "        index_Ri_output_path = output_path * \"/index_Ri.csv\"\n",
    "        T_E_matome_all_output_path = output_path * \"/T_E_matome_all.csv\"\n",
    "\n",
    "        CSV.write(Simp_output_path, Simp)\n",
    "        CSV.write(index_Fi_output_path, index_Fi)\n",
    "        CSV.write(index_Pi_output_path, index_Pi)\n",
    "        CSV.write(index_Qi_output_path, index_Qi)\n",
    "        CSV.write(index_Ri_output_path, index_Ri)\n",
    "        CSV.write(T_E_matome_all_output_path, T_E_matome_all)\n",
    "\n",
    "    end\n",
    "end\n",
    "\n"
   ]
  }
 ],
 "metadata": {
  "kernelspec": {
   "display_name": "Julia 1.9.4",
   "language": "julia",
   "name": "julia-1.9"
  },
  "language_info": {
   "file_extension": ".jl",
   "mimetype": "application/julia",
   "name": "julia",
   "version": "1.9.4"
  }
 },
 "nbformat": 4,
 "nbformat_minor": 2
}
