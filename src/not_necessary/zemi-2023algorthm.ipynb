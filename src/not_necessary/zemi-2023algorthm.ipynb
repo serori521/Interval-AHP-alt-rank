{
 "cells": [
  {
   "cell_type": "markdown",
   "metadata": {},
   "source": [
    "# ゼミ資料\n",
    "## miniMax regret手法\n",
    "\n",
    "\\begin{align*}\n",
    "\n",
    "    \\text{maximize} \\quad &R_j^o = \\sum_{i \\neq j} \\delta_i(u_i(O_j) - u_i(O_o))\\\\\n",
    "    \\text{s.t.} \\quad &\\sum_{i \\in N} \\delta_i = z\\\\\n",
    "    0 \\leq &\\delta_i \\leq d_i\\\\\n",
    "    d_i &= w_i^U - w_i^L\\\\\n",
    "    z &= 1- \\sum_{i \\in N} w_i^L\\\\\n",
    "\\end{align*}\n",
    "\n",
    "#### どちらが正しいか\n",
    "\n",
    "\n",
    "\\begin{align*}\n",
    "    \\text{maximize} \\quad & R_j^o = \\sum_{i \\in N} w_i(u_i(O_j) - u_i(O_o)) \\\\\n",
    "    \\text{s.t.} \\quad & \\sum_{i \\in N} w_i = 1 \\\\\n",
    "\\end{align*}\n",
    "\n",
    "#### tやsの範囲計算式\n",
    "\n",
    "\\begin{align*}\n",
    "    s^R = \\frac{1}{\\max_j \\left(\\sum_{i \\neq j} v_i^L + v_j^R\\right)} \\\\\n",
    "    s^L = \\frac{1}{\\max_j \\left(\\sum_{i \\neq j} v_i^R + v_j^L\\right)} \\\\\n",
    "\\end{align*}\n",
    "\n",
    "#### 提案アルゴリズム\n",
    "\n",
    "$\\langle 0 \\rangle$ 全ての代替案$o_p, p\\in M$の各基準の効用値$u_i (o_p), i\\in N, p \\in M,$および標準解の区間重要度ベクトル$W_i=[w_i^{\\rm L}, w_i^{\\rm R}], i \\in N$を読み込む．\n",
    "\n",
    "$\\langle 1 \\rangle$ $W_i$について，式を用いて$t^{\\rm R}, t^{\\rm L}$を算出する．$Y_i=[y_i^{\\rm L}, y_i^{\\rm U}]=[t^{\\rm R} w_i^{\\rm L}, t^{\\rm R} w_i^{\\rm R}], i \\in N$, $it=0, t(it)=t^{\\rm R}$と初期化する．\n",
    "\n",
    "$\\langle 2 \\rangle$ 10組の効用値の差を求める。それぞれが降順になるように基準を並び換える．代替案$o_p,o_q$の効用値の差の置換を$perm_{pq} : N \\rightarrow N$と記す．\n",
    "\n",
    "$\\langle 3 \\rangle$ 各代替案$o_p,o_q$の区間重要度ベクトル$Y_i, i \\in N$の下での最大リグレット$R_q^p$とそれを与える$z_{ipq} \\in Y_i, i\\in N$を求める．$z_{perm(i)_{pq}} \\ne y_{perm(i)}^{\\rm U}$となる最小の$i$を求め，$star(o_{pq})=perm(i)$とする．\n",
    "\n",
    "$\\langle 4 \\rangle$ $Sl=\\min_{p,q\\in M, p \\neq q}(y_{star(o_{pq})}^{\\rm R}-z_{star(o_{pq})})$および，$r=1/(1+Sl)$を計算する．\n",
    "\n",
    "$\\langle 5 \\rangle$ $rt(it)<t^{\\rm L}$ならば$r=t^{\\rm L}/t(it)$とする．\n",
    "\n",
    "$\\langle 6 \\rangle$ 各代替案$o_p,o_q$について$[ry_i^{\\rm L}, ry_i^{\\rm R}]$による最大リグレット$(R_q^p)'$を求める．\n",
    "\n",
    "$\\langle 7 \\rangle$ $(U(o_p)-U(o_q))(U'(o_p)-U'(o_q))\\leq 0$となる代替案$o_p,o_q$が$k$組あるとき，$(U(o_p)-U(o_q))+(u_{star(o_p)}(o_p)-u_{star(o_p)}(o_p))S=0$の解$S$を求め，$r'_j=1/(1+S),j=1,\\ldots,k$とする．\n",
    "\n",
    "$\\langle 8 \\rangle$ $r, r'_j$より，$r'_j$を降順に$r'_j t(it)$を出力したのち，$rt(it)$を出力する．$t(it+1)=rt(it)$と更新する．\n",
    "\n",
    "\n"
   ]
  },
  {
   "cell_type": "markdown",
   "metadata": {},
   "source": []
  },
  {
   "cell_type": "markdown",
   "metadata": {},
   "source": [
    "a"
   ]
  }
 ],
 "metadata": {
  "kernelspec": {
   "display_name": "Julia 1.9.3",
   "language": "julia",
   "name": "julia-1.9"
  },
  "language_info": {
   "file_extension": ".jl",
   "mimetype": "application/julia",
   "name": "julia",
   "version": "1.9.3"
  }
 },
 "nbformat": 4,
 "nbformat_minor": 2
}
