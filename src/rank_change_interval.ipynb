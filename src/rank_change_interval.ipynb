{
 "cells": [
  {
   "cell_type": "code",
   "execution_count": 14,
   "metadata": {},
   "outputs": [
    {
     "name": "stderr",
     "output_type": "stream",
     "text": [
      "\u001b[32m\u001b[1m   Resolving\u001b[22m\u001b[39m package versions...\n",
      "\u001b[32m\u001b[1m    Updating\u001b[22m\u001b[39m `/opt/julia/environments/v1.9/Project.toml`\n",
      "  \u001b[90m[69024149] \u001b[39m\u001b[92m+ StringEncodings v0.3.7\u001b[39m\n",
      "\u001b[32m\u001b[1m  No Changes\u001b[22m\u001b[39m to `/opt/julia/environments/v1.9/Manifest.toml`\n"
     ]
    }
   ],
   "source": [
    "import Pkg; Pkg.add(\"StringEncodings\")"
   ]
  },
  {
   "cell_type": "code",
   "execution_count": 15,
   "metadata": {},
   "outputs": [
    {
     "data": {
      "text/plain": [
       "matrixLaTeXString (generic function with 1 method)"
      ]
     },
     "metadata": {},
     "output_type": "display_data"
    }
   ],
   "source": [
    "include(\"file_operate.jl\")\n",
    "include(\"calc_IPW.jl\")\n",
    "include(\"display-crisp-matrix.jl\")"
   ]
  },
  {
   "cell_type": "code",
   "execution_count": 2,
   "metadata": {},
   "outputs": [
    {
     "name": "stdout",
     "output_type": "stream",
     "text": [
      "[2, 3, 4, 1, 5]\n",
      "[4, 1, 2, 3, 5]\n"
     ]
    }
   ],
   "source": [
    "v = [7, 0, 4,5, 8]\n",
    "println(sortperm(v))\n",
    "rank = sortperm(sortperm(v));\n",
    "println(rank)"
   ]
  },
  {
   "cell_type": "code",
   "execution_count": 10,
   "metadata": {},
   "outputs": [
    {
     "data": {
      "text/plain": [
       "100-element Vector{Any}:\n",
       " [0.001251 0.192047 … 0.223724 0.191284; 0.350281 0.129578 … 0.07312 0.104065; … ; 0.014984 0.076416 … 0.198547 0.635559; 0.004669 0.004242 … 0.542816 0.011505]\n",
       " [0.377869 0.153778 … 0.005402 0.392853; 0.057037 0.109192 … 0.21225 0.336975; … ; 0.539337 0.187317 … 0.030182 0.044128; 0.142334 0.067261 … 0.400146 0.137787]\n",
       " [0.611481 0.168152 … 0.002899 0.000336; 0.023743 0.242462 … 0.447693 0.159882; … ; 0.272888 0.002991 … 0.2276 0.081238; 0.205353 0.279572 … 0.093872 0.162415]\n",
       " [0.108276 0.34967 … 0.204712 0.050873; 0.385223 0.187164 … 0.126038 0.265015; … ; 0.168976 0.176575 … 0.238434 0.01004; 0.063538 0.428345 … 0.04245 0.300262]\n",
       " [0.141571 0.00592 … 0.044464 0.050446; 0.070374 0.232666 … 0.283417 0.033417; … ; 0.155548 0.022339 … 0.313263 0.182831; 0.279572 0.126007 … 0.049774 0.268005]\n",
       " [0.123016 0.244781 … 0.033936 0.244171; 0.035095 0.391113 … 0.171692 0.165344; … ; 0.316864 0.058105 … 0.375244 0.153046; 0.271881 0.025909 … 0.243774 0.017059]\n",
       " [0.195984 0.20166 … 0.078125 0.160583; 0.027466 0.023041 … 0.104462 0.005402; … ; 0.109924 0.013397 … 0.09903 0.157867; 0.140259 0.145813 … 0.604736 0.05896]\n",
       " [0.60022 0.107758 … 0.087402 0.165405; 0.001617 0.059387 … 0.553497 0.193787; … ; 0.11377 0.340729 … 0.066071 0.247803; 0.073883 0.128052 … 0.259491 0.303802]\n",
       " [0.232422 0.204254 … 0.050812 0.371338; 0.160187 0.343933 … 0.038239 0.036987; … ; 0.094391 0.003113 … 0.372833 0.002014; 0.048431 0.178864 … 0.036896 0.068512]\n",
       " [0.201965 0.20874 … 0.140991 0.230957; 0.451599 0.01474 … 0.220062 0.145233; … ; 0.184265 0.058594 … 0.167175 0.09494; 0.188934 0.162354 … 0.093781 0.301514]\n",
       " ⋮\n",
       " [0.047699 0.350342 … 0.160339 0.05127; 0.220947 0.068726 … 0.1492 0.331329; … ; 0.159302 0.286713 … 0.135803 0.18219; 0.05072 0.037262 … 0.016602 0.017975]\n",
       " [0.576843 0.003662 … 0.259155 0.137512; 0.119537 0.163452 … 0.092987 0.118408; … ; 0.001984 0.209564 … 0.291077 0.21817; 0.061127 0.336456 … 0.320404 0.111023]\n",
       " [0.195526 0.373016 … 0.100342 0.293457; 0.375214 0.189056 … 0.093719 0.094208; … ; 0.513916 0.176697 … 0.018188 0.156708; 0.396515 0.136353 … 0.104401 0.017242]\n",
       " [0.252991 0.347046 … 0.269897 0.049347; 0.202637 0.068665 … 0.313721 0.124054; … ; 0.513916 0.084259 … 0.003479 9.2e-5; 0.045685 0.479492 … 0.060028 0.107361]\n",
       " [0.005341 0.094482 … 0.115784 0.066742; 0.065247 0.065582 … 0.092163 0.145538; … ; 0.230103 0.124573 … 0.171844 0.253571; 0.114746 0.205109 … 0.1073 0.065735]\n",
       " [0.236389 0.327972 … 0.275543 0.127319; 0.23407 0.087524 … 0.002411 0.342194; … ; 0.022156 0.051117 … 0.097351 0.015656; 0.09259 0.224579 … 0.099945 0.067749]\n",
       " [0.394684 0.099487 … 0.346222 0.080292; 0.11261 0.305298 … 0.134766 0.004303; … ; 0.020416 0.319824 … 0.001709 0.056061; 0.044037 0.570068 … 0.000397 0.223358]\n",
       " [0.052826 0.082489 … 0.143646 0.302338; 0.330078 0.017609 … 0.180023 0.088562; … ; 0.306641 0.118469 … 0.050598 0.009125; 0.04895 0.116669 … 0.119904 0.275421]\n",
       " [0.015442 0.141968 … 0.179291 0.497253; 0.300842 0.048492 … 0.302734 0.151337; … ; 0.076385 0.132355 … 0.111511 0.082458; 0.383606 0.06427 … 0.041046 0.0849]"
      ]
     },
     "metadata": {},
     "output_type": "display_data"
    }
   ],
   "source": [
    "utility= read_utility_value()"
   ]
  },
  {
   "cell_type": "code",
   "execution_count": 2,
   "metadata": {},
   "outputs": [
    {
     "data": {
      "text/plain": [
       "(L = [0.21, 0.17, 0.14, 0.1, 0.07, 0.04], R = [0.25, 0.23, 0.22, 0.2, 0.19, 0.18])"
      ]
     },
     "metadata": {},
     "output_type": "display_data"
    }
   ],
   "source": [
    "trueW= read_true_weights(\"A\" )"
   ]
  },
  {
   "cell_type": "code",
   "execution_count": 16,
   "metadata": {},
   "outputs": [
    {
     "name": "stdout",
     "output_type": "stream",
     "text": [
      "(L = [0.128957, 0.077374, 0.064478, 0.064478, 0.128957, 0.064478], R = [0.257913, 0.257913, 0.21102, 0.21102, 0.322392, 0.21102], adjacent = 0.942556)\n"
     ]
    }
   ],
   "source": [
    "#ファイルからの読み取り\n",
    "\n",
    "methodW = read_method_weights(\"A/MMRW\", 2,6);\n",
    "println(methodW[2])"
   ]
  },
  {
   "cell_type": "code",
   "execution_count": null,
   "metadata": {},
   "outputs": [
    {
     "name": "stdout",
     "output_type": "stream",
     "text": [
      "0.7844484660502471 1.378893823796674\n",
      "Any[(0.1301084955965026, 2), (0.06091517398606492, 4), (0.07347093889569913, 4), (0.1586059111482187, 2), (0.14949535187302043, 2)]\n",
      "Any[3, 1, 2, 5, 4]\n"
     ]
    },
    {
     "data": {
      "text/latex": [
       "\\begin{pmatrix} 0.0 & 0.182 & 0.182 & 0.247 & 0.083 \\\\0.07 & 0.0 & 0.083 & 0.147 & 0.083 \\\\0.07 & 0.169 & 0.0 & 0.147 & 0.083 \\\\0.169 & 0.169 & 0.182 & 0.0 & 0.083 \\\\0.169 & 0.169 & 0.247 & 0.247 & 0.0 \\\\ \\end{pmatrix}"
      ]
     },
     "metadata": {},
     "output_type": "display_data"
    },
    {
     "name": "stdout",
     "output_type": "stream",
     "text": [
      "0.9879393183823838 0.06975685965204997\n",
      "Any[(0.12519842043134385, 2), (0.06512187044474921, 4), (0.07194755021345489, 4), (0.16201043415510022, 2), (0.14995576363481689, 2)]\n",
      "Any[3, 1, 2, 5, 4]\n"
     ]
    },
    {
     "data": {
      "text/latex": [
       "\\begin{pmatrix} 0.0 & 0.105 & 0.105 & 0.165 & 0.012 \\\\0.23 & 0.0 & 0.012 & 0.072 & 0.012 \\\\0.242 & 0.093 & 0.0 & 0.072 & 0.012 \\\\0.093 & 0.093 & 0.105 & 0.0 & 0.012 \\\\0.093 & 0.093 & 0.165 & 0.165 & 0.0 \\\\ \\end{pmatrix}"
      ]
     },
     "metadata": {},
     "output_type": "display_data"
    },
    {
     "name": "stdout",
     "output_type": "stream",
     "text": [
      "0.9879393183823838 0.012207917422867531\n",
      "Any[(0.1243494881029545, 2), (0.06584919141222419, 4), (0.07168416241234007, 4), (0.16259906254592318, 2), (0.15003536698421838, 2)]\n",
      "Any[3, 1, 2, 5, 4]\n"
     ]
    },
    {
     "data": {
      "text/latex": [
       "\\begin{pmatrix} 0.0 & 0.092 & 0.092 & 0.151 & 0.239 \\\\0.216 & 0.0 & 0.228 & 0.059 & 0.228 \\\\0.227 & 0.08 & 0.0 & 0.059 & 0.156 \\\\0.08 & 0.08 & 0.092 & 0.0 & 0.156 \\\\0.08 & 0.08 & 0.151 & 0.151 & 0.0 \\\\ \\end{pmatrix}"
      ]
     },
     "metadata": {},
     "output_type": "display_data"
    },
    {
     "name": "stdout",
     "output_type": "stream",
     "text": [
      "0.9879393183823838 0.059326685165399795\n"
     ]
    }
   ],
   "source": [
    "\n",
    "\n",
    "#最適解の範囲を計算\n",
    "tᴸ,tᴿ= find_optimal_trange(methodW.L[1,:],methodW.R[1,:])\n",
    "println(tᴸ, \" \", tᴿ)\n",
    "t = Float64[]\n",
    "iₜ = 1 ;push!(t, tᴿ);           #tᴿを追加\n",
    "\n",
    "Yᴸ,Yᴿ=(methodW.L[1,:] .* t[iₜ],methodW.R[1,:] .* t[iₜ])\n",
    "\n",
    "# 5x5のタプルを生成する\n",
    "regret_mat_reserve = Vector{Matrix{minimax_regret_tuple}}(undef, 5)     #5x5のタプルを保存する配列を定義\n",
    "regret_mat_reserve[iₜ] = create_minimax_R_Matrix(utility[1]);            #タプルを作成する関数を呼び出し、配列に保存 \n",
    "#ここから、regretの計算と比較を行う\n",
    "    r_vector = Vector{Float64}(undef, 5);\n",
    "    regret_max = Vector{Vector{Any}}(undef, 5);rank_regret = Vector{Vector{Any}}(undef, 5); #最大値と順位を保存する配列を定義\n",
    "    regret_max[iₜ],rank_regret[iₜ] = calc_regret(regret_mat_reserve[iₜ], Yᴸ, Yᴿ)                              #タプルの要素を計算する関数を呼び出し\n",
    "        println((regret_max[iₜ]))           #タプルの確認\n",
    "        println((rank_regret[iₜ]))          #タプルの確認\n",
    "\n",
    "    min_availspace = findmin([regret_mat_reserve[iₜ][i,j].Avail_space for i in 1:5, j in 1:5 if j != i])\n",
    "\n",
    "    display(\"text/latex\", matrixLaTeXString([regret_mat_reserve[iₜ][i,j].Avail_space for i in 1:5, j in 1:5 ]))\n",
    "\n",
    "    r_vector[iₜ] =  1 / (1 + min_availspace[1])\n",
    "    println(r[iₜ], \" \", min_availspace[1])\n",
    "    #二回目\n",
    "    regret_mat_reserve[iₜ + 1] = deepcopy(regret_mat_reserve[iₜ])\n",
    "    regret_max[iₜ+1],rank_regret[iₜ+1] = calc_regret(regret_mat_reserve[iₜ + 1], r_vector[iₜ]*Yᴸ, r_vector[iₜ]*Yᴿ)\n",
    "    println((regret_max[iₜ+1]))           #タプルの確認\n",
    "    println((rank_regret[iₜ+1]))          #タプルの確認\n",
    "    min_availspace = findmin([regret_mat_reserve[iₜ+1][i,j].Avail_space for i in 1:5, j in 1:5 if j != i])\n",
    "    display(\"text/latex\", matrixLaTeXString([regret_mat_reserve[iₜ+1][i,j].Avail_space for i in 1:5, j in 1:5 ]))\n",
    "\n",
    "    r_vector[iₜ+1] =  1 / (1 + min_availspace[1])\n",
    "    println(r, \" \", min_availspace[1])\n",
    "    #三回目\n",
    "    regret_mat_reserve[iₜ + 2] = deepcopy(regret_mat_reserve[iₜ + 1])\n",
    "    regret_max[iₜ+2],rank_regret[iₜ+2] = calc_regret(regret_mat_reserve[iₜ + 2],r_vector[iₜ]*r_vector[iₜ+1]*Yᴸ, r_vector[iₜ]*r_vector[iₜ+1]*Yᴿ)\n",
    "    println((regret_max[iₜ+2]))           #タプルの確認\n",
    "    println((rank_regret[iₜ+2]))          #タプルの確認\n",
    "    min_availspace = findmin([regret_mat_reserve[iₜ+2][i,j].Avail_space for i in 1:5, j in 1:5 if j != i])\n",
    "    display(\"text/latex\", matrixLaTeXString([regret_mat_reserve[iₜ+2][i,j].Avail_space for i in 1:5, j in 1:5 ]))\n",
    "\n",
    "    r_vector[iₜ+2] =  1 / (1 + min_availspace[1])\n",
    "    println(r, \" \", min_availspace[1])"
   ]
  },
  {
   "cell_type": "code",
   "execution_count": 55,
   "metadata": {},
   "outputs": [
    {
     "data": {
      "text/latex": [
       "\\begin{pmatrix} 0.001 & 0.192 & 0.37 & 0.021 & 0.224 & 0.191 \\\\0.35 & 0.13 & 0.267 & 0.076 & 0.073 & 0.104 \\\\0.174 & 0.13 & 0.21 & 0.197 & 0.148 & 0.141 \\\\0.015 & 0.076 & 0.056 & 0.019 & 0.199 & 0.636 \\\\0.005 & 0.004 & 0.11 & 0.327 & 0.543 & 0.012 \\\\ \\end{pmatrix}"
      ]
     },
     "metadata": {},
     "output_type": "display_data"
    },
    {
     "name": "stdout",
     "output_type": "stream",
     "text": [
      "[0.0034180000000000005, -0.187805, -0.260102, 0.30517599999999995, 0.31909199999999993, -0.17977900000000002]\n"
     ]
    }
   ],
   "source": [
    "\n",
    "sum((Yᴸ .* methodW.L[1,:])) #これ使える\n",
    "display(\"text/latex\", matrixLaTeXString(utility[1]))"
   ]
  },
  {
   "cell_type": "code",
   "execution_count": 5,
   "metadata": {},
   "outputs": [],
   "source": [
    "##ひとつの真の重要度の組に対するプログラムの繰り返し回数(100回)\n",
    "repeat_num = 100;\n",
    "#代替案の個数（6個）\n",
    "criteria_num = 6;\n",
    "#効用値行列の個数（100個）\n",
    "utility_matrix_num = 100;\n",
    "#５タイプの真の重要度区間\n",
    "weight_type = [\"A\",\"B\",\"C\",\"D\",\"E\",];\n",
    "method_name_list = [\n",
    "    \"/WWMIN\",\"/AMRD\",\"/AMRW\",\"/AMRWW\",\"/DMIN\",\"/E-AMRD\",\"/E-AMRW\",\n",
    "    \"/E-AMRWW\",\"/E-DMIN\",\"/E-MMRD\",\"/E-MMRW\",\"/E-MMRWW\",\"/EV\",\"/E-WMIN\",\n",
    "    \"/E-WWMIN\",\"/G-AMRD\",\"/G-AMRW\",\"/G-AMRWW\",\"/G-DMIN\",\"/GM\",\"/G-MMRD\",\n",
    "    \"/G-MMRW\",\"/G-MMRWW\",\"/G-WMIN\",\"/G-WWMIN\",\"/MMRD\",\"/MMRW\",\"/MMRWW\",\"/WMIN\",\n",
    "];#手法29種類"
   ]
  },
  {
   "cell_type": "code",
   "execution_count": 34,
   "metadata": {},
   "outputs": [
    {
     "ename": "UndefVarError",
     "evalue": "UndefVarError: `weight_type` not defined",
     "output_type": "error",
     "traceback": [
      "UndefVarError: `weight_type` not defined\n",
      "\n",
      "Stacktrace:\n",
      " [1] top-level scope\n",
      "   @ /workspaces/ahp/src/lib/hayashi/rank_change_interval.ipynb:3"
     ]
    }
   ],
   "source": [
    "#効用値読み取り5行6列ごとに2次元配列としてデータが格納\n",
    "utilityval_for_alta = read_utility_value()\n",
    "for type in weight_type     #A-Eでループ\n",
    "    #真の区間重要度を取得 trueW.L,trueW.Rとして左と右が取得できる\n",
    "    trueW= read_true_weights(type * \"/Given_interval_weight.csv\")\n",
    "    for method in method_name_list\n",
    "        methodW = read_method_weights(type * method, repeat_num,criteria_num)\n",
    "        for i in 1:utility_matrix_num\n",
    "            #効用値行列を取得\n",
    "             \n",
    "        end\n",
    "    end\n",
    "end"
   ]
  },
  {
   "cell_type": "code",
   "execution_count": null,
   "metadata": {},
   "outputs": [],
   "source": [
    "#combiがこれで使える　5C2の組み合わせを出力とか\n",
    "result = collect(combinations(1:5, 2))\n",
    "println(length(result))\n",
    "\n",
    "#表示に関するもの\n",
    "\n",
    "display(trueW)\n",
    "display(\"text/latex\", matrixLaTeXString(methodW.L))\n",
    "display(\"text/latex\", matrixLaTeXString(methodW.R))"
   ]
  }
 ],
 "metadata": {
  "kernelspec": {
   "display_name": "Julia 1.9.3",
   "language": "julia",
   "name": "julia-1.9"
  },
  "language_info": {
   "file_extension": ".jl",
   "mimetype": "application/julia",
   "name": "julia",
   "version": "1.9.3"
  }
 },
 "nbformat": 4,
 "nbformat_minor": 2
}
