{
 "cells": [
  {
   "cell_type": "code",
   "execution_count": 14,
   "metadata": {},
   "outputs": [
    {
     "name": "stderr",
     "output_type": "stream",
     "text": [
      "\u001b[32m\u001b[1m   Resolving\u001b[22m\u001b[39m package versions...\n",
      "\u001b[32m\u001b[1m    Updating\u001b[22m\u001b[39m `/opt/julia/environments/v1.9/Project.toml`\n",
      "  \u001b[90m[69024149] \u001b[39m\u001b[92m+ StringEncodings v0.3.7\u001b[39m\n",
      "\u001b[32m\u001b[1m  No Changes\u001b[22m\u001b[39m to `/opt/julia/environments/v1.9/Manifest.toml`\n"
     ]
    }
   ],
   "source": [
    "import Pkg; Pkg.add(\"StringEncodings\")"
   ]
  },
  {
   "cell_type": "code",
   "execution_count": 1,
   "metadata": {},
   "outputs": [
    {
     "data": {
      "text/plain": [
       "matrixLaTeXString (generic function with 1 method)"
      ]
     },
     "metadata": {},
     "output_type": "display_data"
    }
   ],
   "source": [
    "include(\"file_operate.jl\")\n",
    "include(\"calc_IPW.jl\")\n",
    "include(\"display-crisp-matrix.jl\")"
   ]
  },
  {
   "cell_type": "code",
   "execution_count": 2,
   "metadata": {},
   "outputs": [
    {
     "name": "stdout",
     "output_type": "stream",
     "text": [
      "[2, 3, 4, 1, 5]\n",
      "[4, 1, 2, 3, 5]\n"
     ]
    }
   ],
   "source": [
    "v = [7, 0, 4,5, 8]\n",
    "println(sortperm(v))\n",
    "rank = sortperm(sortperm(v));\n",
    "println(rank)"
   ]
  },
  {
   "cell_type": "code",
   "execution_count": null,
   "metadata": {},
   "outputs": [],
   "source": [
    "using CSV, DataFrames\n",
    "    # CSVファイルのパス\n",
    "csv_path = \"/workspaces/Interval-AHP-alt-rank/data/効用値行列/u1/N=6_M=5/u.csv\"\n",
    "    # ファイルの存在確認\n",
    "    if !isfile(csv_path)\n",
    "        error(\"ファイルが見つかりません: $csv_path\")\n",
    "    end\n",
    "    println(\"ファイルが見つかりました: $csv_path\")\n",
    "    # CSVファイルを読み込む（ヘッダーがないと指定）\n",
    "    df = CSV.File(csv_path, header=false) |> DataFrame\n",
    "    # 5行6列ごとに2次元配列としてデータを格納\n",
    "    utility_for_alta = []\n",
    "    println(size(df, 1))"
   ]
  },
  {
   "cell_type": "code",
   "execution_count": null,
   "metadata": {},
   "outputs": [],
   "source": [
    "using CSV, DataFrames\n",
    "    # CSVファイルのパス\n",
    "csv_path = \"/workspaces/Interval-AHP-alt-rank/data/効用値行列/u1/N=6_M=5/u.csv\"\n",
    "    # ファイルの存在確認\n",
    "    if !isfile(csv_path)\n",
    "        error(\"ファイルが見つかりません: $csv_path\")\n",
    "    end\n",
    "    println(\"ファイルが見つかりました: $csv_path\")\n",
    "    # CSVファイルを読み込む（ヘッダーがないと指定）\n",
    "    df = CSV.File(csv_path, header=false) |> DataFrame\n",
    "    # 5行6列ごとに2次元配列としてデータを格納\n",
    "    utility_for_alta = []\n",
    "    println(size(df, 1))\n",
    "    for i in 1:5:size(df, 1)\n",
    "        push!(utility_for_alta, Matrix(df[i:i+4, :]))\n",
    "    end"
   ]
  },
  {
   "cell_type": "code",
   "execution_count": null,
   "metadata": {},
   "outputs": [],
   "source": [
    "utility= read_utility_value()"
   ]
  },
  {
   "cell_type": "code",
   "execution_count": null,
   "metadata": {},
   "outputs": [],
   "source": [
    "#ファイルからの読み取り\n",
    "trueW= read_true_weights(\"A\" )\n",
    "methodW = read_method_weights(\"A/MMRW\", 1,6);\n"
   ]
  },
  {
   "cell_type": "code",
   "execution_count": null,
   "metadata": {},
   "outputs": [
    {
     "name": "stdout",
     "output_type": "stream",
     "text": [
      "0.7844484660502471 1.378893823796674\n",
      "Any[(0.1301084955965026, 2), (0.06091517398606492, 4), (0.07347093889569913, 4), (0.1586059111482187, 2), (0.14949535187302043, 2)]\n",
      "Any[3, 1, 2, 5, 4]\n"
     ]
    },
    {
     "data": {
      "text/latex": [
       "\\begin{pmatrix} 0.0 & 0.182 & 0.182 & 0.247 & 0.083 \\\\0.07 & 0.0 & 0.083 & 0.147 & 0.083 \\\\0.07 & 0.169 & 0.0 & 0.147 & 0.083 \\\\0.169 & 0.169 & 0.182 & 0.0 & 0.083 \\\\0.169 & 0.169 & 0.247 & 0.247 & 0.0 \\\\ \\end{pmatrix}"
      ]
     },
     "metadata": {},
     "output_type": "display_data"
    },
    {
     "name": "stdout",
     "output_type": "stream",
     "text": [
      "0.9879393183823838 0.06975685965204997\n",
      "Any[(0.12519842043134385, 2), (0.06512187044474921, 4), (0.07194755021345489, 4), (0.16201043415510022, 2), (0.14995576363481689, 2)]\n",
      "Any[3, 1, 2, 5, 4]\n"
     ]
    },
    {
     "data": {
      "text/latex": [
       "\\begin{pmatrix} 0.0 & 0.105 & 0.105 & 0.165 & 0.012 \\\\0.23 & 0.0 & 0.012 & 0.072 & 0.012 \\\\0.242 & 0.093 & 0.0 & 0.072 & 0.012 \\\\0.093 & 0.093 & 0.105 & 0.0 & 0.012 \\\\0.093 & 0.093 & 0.165 & 0.165 & 0.0 \\\\ \\end{pmatrix}"
      ]
     },
     "metadata": {},
     "output_type": "display_data"
    },
    {
     "name": "stdout",
     "output_type": "stream",
     "text": [
      "0.9879393183823838 0.012207917422867531\n",
      "Any[(0.1243494881029545, 2), (0.06584919141222419, 4), (0.07168416241234007, 4), (0.16259906254592318, 2), (0.15003536698421838, 2)]\n",
      "Any[3, 1, 2, 5, 4]\n"
     ]
    },
    {
     "data": {
      "text/latex": [
       "\\begin{pmatrix} 0.0 & 0.092 & 0.092 & 0.151 & 0.239 \\\\0.216 & 0.0 & 0.228 & 0.059 & 0.228 \\\\0.227 & 0.08 & 0.0 & 0.059 & 0.156 \\\\0.08 & 0.08 & 0.092 & 0.0 & 0.156 \\\\0.08 & 0.08 & 0.151 & 0.151 & 0.0 \\\\ \\end{pmatrix}"
      ]
     },
     "metadata": {},
     "output_type": "display_data"
    },
    {
     "name": "stdout",
     "output_type": "stream",
     "text": [
      "0.9879393183823838 0.059326685165399795\n"
     ]
    }
   ],
   "source": [
    "\n",
    "\n",
    "#最適解の範囲を計算\n",
    "tᴸ,tᴿ= find_optimal_trange(methodW.L[1,:],methodW.R[1,:])\n",
    "println(tᴸ, \" \", tᴿ)\n",
    "t = Float64[]\n",
    "iₜ = 1 ;push!(t, tᴿ);           #tᴿを追加\n",
    "\n",
    "Yᴸ,Yᴿ=(methodW.L[1,:] .* t[iₜ],methodW.R[1,:] .* t[iₜ])\n",
    "\n",
    "# 5x5のタプルを生成する\n",
    "regret_mat_reserve = Vector{Matrix{minimax_regret_tuple}}(undef, 5)     #5x5のタプルを保存する配列を定義\n",
    "regret_mat_reserve[iₜ] = create_minimax_R_Matrix(utility[1]);            #タプルを作成する関数を呼び出し、配列に保存 \n",
    "#ここから、regretの計算と比較を行う\n",
    "    r_vector = Vector{Float64}(undef, 5);\n",
    "    regret_max = Vector{Vector{Any}}(undef, 5);rank_regret = Vector{Vector{Any}}(undef, 5); #最大値と順位を保存する配列を定義\n",
    "    regret_max[iₜ],rank_regret[iₜ] = calc_regret(regret_mat_reserve[iₜ], Yᴸ, Yᴿ)                              #タプルの要素を計算する関数を呼び出し\n",
    "        println((regret_max[iₜ]))           #タプルの確認\n",
    "        println((rank_regret[iₜ]))          #タプルの確認\n",
    "\n",
    "    min_availspace = findmin([regret_mat_reserve[iₜ][i,j].Avail_space for i in 1:5, j in 1:5 if j != i])\n",
    "\n",
    "    display(\"text/latex\", matrixLaTeXString([regret_mat_reserve[iₜ][i,j].Avail_space for i in 1:5, j in 1:5 ]))\n",
    "\n",
    "    r_vector[iₜ] =  1 / (1 + min_availspace[1])\n",
    "    println(r[iₜ], \" \", min_availspace[1])\n",
    "    #二回目\n",
    "    regret_mat_reserve[iₜ + 1] = deepcopy(regret_mat_reserve[iₜ])\n",
    "    regret_max[iₜ+1],rank_regret[iₜ+1] = calc_regret(regret_mat_reserve[iₜ + 1], r_vector[iₜ]*Yᴸ, r_vector[iₜ]*Yᴿ)\n",
    "    println((regret_max[iₜ+1]))           #タプルの確認\n",
    "    println((rank_regret[iₜ+1]))          #タプルの確認\n",
    "    min_availspace = findmin([regret_mat_reserve[iₜ+1][i,j].Avail_space for i in 1:5, j in 1:5 if j != i])\n",
    "    display(\"text/latex\", matrixLaTeXString([regret_mat_reserve[iₜ+1][i,j].Avail_space for i in 1:5, j in 1:5 ]))\n",
    "\n",
    "    r_vector[iₜ+1] =  1 / (1 + min_availspace[1])\n",
    "    println(r, \" \", min_availspace[1])\n",
    "    #三回目\n",
    "    regret_mat_reserve[iₜ + 2] = deepcopy(regret_mat_reserve[iₜ + 1])\n",
    "    regret_max[iₜ+2],rank_regret[iₜ+2] = calc_regret(regret_mat_reserve[iₜ + 2],r_vector[iₜ]*r_vector[iₜ+1]*Yᴸ, r_vector[iₜ]*r_vector[iₜ+1]*Yᴿ)\n",
    "    println((regret_max[iₜ+2]))           #タプルの確認\n",
    "    println((rank_regret[iₜ+2]))          #タプルの確認\n",
    "    min_availspace = findmin([regret_mat_reserve[iₜ+2][i,j].Avail_space for i in 1:5, j in 1:5 if j != i])\n",
    "    display(\"text/latex\", matrixLaTeXString([regret_mat_reserve[iₜ+2][i,j].Avail_space for i in 1:5, j in 1:5 ]))\n",
    "\n",
    "    r_vector[iₜ+2] =  1 / (1 + min_availspace[1])\n",
    "    println(r, \" \", min_availspace[1])"
   ]
  },
  {
   "cell_type": "code",
   "execution_count": 55,
   "metadata": {},
   "outputs": [
    {
     "data": {
      "text/latex": [
       "\\begin{pmatrix} 0.001 & 0.192 & 0.37 & 0.021 & 0.224 & 0.191 \\\\0.35 & 0.13 & 0.267 & 0.076 & 0.073 & 0.104 \\\\0.174 & 0.13 & 0.21 & 0.197 & 0.148 & 0.141 \\\\0.015 & 0.076 & 0.056 & 0.019 & 0.199 & 0.636 \\\\0.005 & 0.004 & 0.11 & 0.327 & 0.543 & 0.012 \\\\ \\end{pmatrix}"
      ]
     },
     "metadata": {},
     "output_type": "display_data"
    },
    {
     "name": "stdout",
     "output_type": "stream",
     "text": [
      "[0.0034180000000000005, -0.187805, -0.260102, 0.30517599999999995, 0.31909199999999993, -0.17977900000000002]\n"
     ]
    }
   ],
   "source": [
    "\n",
    "sum((Yᴸ .* methodW.L[1,:])) #これ使える\n",
    "display(\"text/latex\", matrixLaTeXString(utility[1]))"
   ]
  },
  {
   "cell_type": "code",
   "execution_count": 5,
   "metadata": {},
   "outputs": [],
   "source": [
    "##ひとつの真の重要度の組に対するプログラムの繰り返し回数(100回)\n",
    "repeat_num = 100;\n",
    "#代替案の個数（6個）\n",
    "criteria_num = 6;\n",
    "#効用値行列の個数（100個）\n",
    "utility_matrix_num = 100;\n",
    "#５タイプの真の重要度区間\n",
    "weight_type = [\"A\",\"B\",\"C\",\"D\",\"E\",];\n",
    "method_name_list = [\n",
    "    \"/WWMIN\",\"/AMRD\",\"/AMRW\",\"/AMRWW\",\"/DMIN\",\"/E-AMRD\",\"/E-AMRW\",\n",
    "    \"/E-AMRWW\",\"/E-DMIN\",\"/E-MMRD\",\"/E-MMRW\",\"/E-MMRWW\",\"/EV\",\"/E-WMIN\",\n",
    "    \"/E-WWMIN\",\"/G-AMRD\",\"/G-AMRW\",\"/G-AMRWW\",\"/G-DMIN\",\"/GM\",\"/G-MMRD\",\n",
    "    \"/G-MMRW\",\"/G-MMRWW\",\"/G-WMIN\",\"/G-WWMIN\",\"/MMRD\",\"/MMRW\",\"/MMRWW\",\"/WMIN\",\n",
    "];#手法29種類"
   ]
  },
  {
   "cell_type": "code",
   "execution_count": 34,
   "metadata": {},
   "outputs": [
    {
     "ename": "UndefVarError",
     "evalue": "UndefVarError: `weight_type` not defined",
     "output_type": "error",
     "traceback": [
      "UndefVarError: `weight_type` not defined\n",
      "\n",
      "Stacktrace:\n",
      " [1] top-level scope\n",
      "   @ /workspaces/ahp/src/lib/hayashi/rank_change_interval.ipynb:3"
     ]
    }
   ],
   "source": [
    "#効用値読み取り5行6列ごとに2次元配列としてデータが格納\n",
    "utilityval_for_alta = read_utility_value()\n",
    "for type in weight_type     #A-Eでループ\n",
    "    #真の区間重要度を取得 trueW.L,trueW.Rとして左と右が取得できる\n",
    "    trueW= read_true_weights(type * \"/Given_interval_weight.csv\")\n",
    "    for method in method_name_list\n",
    "        methodW = read_method_weights(type * method, repeat_num,criteria_num)\n",
    "        for i in 1:utility_matrix_num\n",
    "            #効用値行列を取得\n",
    "             \n",
    "        end\n",
    "    end\n",
    "end"
   ]
  },
  {
   "cell_type": "code",
   "execution_count": null,
   "metadata": {},
   "outputs": [],
   "source": [
    "#combiがこれで使える　5C2の組み合わせを出力とか\n",
    "result = collect(combinations(1:5, 2))\n",
    "println(length(result))\n",
    "\n",
    "#表示に関するもの\n",
    "\n",
    "display(trueW)\n",
    "display(\"text/latex\", matrixLaTeXString(methodW.L))\n",
    "display(\"text/latex\", matrixLaTeXString(methodW.R))"
   ]
  }
 ],
 "metadata": {
  "kernelspec": {
   "display_name": "Julia 1.9.3",
   "language": "julia",
   "name": "julia-1.9"
  },
  "language_info": {
   "file_extension": ".jl",
   "mimetype": "application/julia",
   "name": "julia",
   "version": "1.9.3"
  }
 },
 "nbformat": 4,
 "nbformat_minor": 2
}
