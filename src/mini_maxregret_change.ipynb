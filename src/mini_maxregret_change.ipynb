{
 "cells": [
  {
   "cell_type": "code",
   "execution_count": 1,
   "metadata": {},
   "outputs": [],
   "source": [
    "using DelimitedFiles, DataFrames, CSV\n",
    "include(\"rank_change_interval.jl\")\n",
    "include(\"calc_IPW.jl\")  # 既存の関数を含むファイル\n",
    "include(\"file_operate.jl\")  # 既存の関数を含むファイル\n",
    "include(\"save_rank_changes.jl\")  # 上記で作成したファイル\n",
    "\n",
    "using .RankChangeInterval"
   ]
  },
  {
   "cell_type": "code",
   "execution_count": 2,
   "metadata": {},
   "outputs": [
    {
     "data": {
      "text/plain": [
       "(L = [0.150363, 0.150363, 0.073647, 0.075181, 0.050121, 0.037591], R = [0.338316, 0.338316, 0.196392, 0.207397, 0.165918, 0.216395], adjacent = 0.925469)"
      ]
     },
     "metadata": {},
     "output_type": "display_data"
    }
   ],
   "source": [
    "# 1. データの読み込み\n",
    "utility_data = read_utility_value()[1]  # 最初のデータセットを使用\n",
    "method_weights = read_method_weights(\"A/MMRW\", 1, 6)[1]  # 適切なパラメータに変更"
   ]
  },
  {
   "cell_type": "code",
   "execution_count": 3,
   "metadata": {},
   "outputs": [
    {
     "name": "stdout",
     "output_type": "stream",
     "text": [
      "Optimal t range: (0.7844484660502471, 1.378893823796674)\n"
     ]
    }
   ],
   "source": [
    "# 2. 最適なtの範囲を計算\n",
    "t_range = find_optimal_trange(method_weights.L, method_weights.R)\n",
    "println(\"Optimal t range: \", t_range)\n"
   ]
  },
  {
   "cell_type": "code",
   "execution_count": 4,
   "metadata": {},
   "outputs": [
    {
     "ename": "UndefVarError",
     "evalue": "UndefVarError: `create_minimax_R_Matrix` not defined",
     "output_type": "error",
     "traceback": [
      "UndefVarError: `create_minimax_R_Matrix` not defined\n",
      "\n",
      "Stacktrace:\n",
      " [1] analyze_all_alternatives(utility::Matrix{Float64}, methodW::NamedTuple{(:L, :R, :adjacent), Tuple{Vector{Float64}, Vector{Float64}, Float64}}, t_range::Tuple{Float64, Float64})\n",
      "   @ Main.RankChangeInterval /workspaces/Interval-AHP-alt-rank/src/rank_change_interval.jl:156\n",
      " [2] top-level scope\n",
      "   @ /workspaces/Interval-AHP-alt-rank/src/jl_notebook_cell_df34fa98e69747e1a8f8a730347b8e2f_W3sdnNjb2RlLXJlbW90ZQ==.jl:2"
     ]
    }
   ],
   "source": [
    "# 3. 順位変化点を分析\n",
    "results = analyze_all_alternatives(utility_data, method_weights, t_range)"
   ]
  }
 ],
 "metadata": {
  "kernelspec": {
   "display_name": "Julia 1.9.3",
   "language": "julia",
   "name": "julia-1.9"
  },
  "language_info": {
   "file_extension": ".jl",
   "mimetype": "application/julia",
   "name": "julia",
   "version": "1.9.3"
  }
 },
 "nbformat": 4,
 "nbformat_minor": 2
}
