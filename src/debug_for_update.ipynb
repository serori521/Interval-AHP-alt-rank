{
 "cells": [
  {
   "cell_type": "code",
   "execution_count": 1,
   "id": "b5021ac1",
   "metadata": {},
   "outputs": [],
   "source": [
    "using Pkg"
   ]
  },
  {
   "cell_type": "code",
   "execution_count": 11,
   "id": "41cff060",
   "metadata": {},
   "outputs": [
    {
     "name": "stdout",
     "output_type": "stream",
     "text": [
      "セル 1: 環境セットアップを開始します。 (事前にターミナルで rm -rf ~/.julia/registries を実行しました)\n",
      "プロジェクト環境 /workspaces/inulab_julia_devcontainer をアクティベートしました。\n",
      "StatsBase パッケージをプロジェクトに新規追加します...\n"
     ]
    },
    {
     "name": "stderr",
     "output_type": "stream",
     "text": [
      "\u001b[32m\u001b[1m  Activating\u001b[22m\u001b[39m project at `/workspaces/inulab_julia_devcontainer`\n",
      "\u001b[32m\u001b[1m   Resolving\u001b[22m\u001b[39m package versions...\n",
      "\u001b[32m\u001b[1m    Updating\u001b[22m\u001b[39m `/workspaces/inulab_julia_devcontainer/Project.toml`\n",
      "  \u001b[90m[2913bbd2] \u001b[39m\u001b[92m+ StatsBase v0.34.5\u001b[39m\n",
      "\u001b[32m\u001b[1m  No Changes\u001b[22m\u001b[39m to `/workspaces/inulab_julia_devcontainer/Manifest.toml`\n"
     ]
    },
    {
     "name": "stdout",
     "output_type": "stream",
     "text": [
      "StatsBase パッケージの追加が完了しました。\n",
      "Pkg.resolve() を実行して Manifest.toml を最終調整します...\n"
     ]
    },
    {
     "name": "stderr",
     "output_type": "stream",
     "text": [
      "\u001b[32m\u001b[1m  No Changes\u001b[22m\u001b[39m "
     ]
    },
    {
     "name": "stdout",
     "output_type": "stream",
     "text": [
      "Pkg.resolve() が完了しました。\n"
     ]
    },
    {
     "name": "stderr",
     "output_type": "stream",
     "text": [
      "to `/workspaces/inulab_julia_devcontainer/Project.toml`\n",
      "\u001b[32m\u001b[1m  No Changes\u001b[22m\u001b[39m to `/workspaces/inulab_julia_devcontainer/Manifest.toml`\n"
     ]
    },
    {
     "name": "stdout",
     "output_type": "stream",
     "text": [
      "Pkg.instantiate() を実行します...\n",
      "Pkg.instantiate() が完了しました。\n",
      "Generalレジストリの追加が完了しました。\n",
      "Pkg.resolve() を実行して Manifest.toml を更新します...\n"
     ]
    },
    {
     "name": "stderr",
     "output_type": "stream",
     "text": [
      "\u001b[32m\u001b[1m       Added\u001b[22m\u001b[39m `General` registry to ~/.julia/registries\n",
      "\u001b[32m\u001b[1m  No Changes\u001b[22m\u001b[39m "
     ]
    },
    {
     "name": "stdout",
     "output_type": "stream",
     "text": [
      "Pkg.resolve() が完了しました。\n"
     ]
    },
    {
     "name": "stderr",
     "output_type": "stream",
     "text": [
      "to `/workspaces/inulab_julia_devcontainer/Project.toml`\n",
      "\u001b[32m\u001b[1m  No Changes\u001b[22m\u001b[39m to `/workspaces/inulab_julia_devcontainer/Manifest.toml`\n"
     ]
    },
    {
     "name": "stdout",
     "output_type": "stream",
     "text": [
      "Pkg.instantiate() を実行します...\n",
      "Pkg.instantiate() が完了しました。\n",
      "主要パッケージをロードします...\n",
      "主要パッケージをロードしました。\n",
      "環境セットアップ完了。\n"
     ]
    }
   ],
   "source": [
    "# --- セル 1: 環境セットアップ (事前に ~/.julia/registries を手動で削除した後に実行) ---\n",
    "println(\"セル 1: 環境セットアップを開始します。 (事前にターミナルで rm -rf ~/.julia/registries を実行しました)\")\n",
    "try\n",
    "    using Pkg\n",
    "    Pkg.activate(\"/workspaces/inulab_julia_devcontainer\")\n",
    "    println(\"プロジェクト環境 /workspaces/inulab_julia_devcontainer をアクティベートしました。\")\n",
    "\n",
    "    # Pkg.update() # 状況に応じて実行しても良いが、まずはaddから\n",
    "    # Pkg.Registry.add(\"General\") # レジストリが既に追加されていれば不要\n",
    "\n",
    "    println(\"StatsBase パッケージをプロジェクトに新規追加します...\")\n",
    "    Pkg.add(\"StatsBase\") # Project.toml に StatsBase を追加し、依存関係を解決しようとする\n",
    "    println(\"StatsBase パッケージの追加が完了しました。\")\n",
    "\n",
    "    println(\"Pkg.resolve() を実行して Manifest.toml を最終調整します...\")\n",
    "    Pkg.resolve() # 念のため実行\n",
    "    println(\"Pkg.resolve() が完了しました。\")\n",
    "\n",
    "    println(\"Pkg.instantiate() を実行します...\")\n",
    "    Pkg.instantiate()\n",
    "    println(\"Pkg.instantiate() が完了しました。\")\n",
    "    try\n",
    "        Pkg.Registry.add(\"General\") # まっさらな状態からGeneralレジストリを追加\n",
    "        println(\"Generalレジストリの追加が完了しました。\")\n",
    "    catch e_add_reg\n",
    "        println(\"エラー: Generalレジストリの追加中にエラーが発生しました: \", sprint(showerror, e_add_reg))\n",
    "        println(\"ネットワーク接続を確認してください。ここで失敗すると後続も失敗します。\")\n",
    "        # エラーが出たらここで処理を中断させることも検討\n",
    "        # error(\"レジストリ追加失敗\")\n",
    "    end\n",
    "\n",
    "    println(\"Pkg.resolve() を実行して Manifest.toml を更新します...\")\n",
    "    Pkg.resolve()\n",
    "    println(\"Pkg.resolve() が完了しました。\")\n",
    "\n",
    "    println(\"Pkg.instantiate() を実行します...\")\n",
    "    Pkg.instantiate()\n",
    "    println(\"Pkg.instantiate() が完了しました。\")\n",
    "\n",
    "    println(\"主要パッケージをロードします...\")\n",
    "    using DelimitedFiles\n",
    "    using DataFrames\n",
    "    using Plots\n",
    "    using StatsBase\n",
    "    println(\"主要パッケージをロードしました。\")\n",
    "\n",
    "    # (以下、関連ファイルのインクルード処理)\n",
    "    # ... (calc_IPW.jl, file_operate.jl, module_regret.jl の include と using .RankChangeInterval) ...\n",
    "\n",
    "    println(\"環境セットアップ完了。\")\n",
    "catch e_setup\n",
    "    println(\"エラー: 環境セットアップ中に問題が発生しました: \")\n",
    "    showerror(stdout, e_setup, catch_backtrace())\n",
    "    println()\n",
    "end"
   ]
  },
  {
   "cell_type": "code",
   "execution_count": 13,
   "id": "11ff15af",
   "metadata": {},
   "outputs": [
    {
     "name": "stdout",
     "output_type": "stream",
     "text": [
      "\n",
      "セル 2: データ読み込み関数のテストを開始します。\n",
      "read_utility_value() のテストを試みます...\n",
      "ダミーの効用値データを使用します。 型: DataFrame\n",
      "\n",
      "read_method_weights() のテストを試みます...\n",
      "ダミーの区間重みデータを使用します。 型: @NamedTuple{L::Vector{Float64}, R::Vector{Float64}, adjacent::Float64}\n",
      "データ読み込み関数のテスト (またはダミーデータの準備) 完了。\n"
     ]
    },
    {
     "data": {
      "text/html": [
       "<div><div style = \"float: left;\"><span>5×6 DataFrame</span></div><div style = \"clear: both;\"></div></div><div class = \"data-frame\" style = \"overflow-x: scroll;\"><table class = \"data-frame\" style = \"margin-bottom: 6px;\"><thead><tr class = \"header\"><th class = \"rowNumber\" style = \"font-weight: bold; text-align: right;\">Row</th><th style = \"text-align: left;\">Criteria1</th><th style = \"text-align: left;\">Criteria2</th><th style = \"text-align: left;\">Criteria3</th><th style = \"text-align: left;\">Criteria4</th><th style = \"text-align: left;\">Criteria5</th><th style = \"text-align: left;\">Criteria6</th></tr><tr class = \"subheader headerLastRow\"><th class = \"rowNumber\" style = \"font-weight: bold; text-align: right;\"></th><th title = \"Float64\" style = \"text-align: left;\">Float64</th><th title = \"Float64\" style = \"text-align: left;\">Float64</th><th title = \"Float64\" style = \"text-align: left;\">Float64</th><th title = \"Float64\" style = \"text-align: left;\">Float64</th><th title = \"Float64\" style = \"text-align: left;\">Float64</th><th title = \"Float64\" style = \"text-align: left;\">Float64</th></tr></thead><tbody><tr><td class = \"rowNumber\" style = \"font-weight: bold; text-align: right;\">1</td><td style = \"text-align: right;\">0.5</td><td style = \"text-align: right;\">0.2</td><td style = \"text-align: right;\">0.8</td><td style = \"text-align: right;\">0.3</td><td style = \"text-align: right;\">0.6</td><td style = \"text-align: right;\">0.4</td></tr><tr><td class = \"rowNumber\" style = \"font-weight: bold; text-align: right;\">2</td><td style = \"text-align: right;\">0.3</td><td style = \"text-align: right;\">0.6</td><td style = \"text-align: right;\">0.2</td><td style = \"text-align: right;\">0.7</td><td style = \"text-align: right;\">0.4</td><td style = \"text-align: right;\">0.5</td></tr><tr><td class = \"rowNumber\" style = \"font-weight: bold; text-align: right;\">3</td><td style = \"text-align: right;\">0.7</td><td style = \"text-align: right;\">0.4</td><td style = \"text-align: right;\">0.5</td><td style = \"text-align: right;\">0.2</td><td style = \"text-align: right;\">0.3</td><td style = \"text-align: right;\">0.6</td></tr><tr><td class = \"rowNumber\" style = \"font-weight: bold; text-align: right;\">4</td><td style = \"text-align: right;\">0.2</td><td style = \"text-align: right;\">0.8</td><td style = \"text-align: right;\">0.3</td><td style = \"text-align: right;\">0.6</td><td style = \"text-align: right;\">0.5</td><td style = \"text-align: right;\">0.7</td></tr><tr><td class = \"rowNumber\" style = \"font-weight: bold; text-align: right;\">5</td><td style = \"text-align: right;\">0.6</td><td style = \"text-align: right;\">0.3</td><td style = \"text-align: right;\">0.7</td><td style = \"text-align: right;\">0.4</td><td style = \"text-align: right;\">0.2</td><td style = \"text-align: right;\">0.8</td></tr></tbody></table></div>"
      ],
      "text/latex": [
       "\\begin{tabular}{r|cccccc}\n",
       "\t& Criteria1 & Criteria2 & Criteria3 & Criteria4 & Criteria5 & Criteria6\\\\\n",
       "\t\\hline\n",
       "\t& Float64 & Float64 & Float64 & Float64 & Float64 & Float64\\\\\n",
       "\t\\hline\n",
       "\t1 & 0.5 & 0.2 & 0.8 & 0.3 & 0.6 & 0.4 \\\\\n",
       "\t2 & 0.3 & 0.6 & 0.2 & 0.7 & 0.4 & 0.5 \\\\\n",
       "\t3 & 0.7 & 0.4 & 0.5 & 0.2 & 0.3 & 0.6 \\\\\n",
       "\t4 & 0.2 & 0.8 & 0.3 & 0.6 & 0.5 & 0.7 \\\\\n",
       "\t5 & 0.6 & 0.3 & 0.7 & 0.4 & 0.2 & 0.8 \\\\\n",
       "\\end{tabular}\n"
      ],
      "text/plain": [
       "\u001b[1m5×6 DataFrame\u001b[0m\n",
       "\u001b[1m Row \u001b[0m│\u001b[1m Criteria1 \u001b[0m\u001b[1m Criteria2 \u001b[0m\u001b[1m Criteria3 \u001b[0m\u001b[1m Criteria4 \u001b[0m\u001b[1m Criteria5 \u001b[0m\u001b[1m Criteria6 \u001b[0m\n",
       "     │\u001b[90m Float64   \u001b[0m\u001b[90m Float64   \u001b[0m\u001b[90m Float64   \u001b[0m\u001b[90m Float64   \u001b[0m\u001b[90m Float64   \u001b[0m\u001b[90m Float64   \u001b[0m\n",
       "─────┼──────────────────────────────────────────────────────────────────\n",
       "   1 │       0.5        0.2        0.8        0.3        0.6        0.4\n",
       "   2 │       0.3        0.6        0.2        0.7        0.4        0.5\n",
       "   3 │       0.7        0.4        0.5        0.2        0.3        0.6\n",
       "   4 │       0.2        0.8        0.3        0.6        0.5        0.7\n",
       "   5 │       0.6        0.3        0.7        0.4        0.2        0.8"
      ]
     },
     "metadata": {},
     "output_type": "display_data"
    },
    {
     "data": {
      "text/plain": [
       "(L = [0.1, 0.1, 0.15, 0.05, 0.2, 0.1], R = [0.3, 0.3, 0.35, 0.25, 0.4, 0.3], adjacent = 0.1)"
      ]
     },
     "metadata": {},
     "output_type": "display_data"
    }
   ],
   "source": [
    "# --- セル 2: データ読み込み関数のテスト (file_operate.jl内の関数を想定) ---\n",
    "println(\"\\nセル 2: データ読み込み関数のテストを開始します。\")\n",
    "utility_data_test = nothing\n",
    "method_weights_test = nothing\n",
    "\n",
    "# ダミーデータ (実際の関数が動作しない場合や、手軽にテストしたい場合に使用)\n",
    "# 代替案5つ (行)、評価基準6つ (列) を想定\n",
    "dummy_utility_data = DataFrame(\n",
    "    Criteria1 = [0.5, 0.3, 0.7, 0.2, 0.6], # 各代替案のCriteria1に対する効用値\n",
    "    Criteria2 = [0.2, 0.6, 0.4, 0.8, 0.3],\n",
    "    Criteria3 = [0.8, 0.2, 0.5, 0.3, 0.7],\n",
    "    Criteria4 = [0.3, 0.7, 0.2, 0.6, 0.4],\n",
    "    Criteria5 = [0.6, 0.4, 0.3, 0.5, 0.2],\n",
    "    Criteria6 = [0.4, 0.5, 0.6, 0.7, 0.8]\n",
    ")\n",
    "# 末尾の ' (adjoint/転置) を削除しました。\n",
    "\n",
    "# 評価基準6つの区間重みを想定\n",
    "dummy_method_weights = (L=[0.1, 0.1, 0.15, 0.05, 0.2, 0.1], R=[0.3, 0.3, 0.35, 0.25, 0.4, 0.3], adjacent=0.1)\n",
    "\n",
    "try\n",
    "    println(\"read_utility_value() のテストを試みます...\")\n",
    "    # 実際のデータ読み込み処理がここにくる\n",
    "    # utility_data_test = read_utility_value()\n",
    "    utility_data_test = dummy_utility_data # ★ ダミーデータを使用\n",
    "    println(\"ダミーの効用値データを使用します。 型: \", typeof(utility_data_test))\n",
    "    display(utility_data_test)\n",
    "catch e\n",
    "    println(\"エラー: read_utility_value() の実行に失敗しました: \", sprint(showerror, e))\n",
    "    println(\"代わりにダミーの効用値データを使用します。\")\n",
    "    utility_data_test = dummy_utility_data\n",
    "    display(utility_data_test)\n",
    "end\n",
    "\n",
    "try\n",
    "    println(\"\\nread_method_weights() のテストを試みます...\")\n",
    "    # こちらも同様に、実際のファイルや引数に合わせてください。\n",
    "    # method_weights_test = read_method_weights(\"A/MMRW\", 1, 6) # try.ipynbでの例\n",
    "    method_weights_test = dummy_method_weights\n",
    "    println(\"ダミーの区間重みデータを使用します。 型: \", typeof(method_weights_test))\n",
    "    display(method_weights_test)\n",
    "catch e\n",
    "    println(\"エラー: read_method_weights() の実行に失敗しました: \", sprint(showerror, e))\n",
    "    println(\"代わりにダミーの区間重みデータを使用します。\")\n",
    "    method_weights_test = dummy_method_weights\n",
    "    display(method_weights_test)\n",
    "end\n",
    "println(\"データ読み込み関数のテスト (またはダミーデータの準備) 完了。\")"
   ]
  },
  {
   "cell_type": "code",
   "execution_count": 14,
   "id": "26e9f032",
   "metadata": {},
   "outputs": [
    {
     "name": "stdout",
     "output_type": "stream",
     "text": [
      "\n",
      "セル 3: tの範囲計算関数 find_optimal_trange のテストを開始します。\n",
      "RankChangeIntervalモジュールまたはmethod_weights_testが利用できません。ダミーの t_range を使用します。\n",
      "ダミー t_range: (0.7, 1.4)\n",
      "tの範囲計算関数のテスト完了。\n"
     ]
    }
   ],
   "source": [
    "\n",
    "# --- セル 3: tの範囲計算関数のテスト (module_regret.jl / RankChangeInterval 内を想定) ---\n",
    "println(\"\\nセル 3: tの範囲計算関数 find_optimal_trange のテストを開始します。\")\n",
    "t_range_test = nothing\n",
    "dummy_t_range = (0.7, 1.4) # ダミーのt範囲 (例)\n",
    "\n",
    "if @isdefined(RankChangeInterval) && method_weights_test !== nothing\n",
    "    try\n",
    "        println(\"RankChangeInterval.find_optimal_trange(L, R) をテストします...\")\n",
    "        t_range_test = RankChangeInterval.find_optimal_trange(method_weights_test.L, method_weights_test.R)\n",
    "        println(\"計算された t_range: \", t_range_test, \" 型: \", typeof(t_range_test))\n",
    "    catch e\n",
    "        println(\"エラー: RankChangeInterval.find_optimal_trange() でエラーが発生しました: \", sprint(showerror, e))\n",
    "        println(\"代わりにダミーの t_range を使用します。\")\n",
    "        t_range_test = dummy_t_range\n",
    "        println(\"ダミー t_range: \", t_range_test)\n",
    "    end\n",
    "else\n",
    "    println(\"RankChangeIntervalモジュールまたはmethod_weights_testが利用できません。ダミーの t_range を使用します。\")\n",
    "    t_range_test = dummy_t_range\n",
    "    println(\"ダミー t_range: \", t_range_test)\n",
    "end\n",
    "println(\"tの範囲計算関数のテスト完了。\")\n"
   ]
  },
  {
   "cell_type": "code",
   "execution_count": 15,
   "id": "c16a88ee",
   "metadata": {},
   "outputs": [
    {
     "name": "stdout",
     "output_type": "stream",
     "text": [
      "\n",
      "セル 4: リグレット関連の基本関数のテストを開始します。\n",
      "RankChangeIntervalモジュールまたはutility_data_testが利用できません。\n",
      "RankChangeIntervalモジュールまたはテストデータが不足しているため、calc_regret のテストをスキップします。\n",
      "リグレット関連の基本関数のテスト完了。\n"
     ]
    }
   ],
   "source": [
    "\n",
    "# --- セル 4: リグレット関連の基本関数テスト (module_regret.jl / RankChangeInterval 内を想定) ---\n",
    "println(\"\\nセル 4: リグレット関連の基本関数のテストを開始します。\")\n",
    "# `try.ipynb` のエラーから `create_minimax_R_Matrix` や `calc_regret` のテストが重要\n",
    "minimax_R_matrix_test = nothing\n",
    "# utility_data_test が DataFrame の場合、Matrix{Float64} に変換する必要がある\n",
    "utility_matrix_float_test = Matrix{Float64}(utility_data_test)\n",
    "\n",
    "\n",
    "if @isdefined(RankChangeInterval) && utility_data_test !== nothing\n",
    "    try\n",
    "        println(\"RankChangeInterval.create_minimax_R_Matrix(utility_matrix) をテストします...\")\n",
    "        minimax_R_matrix_test = RankChangeInterval.create_minimax_R_Matrix(utility_matrix_float_test)\n",
    "        println(\"create_minimax_R_Matrix の結果の型: \", typeof(minimax_R_matrix_test))\n",
    "        # display(minimax_R_matrix_test) # 出力が大きい場合はコメントアウト\n",
    "        println(\"create_minimax_R_Matrix の実行に成功しました (エラーなし)。\")\n",
    "    catch e\n",
    "        println(\"エラー: RankChangeInterval.create_minimax_R_Matrix() でエラー: \", sprint(showerror, e))\n",
    "    end\n",
    "else\n",
    "    println(\"RankChangeIntervalモジュールまたはutility_data_testが利用できません。\")\n",
    "end\n",
    "\n",
    "if @isdefined(RankChangeInterval) && minimax_R_matrix_test !== nothing && method_weights_test !== nothing && t_range_test !== nothing\n",
    "    try\n",
    "        println(\"\\nRankChangeInterval.calc_regret(matrix, Y_L, Y_R) をテストします...\")\n",
    "        # この関数は matrix を変更する可能性があるため、コピーして使う\n",
    "        temp_matrix = deepcopy(minimax_R_matrix_test)\n",
    "        Y_L_sample = method_weights_test.L .* t_range_test[1] # t_L を使った例\n",
    "        Y_R_sample = method_weights_test.R .* t_range_test[1] # t_L を使った例\n",
    "        # calc_regret の戻り値を確認 (もしあれば)\n",
    "        # ret_calc_regret = RankChangeInterval.calc_regret(temp_matrix, Y_L_sample, Y_R_sample)\n",
    "        # println(\"calc_regret の戻り値の型: \", typeof(ret_calc_regret))\n",
    "        # display(temp_matrix) # 変更されたか確認\n",
    "        println(\"RankChangeInterval.calc_regret の実行を試みます (エラーに注意)。\")\n",
    "        # 実際の呼び出し (戻り値がないかもしれないので try-catch で囲む)\n",
    "        try RankChangeInterval.calc_regret(temp_matrix, Y_L_sample, Y_R_sample) catch; end\n",
    "        println(\"calc_regret の実行に成功しました (エラーなし)。temp_matrix が変更されたか確認してください。\")\n",
    "\n",
    "    catch e\n",
    "        println(\"エラー: RankChangeInterval.calc_regret() でエラー: \", sprint(showerror, e))\n",
    "    end\n",
    "else\n",
    "    println(\"RankChangeIntervalモジュールまたはテストデータが不足しているため、calc_regret のテストをスキップします。\")\n",
    "end\n",
    "println(\"リグレット関連の基本関数のテスト完了。\")\n",
    "\n"
   ]
  },
  {
   "cell_type": "code",
   "execution_count": 16,
   "id": "d8aca85d",
   "metadata": {},
   "outputs": [
    {
     "name": "stdout",
     "output_type": "stream",
     "text": [
      "\n",
      "セル 5: コア関数 find_rank_change_points_from_tR のテストを開始します。\n",
      "テストに必要なデータ (minimax_R_matrix_test 等) がないため、find_rank_change_points_from_tR のテストをスキップします。\n",
      "コア関数 find_rank_change_points_from_tR のテスト完了。\n"
     ]
    }
   ],
   "source": [
    "\n",
    "# --- セル 5: 順位変化点探索のコア関数テスト (module_regret.jl 内 - MethodErrorが疑われる箇所) ---\n",
    "println(\"\\nセル 5: コア関数 find_rank_change_points_from_tR のテストを開始します。\")\n",
    "# この関数が `MethodError: no method matching (::Colon)(::Float64, ::Vector{Int64})` の原因である可能性が高い\n",
    "if @isdefined(RankChangeInterval) && minimax_R_matrix_test !== nothing && method_weights_test !== nothing && t_range_test !== nothing\n",
    "    try\n",
    "        println(\"RankChangeInterval.find_rank_change_points_from_tR(o_o, t_L, t_R, matrix, methodW) をテストします...\")\n",
    "        # 引数の o_o (代替案インデックス), t_L, t_R は適切に設定する必要があります。\n",
    "        # 例: 代替案1 (o_o=1) について、計算されたt範囲全体でテスト\n",
    "        # この関数がどのような値を返すか、あるいはエラーになるかを確認します。\n",
    "        println(\"注意: この関数は `MethodError` の原因である可能性が高いです。\")\n",
    "        println(\"      `module_regret.jl` の166行目付近の配列操作 (コロン演算子) を確認してください。\")\n",
    "        # result_frcp = RankChangeInterval.find_rank_change_points_from_tR(1, t_range_test[1], t_range_test[2], minimax_R_matrix_test, method_weights_test)\n",
    "        # println(\"find_rank_change_points_from_tR の結果の型: \", typeof(result_frcp))\n",
    "        # display(result_frcp)\n",
    "        println(\"テスト呼び出しを実行するには、上記のコメントを解除してください。\")\n",
    "        println(\"引数の型が関数定義と一致しているか、特に確認が必要です。\")\n",
    "\n",
    "    catch e\n",
    "        println(\"！！！エラー！！！: RankChangeInterval.find_rank_change_points_from_tR() でエラーが発生しました: \")\n",
    "        showerror(stdout, e, catch_backtrace())\n",
    "        println(\"\\n^^^^^^^^^^^^^^^^^^^^^^^^^^^^^^^^^^^^^^^^^^^^^^^^^^^^^^^^^^^^^^^^^^^^^^^^^^^^^^^^^^^^\")\n",
    "        println(\"このエラー (特に MethodError) が `try.ipynb` の問題の根本原因である可能性が高いです。\")\n",
    "        println(\"`module_regret.jl` の該当箇所 (スタックトレース参照、おそらく166行目付近) の、\")\n",
    "        println(\"特にコロン演算子 `:` を使った配列操作や、関数の引数の型を確認してください。\")\n",
    "        println(\"Julia 1.9.3 と 1.11.2 で動作が異なる可能性があります。\")\n",
    "        println(\"^^^^^^^^^^^^^^^^^^^^^^^^^^^^^^^^^^^^^^^^^^^^^^^^^^^^^^^^^^^^^^^^^^^^^^^^^^^^^^^^^^^^\")\n",
    "    end\n",
    "else\n",
    "    println(\"テストに必要なデータ (minimax_R_matrix_test 等) がないため、find_rank_change_points_from_tR のテストをスキップします。\")\n",
    "end\n",
    "println(\"コア関数 find_rank_change_points_from_tR のテスト完了。\")\n",
    "\n"
   ]
  },
  {
   "cell_type": "code",
   "execution_count": 18,
   "id": "c762307f",
   "metadata": {},
   "outputs": [
    {
     "name": "stdout",
     "output_type": "stream",
     "text": [
      "\n",
      "セル 6: 全体分析関数 analyze_all_alternatives_with_avail_space のテストを開始します。\n",
      "テストに必要なデータが不足しているため、analyze_all_alternatives_with_avail_space のテストをスキップします。\n",
      "代わりにダミーの分析結果を使用します。\n",
      "全体分析関数のテスト完了。\n"
     ]
    }
   ],
   "source": [
    "\n",
    "# --- セル 6: 全体分析関数のテスト (module_regret.jl 内 - ErrorExceptionが疑われる箇所) ---\n",
    "println(\"\\nセル 6: 全体分析関数 analyze_all_alternatives_with_avail_space のテストを開始します。\")\n",
    "# この関数が `ErrorException: type Tuple has no field change_points` の原因である可能性\n",
    "analysis_results_test = nothing\n",
    "# 期待される結果のダミー (エラー時に後続処理をテストするため)\n",
    "dummy_analysis_results = (\n",
    "    intervals=[(0.7, 0.9), (0.9, 1.1), (1.1, 1.4)],\n",
    "    change_points=[0.9, 1.1],\n",
    "    rankings=Dict(0.7 => [1,2,3,4,5], 0.9 => [1,3,2,4,5], 1.1 => [3,1,2,5,4], 1.4 => [3,2,1,5,4])\n",
    ")\n",
    "\n",
    "if @isdefined(RankChangeInterval) && utility_data_test !== nothing && method_weights_test !== nothing && t_range_test !== nothing\n",
    "    try\n",
    "        println(\"RankChangeInterval.analyze_all_alternatives_with_avail_space(utility_matrix, methodW, t_range) をテストします...\")\n",
    "        # utility_data_test は DataFrame のため Matrix{Float64} に変換\n",
    "        analysis_results_test = RankChangeInterval.analyze_all_alternatives_with_avail_space(utility_matrix_float_test, method_weights_test, t_range_test)\n",
    "        println(\"analyze_all_alternatives_with_avail_space の結果の型: \", typeof(analysis_results_test))\n",
    "\n",
    "        if isa(analysis_results_test, Tuple) && !isa(analysis_results_test, NamedTuple)\n",
    "            println(\"警告: 結果はタプル型です。フィールド名 (例: .change_points) でのアクセスはできません。\")\n",
    "            println(\"      これが `ErrorException: type Tuple has no field change_points` の原因です。\")\n",
    "            println(\"      `module_regret.jl` のこの関数が名前付きタプル (NamedTuple) または構造体を返すように修正するか、\")\n",
    "            println(\"      呼び出し側 (`try.ipynb` の `analyze_rank_changes` 関数内) でタプルのインデックスでアクセスするように修正が必要です。\")\n",
    "            # 例: タプルの内容を確認\n",
    "            # for i in 1:length(analysis_results_test)\n",
    "            #     println(\"要素 $i: \", analysis_results_test[i], \" 型: \", typeof(analysis_results_test[i]))\n",
    "            # end\n",
    "        elseif analysis_results_test !== nothing # 構造体や名前付きタプルの場合\n",
    "             println(\"結果はタプルではないようです。フィールドを確認します...\")\n",
    "             try display(analysis_results_test.change_points) catch; println(\" .change_points フィールドにアクセスできませんでした。\"); end\n",
    "        end\n",
    "    catch e\n",
    "        println(\"！！！エラー！！！: RankChangeInterval.analyze_all_alternatives_with_avail_space() でエラーが発生しました: \")\n",
    "        showerror(stdout, e, catch_backtrace())\n",
    "        println(\"\\n^^^^^^^^^^^^^^^^^^^^^^^^^^^^^^^^^^^^^^^^^^^^^^^^^^^^^^^^^^^^^^^^^^^^^^^^^^^^^^^^^^^^\")\n",
    "        println(\"このエラーは、セル5の `find_rank_change_points_from_tR` のエラーが原因であるか、\")\n",
    "        println(\"またはこの関数自体の戻り値の処理に問題がある可能性があります。\")\n",
    "        println(\"^^^^^^^^^^^^^^^^^^^^^^^^^^^^^^^^^^^^^^^^^^^^^^^^^^^^^^^^^^^^^^^^^^^^^^^^^^^^^^^^^^^^\")\n",
    "        println(\"代わりにダミーの分析結果を使用します。\")\n",
    "        analysis_results_test = dummy_analysis_results\n",
    "    end\n",
    "else\n",
    "    println(\"テストに必要なデータが不足しているため、analyze_all_alternatives_with_avail_space のテストをスキップします。\")\n",
    "    println(\"代わりにダミーの分析結果を使用します。\")\n",
    "    analysis_results_test = dummy_analysis_results\n",
    "end\n",
    "println(\"全体分析関数のテスト完了。\")\n",
    "\n"
   ]
  },
  {
   "cell_type": "code",
   "execution_count": 19,
   "id": "a9721b6b",
   "metadata": {},
   "outputs": [
    {
     "name": "stdout",
     "output_type": "stream",
     "text": [
      "\n",
      "セル 7: `try.ipynb` で定義された関数のテスト (関数定義を以下にコピー＆ペーストしてください)。\n",
      "`try.ipynb` で定義された関数のテスト完了セクション。\n",
      "\n",
      "--- デバッグ用Notebookの処理終了 ---\n"
     ]
    }
   ],
   "source": [
    "\n",
    "# --- セル 7: try.ipynb で定義された関数のテスト ---\n",
    "println(\"\\nセル 7: `try.ipynb` で定義された関数のテスト (関数定義を以下にコピー＆ペーストしてください)。\")\n",
    "\n",
    "# ==============================================================================\n",
    "# == `try.ipynb` のセル1から以下の関数定義をここにコピー＆ペーストしてください ==\n",
    "#\n",
    "# function load_data(...) ... end\n",
    "# function calculate_t_range(...) ... end\n",
    "# function analyze_rank_changes(...) ... end\n",
    "# function plot_rank_changes(...) ... end\n",
    "# function save_results_to_csv(...) ... end\n",
    "# (もしあれば get_rank_vector など、これらの関数が依存する補助関数もすべて)\n",
    "# ==============================================================================\n",
    "\n",
    "# コピー＆ペースト後、以下のテストコードのコメントを解除して実行\n",
    "\n",
    "# if @isdefined(analyze_rank_changes) && utility_data_test !== nothing && method_weights_test !== nothing && t_range_test !== nothing\n",
    "#     println(\"\\n`try.ipynb` の `analyze_rank_changes` をテストします...\")\n",
    "#     try\n",
    "#         # 注意: この analyze_rank_changes は module_regret.jl のものを呼び出すので、\n",
    "#         # 上記セル6の結果 (analysis_results_test) が使われることになります。\n",
    "#         # ここでは、try.ipynb側の関数の呼び出し自体が通るかを確認する意味合いが強いです。\n",
    "#         results_from_try_nb = analyze_rank_changes(utility_data_test, method_weights_test, t_range_test)\n",
    "#         println(\"`try.ipynb` の `analyze_rank_changes` の結果の型: \", typeof(results_from_try_nb))\n",
    "#         # ここで results_from_try_nb.change_points などにアクセスしてみて、\n",
    "#         # try.ipynb と同じエラーが出るか確認するのも有効です。\n",
    "#         # 例: println(results_from_try_nb.change_points)\n",
    "#\n",
    "#         if results_from_try_nb !== nothing # または分析結果のダミーを使う\n",
    "#             println(\"\\n`try.ipynb` の `plot_rank_changes` をテストします...\")\n",
    "#             # plot_fig_test = plot_rank_changes(results_from_try_nb) # または analysis_results_test\n",
    "#             # display(plot_fig_test)\n",
    "#             # savefig(plot_fig_test, \"debug_plot.png\")\n",
    "#             println(\"プロット関数の呼び出しを試みました。\")\n",
    "#\n",
    "#             println(\"\\n`try.ipynb` の `save_results_to_csv` をテストします...\")\n",
    "#             # df_output_test = save_results_to_csv(results_from_try_nb, \"debug_output.csv\") # または analysis_results_test\n",
    "#             # display(df_output_test)\n",
    "#             println(\"CSV保存関数の呼び出しを試みました。\")\n",
    "#         else\n",
    "#             println(\"分析結果がないため、プロットとCSV保存のテストをスキップします。\")\n",
    "#         end\n",
    "#\n",
    "#     catch e\n",
    "#         println(\"エラー: `try.ipynb` で定義された関数のテスト中にエラー: \", sprint(showerror, e))\n",
    "#     end\n",
    "# else\n",
    "#     println(\"`try.ipynb` の関数定義がこのNotebookにコピーされていないか、テストデータが不足しています。\")\n",
    "# end\n",
    "println(\"`try.ipynb` で定義された関数のテスト完了セクション。\")\n",
    "\n",
    "\n",
    "println(\"\\n--- デバッグ用Notebookの処理終了 ---\")"
   ]
  }
 ],
 "metadata": {
  "kernelspec": {
   "display_name": "Julia 1.11.2",
   "language": "julia",
   "name": "julia-1.11"
  },
  "language_info": {
   "file_extension": ".jl",
   "mimetype": "application/julia",
   "name": "julia",
   "version": "1.11.2"
  }
 },
 "nbformat": 4,
 "nbformat_minor": 5
}
